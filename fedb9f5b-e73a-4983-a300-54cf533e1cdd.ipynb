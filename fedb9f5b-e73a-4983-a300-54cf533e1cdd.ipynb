{
 "cells": [
  {
   "cell_type": "markdown",
   "metadata": {
    "toc": true
   },
   "source": [
    "<h1>Содержание<span class=\"tocSkip\"></span></h1>\n",
    "<div class=\"toc\"><ul class=\"toc-item\"><li><span><a href=\"#Подготовка-данных\" data-toc-modified-id=\"Подготовка-данных-1\"><span class=\"toc-item-num\">1&nbsp;&nbsp;</span>Подготовка данных</a></span></li><li><span><a href=\"#Исследование-задачи\" data-toc-modified-id=\"Исследование-задачи-2\"><span class=\"toc-item-num\">2&nbsp;&nbsp;</span>Исследование задачи</a></span><ul class=\"toc-item\"><li><span><a href=\"#Смотрим-баланс-&quot;классов&quot;\" data-toc-modified-id=\"Смотрим-баланс-&quot;классов&quot;-2.1\"><span class=\"toc-item-num\">2.1&nbsp;&nbsp;</span>Смотрим баланс \"классов\"</a></span></li><li><span><a href=\"#Обучение-моделей\" data-toc-modified-id=\"Обучение-моделей-2.2\"><span class=\"toc-item-num\">2.2&nbsp;&nbsp;</span>Обучение моделей</a></span><ul class=\"toc-item\"><li><span><a href=\"#DecisionTreeClassifier\" data-toc-modified-id=\"DecisionTreeClassifier-2.2.1\"><span class=\"toc-item-num\">2.2.1&nbsp;&nbsp;</span>DecisionTreeClassifier</a></span></li><li><span><a href=\"#RandomForestClassifier\" data-toc-modified-id=\"RandomForestClassifier-2.2.2\"><span class=\"toc-item-num\">2.2.2&nbsp;&nbsp;</span>RandomForestClassifier</a></span></li><li><span><a href=\"#Логистическая-регрессия\" data-toc-modified-id=\"Логистическая-регрессия-2.2.3\"><span class=\"toc-item-num\">2.2.3&nbsp;&nbsp;</span>Логистическая регрессия</a></span></li></ul></li></ul></li><li><span><a href=\"#Борьба-с-дисбалансом\" data-toc-modified-id=\"Борьба-с-дисбалансом-3\"><span class=\"toc-item-num\">3&nbsp;&nbsp;</span>Борьба с дисбалансом</a></span><ul class=\"toc-item\"><li><span><a href=\"#Взвешивание-классов\" data-toc-modified-id=\"Взвешивание-классов-3.1\"><span class=\"toc-item-num\">3.1&nbsp;&nbsp;</span>Взвешивание классов</a></span></li><li><span><a href=\"#Увеличение-выборки\" data-toc-modified-id=\"Увеличение-выборки-3.2\"><span class=\"toc-item-num\">3.2&nbsp;&nbsp;</span>Увеличение выборки</a></span></li><li><span><a href=\"#Уменьшение-выборки\" data-toc-modified-id=\"Уменьшение-выборки-3.3\"><span class=\"toc-item-num\">3.3&nbsp;&nbsp;</span>Уменьшение выборки</a></span></li></ul></li><li><span><a href=\"#Тестирование-модели\" data-toc-modified-id=\"Тестирование-модели-4\"><span class=\"toc-item-num\">4&nbsp;&nbsp;</span>Тестирование модели</a></span></li><li><span><a href=\"#Чек-лист-готовности-проекта\" data-toc-modified-id=\"Чек-лист-готовности-проекта-5\"><span class=\"toc-item-num\">5&nbsp;&nbsp;</span>Чек-лист готовности проекта</a></span></li></ul></div>"
   ]
  },
  {
   "cell_type": "markdown",
   "metadata": {},
   "source": [
    "# Отток клиентов"
   ]
  },
  {
   "cell_type": "markdown",
   "metadata": {},
   "source": [
    "Из «Бета-Банка» стали уходить клиенты. Каждый месяц. Немного, но заметно. Банковские маркетологи посчитали: сохранять текущих клиентов дешевле, чем привлекать новых.\n",
    "\n",
    "Нужно спрогнозировать, уйдёт клиент из банка в ближайшее время или нет. Вам предоставлены исторические данные о поведении клиентов и расторжении договоров с банком. \n",
    "\n",
    "Постройте модель с предельно большим значением *F1*-меры. Чтобы сдать проект успешно, нужно довести метрику до 0.59. Проверьте *F1*-меру на тестовой выборке самостоятельно.\n",
    "\n",
    "Дополнительно измеряйте *AUC-ROC*, сравнивайте её значение с *F1*-мерой.\n",
    "\n",
    "Источник данных: [https://www.kaggle.com/barelydedicated/bank-customer-churn-modeling](https://www.kaggle.com/barelydedicated/bank-customer-churn-modeling)"
   ]
  },
  {
   "cell_type": "markdown",
   "metadata": {},
   "source": [
    "## Подготовка данных"
   ]
  },
  {
   "cell_type": "code",
   "execution_count": 1,
   "metadata": {},
   "outputs": [],
   "source": [
    "import pandas as pd\n",
    "import seaborn as sbn\n",
    "import matplotlib.pyplot as plt\n",
    "from sklearn.utils import shuffle\n",
    "from sklearn.model_selection import train_test_split\n",
    "from sklearn.metrics import f1_score, roc_auc_score, precision_score, recall_score\n",
    "from sklearn.tree import DecisionTreeClassifier\n",
    "from sklearn.ensemble import RandomForestClassifier\n",
    "from sklearn.linear_model import LogisticRegression"
   ]
  },
  {
   "cell_type": "code",
   "execution_count": 2,
   "metadata": {
    "scrolled": false
   },
   "outputs": [
    {
     "data": {
      "text/html": [
       "<div>\n",
       "<style scoped>\n",
       "    .dataframe tbody tr th:only-of-type {\n",
       "        vertical-align: middle;\n",
       "    }\n",
       "\n",
       "    .dataframe tbody tr th {\n",
       "        vertical-align: top;\n",
       "    }\n",
       "\n",
       "    .dataframe thead th {\n",
       "        text-align: right;\n",
       "    }\n",
       "</style>\n",
       "<table border=\"1\" class=\"dataframe\">\n",
       "  <thead>\n",
       "    <tr style=\"text-align: right;\">\n",
       "      <th></th>\n",
       "      <th>RowNumber</th>\n",
       "      <th>CustomerId</th>\n",
       "      <th>Surname</th>\n",
       "      <th>CreditScore</th>\n",
       "      <th>Geography</th>\n",
       "      <th>Gender</th>\n",
       "      <th>Age</th>\n",
       "      <th>Tenure</th>\n",
       "      <th>Balance</th>\n",
       "      <th>NumOfProducts</th>\n",
       "      <th>HasCrCard</th>\n",
       "      <th>IsActiveMember</th>\n",
       "      <th>EstimatedSalary</th>\n",
       "      <th>Exited</th>\n",
       "    </tr>\n",
       "  </thead>\n",
       "  <tbody>\n",
       "    <tr>\n",
       "      <th>0</th>\n",
       "      <td>1</td>\n",
       "      <td>15634602</td>\n",
       "      <td>Hargrave</td>\n",
       "      <td>619</td>\n",
       "      <td>France</td>\n",
       "      <td>Female</td>\n",
       "      <td>42</td>\n",
       "      <td>2.0</td>\n",
       "      <td>0.00</td>\n",
       "      <td>1</td>\n",
       "      <td>1</td>\n",
       "      <td>1</td>\n",
       "      <td>101348.88</td>\n",
       "      <td>1</td>\n",
       "    </tr>\n",
       "    <tr>\n",
       "      <th>1</th>\n",
       "      <td>2</td>\n",
       "      <td>15647311</td>\n",
       "      <td>Hill</td>\n",
       "      <td>608</td>\n",
       "      <td>Spain</td>\n",
       "      <td>Female</td>\n",
       "      <td>41</td>\n",
       "      <td>1.0</td>\n",
       "      <td>83807.86</td>\n",
       "      <td>1</td>\n",
       "      <td>0</td>\n",
       "      <td>1</td>\n",
       "      <td>112542.58</td>\n",
       "      <td>0</td>\n",
       "    </tr>\n",
       "    <tr>\n",
       "      <th>2</th>\n",
       "      <td>3</td>\n",
       "      <td>15619304</td>\n",
       "      <td>Onio</td>\n",
       "      <td>502</td>\n",
       "      <td>France</td>\n",
       "      <td>Female</td>\n",
       "      <td>42</td>\n",
       "      <td>8.0</td>\n",
       "      <td>159660.80</td>\n",
       "      <td>3</td>\n",
       "      <td>1</td>\n",
       "      <td>0</td>\n",
       "      <td>113931.57</td>\n",
       "      <td>1</td>\n",
       "    </tr>\n",
       "    <tr>\n",
       "      <th>3</th>\n",
       "      <td>4</td>\n",
       "      <td>15701354</td>\n",
       "      <td>Boni</td>\n",
       "      <td>699</td>\n",
       "      <td>France</td>\n",
       "      <td>Female</td>\n",
       "      <td>39</td>\n",
       "      <td>1.0</td>\n",
       "      <td>0.00</td>\n",
       "      <td>2</td>\n",
       "      <td>0</td>\n",
       "      <td>0</td>\n",
       "      <td>93826.63</td>\n",
       "      <td>0</td>\n",
       "    </tr>\n",
       "    <tr>\n",
       "      <th>4</th>\n",
       "      <td>5</td>\n",
       "      <td>15737888</td>\n",
       "      <td>Mitchell</td>\n",
       "      <td>850</td>\n",
       "      <td>Spain</td>\n",
       "      <td>Female</td>\n",
       "      <td>43</td>\n",
       "      <td>2.0</td>\n",
       "      <td>125510.82</td>\n",
       "      <td>1</td>\n",
       "      <td>1</td>\n",
       "      <td>1</td>\n",
       "      <td>79084.10</td>\n",
       "      <td>0</td>\n",
       "    </tr>\n",
       "  </tbody>\n",
       "</table>\n",
       "</div>"
      ],
      "text/plain": [
       "   RowNumber  CustomerId   Surname  CreditScore Geography  Gender  Age  \\\n",
       "0          1    15634602  Hargrave          619    France  Female   42   \n",
       "1          2    15647311      Hill          608     Spain  Female   41   \n",
       "2          3    15619304      Onio          502    France  Female   42   \n",
       "3          4    15701354      Boni          699    France  Female   39   \n",
       "4          5    15737888  Mitchell          850     Spain  Female   43   \n",
       "\n",
       "   Tenure    Balance  NumOfProducts  HasCrCard  IsActiveMember  \\\n",
       "0     2.0       0.00              1          1               1   \n",
       "1     1.0   83807.86              1          0               1   \n",
       "2     8.0  159660.80              3          1               0   \n",
       "3     1.0       0.00              2          0               0   \n",
       "4     2.0  125510.82              1          1               1   \n",
       "\n",
       "   EstimatedSalary  Exited  \n",
       "0        101348.88       1  \n",
       "1        112542.58       0  \n",
       "2        113931.57       1  \n",
       "3         93826.63       0  \n",
       "4         79084.10       0  "
      ]
     },
     "execution_count": 2,
     "metadata": {},
     "output_type": "execute_result"
    }
   ],
   "source": [
    "data = pd.read_csv('./Churn.csv')\n",
    "data.head()"
   ]
  },
  {
   "cell_type": "code",
   "execution_count": 3,
   "metadata": {},
   "outputs": [
    {
     "data": {
      "text/plain": [
       "RowNumber            0\n",
       "CustomerId           0\n",
       "Surname              0\n",
       "CreditScore          0\n",
       "Geography            0\n",
       "Gender               0\n",
       "Age                  0\n",
       "Tenure             909\n",
       "Balance              0\n",
       "NumOfProducts        0\n",
       "HasCrCard            0\n",
       "IsActiveMember       0\n",
       "EstimatedSalary      0\n",
       "Exited               0\n",
       "dtype: int64"
      ]
     },
     "execution_count": 3,
     "metadata": {},
     "output_type": "execute_result"
    }
   ],
   "source": [
    "data.isna().sum()"
   ]
  },
  {
   "cell_type": "markdown",
   "metadata": {},
   "source": [
    "Столбец <b>Tenure</b> содержит пропуски, заполним их на основе столбцов <b>Geography</b> и <b>Gender</b>, присвоив ему среднее значение."
   ]
  },
  {
   "cell_type": "code",
   "execution_count": 4,
   "metadata": {},
   "outputs": [
    {
     "data": {
      "image/png": "[encoded data removed]",
      "text/plain": [
       "<Figure size 640x480 with 1 Axes>"
      ]
     },
     "metadata": {},
     "output_type": "display_data"
    }
   ],
   "source": [
    "# проверяем распределение до заполнения пропусков\n",
    "data['Tenure'].hist()\n",
    "plt.title('Распределение по колонке Tenure')\n",
    "plt.xlabel('Tenure')\n",
    "plt.ylabel('Количество')\n",
    "plt.show()"
   ]
  },
  {
   "cell_type": "code",
   "execution_count": 5,
   "metadata": {},
   "outputs": [],
   "source": [
    "# заполняем пропуски средним значением\n",
    "data['Tenure'] = data['Tenure'].fillna(data['Tenure'].mean())\n",
    "\n",
    "# ниже код предназначен для экспиремента (см. 4 пункт Примечание автора)\n",
    "\n",
    "#data['Tenure'] = data['Tenure'].fillna(data.groupby(['Geography', 'Gender'])['Tenure'].transform('mean'))\n",
    "#data = data.dropna(subset=['Tenure'])\n",
    "#data['Tenure'] = data['Tenure'].fillna(data['Tenure'].mean())\n",
    "#data['Tenure'] = data['Tenure'].fillna(data['Tenure'].median())"
   ]
  },
  {
   "cell_type": "code",
   "execution_count": 6,
   "metadata": {},
   "outputs": [
    {
     "data": {
      "image/png": "[encoded data removed]",
      "text/plain": [
       "<Figure size 640x480 with 1 Axes>"
      ]
     },
     "metadata": {},
     "output_type": "display_data"
    }
   ],
   "source": [
    "# проверяем распределение после заполнения пропусков\n",
    "\n",
    "data['Tenure'].hist()\n",
    "plt.title('Новое распределение по колонке Tenure после восстановления')\n",
    "plt.xlabel('Tenure')\n",
    "plt.ylabel('Количество')\n",
    "plt.show()"
   ]
  },
  {
   "cell_type": "markdown",
   "metadata": {},
   "source": [
    "## Исследование задачи"
   ]
  },
  {
   "cell_type": "code",
   "execution_count": 7,
   "metadata": {},
   "outputs": [
    {
     "name": "stdout",
     "output_type": "stream",
     "text": [
      "<class 'pandas.core.frame.DataFrame'>\n",
      "RangeIndex: 10000 entries, 0 to 9999\n",
      "Data columns (total 14 columns):\n",
      " #   Column           Non-Null Count  Dtype  \n",
      "---  ------           --------------  -----  \n",
      " 0   RowNumber        10000 non-null  int64  \n",
      " 1   CustomerId       10000 non-null  int64  \n",
      " 2   Surname          10000 non-null  object \n",
      " 3   CreditScore      10000 non-null  int64  \n",
      " 4   Geography        10000 non-null  object \n",
      " 5   Gender           10000 non-null  object \n",
      " 6   Age              10000 non-null  int64  \n",
      " 7   Tenure           10000 non-null  float64\n",
      " 8   Balance          10000 non-null  float64\n",
      " 9   NumOfProducts    10000 non-null  int64  \n",
      " 10  HasCrCard        10000 non-null  int64  \n",
      " 11  IsActiveMember   10000 non-null  int64  \n",
      " 12  EstimatedSalary  10000 non-null  float64\n",
      " 13  Exited           10000 non-null  int64  \n",
      "dtypes: float64(3), int64(8), object(3)\n",
      "memory usage: 1.1+ MB\n"
     ]
    }
   ],
   "source": [
    "data.info()"
   ]
  },
  {
   "cell_type": "markdown",
   "metadata": {},
   "source": [
    "Есть два столбца <b>Geography</b> и <b>Gender</b>, которые являются строковыми. При помощи метода <b>One-Hot Encoding</b> преобразуем их в числовые:"
   ]
  },
  {
   "cell_type": "code",
   "execution_count": 8,
   "metadata": {},
   "outputs": [],
   "source": [
    "# используем One-Hot Encoding\n",
    "data = pd.get_dummies(data, columns=['Gender', 'Geography'], drop_first=True)"
   ]
  },
  {
   "cell_type": "markdown",
   "metadata": {},
   "source": [
    "Убираем колонки <b>RowNumber</b>, <b>CustomerId</b> и <b>Surname</b>, так как они дальше не потребуются."
   ]
  },
  {
   "cell_type": "code",
   "execution_count": 9,
   "metadata": {},
   "outputs": [],
   "source": [
    "data.drop(['RowNumber', 'CustomerId', 'Surname'], axis=1, inplace=True)"
   ]
  },
  {
   "cell_type": "markdown",
   "metadata": {},
   "source": [
    "### Смотрим баланс \"классов\""
   ]
  },
  {
   "cell_type": "code",
   "execution_count": 10,
   "metadata": {},
   "outputs": [
    {
     "data": {
      "text/plain": [
       "0    7963\n",
       "1    2037\n",
       "Name: Exited, dtype: int64"
      ]
     },
     "execution_count": 10,
     "metadata": {},
     "output_type": "execute_result"
    }
   ],
   "source": [
    "data['Exited'].value_counts()"
   ]
  },
  {
   "cell_type": "markdown",
   "metadata": {},
   "source": [
    "В анализируемой выборке количество тех, кто покинул банк заметно ниже (<b>в 4 раза</b>), чем тех кто - нет."
   ]
  },
  {
   "cell_type": "markdown",
   "metadata": {},
   "source": [
    "### Обучение моделей"
   ]
  },
  {
   "cell_type": "code",
   "execution_count": 11,
   "metadata": {},
   "outputs": [
    {
     "name": "stdout",
     "output_type": "stream",
     "text": [
      "Обучающая выборка: 6000\n",
      "Валидационная выборка: 2000\n",
      "Тестовая выборка: 2000\n"
     ]
    }
   ],
   "source": [
    "# нам нужно определить факт ухода клиента, либо да, либо нет - это классификация\n",
    "\n",
    "features = data.drop(['Exited'], axis=1)\n",
    "target = data['Exited']\n",
    "\n",
    "# делим для валидации\n",
    "features_train, features_valid, target_train, target_valid = train_test_split(features, target, test_size=0.4, random_state=12345)\n",
    "# делим для тестирования \n",
    "features_valid, features_test, target_valid, target_test = train_test_split(features_valid, target_valid, test_size=0.5, random_state=12345)\n",
    "\n",
    "# данные разделены в пропорции 3:1:1\n",
    "print(f'Обучающая выборка:', features_train.shape[0])\n",
    "print(f'Валидационная выборка:', features_test.shape[0])\n",
    "print(f'Тестовая выборка:', features_valid.shape[0])"
   ]
  },
  {
   "cell_type": "markdown",
   "metadata": {},
   "source": [
    "Построим три модели: \n",
    "* DecisionTreeClassifier - дерево решений\n",
    "* RandomForestClassifier - случайный лес\n",
    "* LogisticRegression - логистическая регрессия"
   ]
  },
  {
   "cell_type": "code",
   "execution_count": 12,
   "metadata": {},
   "outputs": [],
   "source": [
    "# создаём вспомогательные методы для хранения лучших метрик\n",
    "dict_score = {} # переменная для хранения метрик\n",
    "\n",
    "def best_score(classifier_name, score, method):\n",
    "    \"\"\"\n",
    "    Сохранение лучшей метрики для метода\n",
    "    \n",
    "    Параметры:\n",
    "    ----------\n",
    "    classifier_name: string - имя классификатора\n",
    "    score: float - значение метрики\n",
    "    method: string - метод или группа в рамках, которой производится вычисление \n",
    "    \"\"\"\n",
    "    item = dict_score.get(method)\n",
    "    if item:\n",
    "        if score > item[1]:\n",
    "            dict_score[method] = [classifier_name, score]\n",
    "    else:\n",
    "        dict_score[method] = [classifier_name, score]\n",
    "        \n",
    "def get_best_score(method):\n",
    "    \"\"\"\n",
    "    Получение лучшей метрики метода\n",
    "    \n",
    "    Параметры:\n",
    "    ----------\n",
    "    method: string - метод или группа в рамках, которой производится вычисление \n",
    "    \n",
    "    Результаты\n",
    "    ----------\n",
    "    classifier_name: string - имя классификатора\n",
    "    score: float - значение метрики\n",
    "    \"\"\"\n",
    "    item = dict_score.get(method)\n",
    "    if item:\n",
    "        return item[0], item[1]\n",
    "    else:\n",
    "        return 'unknown', 0.0\n",
    "\n",
    "def info_best_score(method):\n",
    "    \"\"\"\n",
    "    Вывод информации о наилучшей метрики\n",
    "    \n",
    "    Параметры:\n",
    "    ----------\n",
    "    method: string - метод или группа в рамках, которой производится вычисление \n",
    "    \"\"\"\n",
    "    classifier_name, score = get_best_score(method) \n",
    "    print(f'Вывод: наилучшую метрику F1-мера показал классификатор {classifier_name} со значением {round(score, 3)}')"
   ]
  },
  {
   "cell_type": "code",
   "execution_count": 13,
   "metadata": {},
   "outputs": [],
   "source": [
    "# создаём вспомогательные методы для анализа качества моделей DecisionTreeClassifier\n",
    "def decisionTreeClassifierScore(features_train, target_train, features_valid, target_valid, max_depth=20, class_weight=None):\n",
    "    \"\"\"Поиск оптимального качества модели DecisionTreeClassifier\n",
    "    \n",
    "    Параметры:\n",
    "    ----------\n",
    "    features_train: DataFrame - обучающая выборка\n",
    "    target_train: DataFrame - целевой признак обучающей выборки\n",
    "    features_valid: DataFrame - валидационная выборка\n",
    "    target_valid: DataFrame - целевой признак валидационной выборки\n",
    "    max_depth: int, default=20 - глубина обучения\n",
    "    class_weight: string, default=None - баланс классов\n",
    "    \n",
    "    Результаты\n",
    "    ----------\n",
    "    best_f1_score: array - метрика F1-меры\n",
    "    best_auc_roc_score: array - метрика AUC-ROC\n",
    "    chart_data: array - данные для построения графика\n",
    "    \"\"\"\n",
    "    best_f1_score = [0, 0] # F1-мера и Глубина\n",
    "    best_auc_roc_score = [0, 0] # AUC-ROC и Глубина\n",
    "    chart_data = []\n",
    "\n",
    "    for depth in range(1, max_depth, 1):\n",
    "        model = DecisionTreeClassifier(random_state=12345, max_depth=depth, class_weight=class_weight)\n",
    "        model.fit(features_train, target_train)\n",
    "\n",
    "        predictions = model.predict(features_valid)\n",
    "        f1 = f1_score(target_valid, predictions)\n",
    "\n",
    "        probabilities_valid = model.predict_proba(features_valid)\n",
    "        auc_roc = roc_auc_score(target_valid, probabilities_valid[:, 1])\n",
    "        \n",
    "        chart_data.append([depth, f1, auc_roc])\n",
    "\n",
    "        if f1 > best_f1_score[0]:\n",
    "            best_f1_score = [f1, depth]\n",
    "        \n",
    "        if auc_roc > best_auc_roc_score[0]:\n",
    "            best_auc_roc_score = [auc_roc, depth]\n",
    "    \n",
    "    return best_f1_score, best_auc_roc_score, chart_data\n",
    "\n",
    "def decisionTreeClassifierChart(data):\n",
    "    \"\"\"Построение визуального графика для просмотра качества модели DecisionTreeClassifier\n",
    "    \n",
    "    Параметры:\n",
    "    ----------\n",
    "    data: array - массив данных из трёх колонок: max_depth, F1-мера, AUC-ROC\n",
    "    \"\"\"\n",
    "    \n",
    "    df = pd.DataFrame(data, columns=['max_depth', 'f1', 'auc_roc'])\n",
    "    plt.title('Распределение метрик качества')\n",
    "    plt.xlabel('Глубина обучения')\n",
    "    plt.ylabel('Значение метрики')\n",
    "    plt.plot(df['max_depth'], df['f1'], label = \"F1-мера\")\n",
    "    plt.plot(df['max_depth'], df['auc_roc'], label = \"AUC-ROC\")\n",
    "    plt.legend()\n",
    "    plt.show()\n",
    "\n",
    "def decisionTreeClassifierInfo(f1_score, auc_roc_score):\n",
    "    \"\"\"Вывод\n",
    "    \n",
    "    Параметры:\n",
    "    ----------\n",
    "    f1_score: array - показатели для F1-меры\n",
    "    auc_roc_score: array - показатели для AUC-ROC \n",
    "    \"\"\"\n",
    "    print(f'''Для классификатора DecisionTreeClassifier:\n",
    " - лучшее качество F1-меры равно {round(f1_score[0], 3)}, которое было найдено при гиперпараметре max_depth равном {f1_score[1]};\n",
    " - лучшее качество AUC-ROC равно {round(auc_roc_score[0], 3)}, которое было найдено при гиперпараметре max_depth равном {auc_roc_score[1]}.''')"
   ]
  },
  {
   "cell_type": "markdown",
   "metadata": {},
   "source": [
    "#### DecisionTreeClassifier"
   ]
  },
  {
   "cell_type": "code",
   "execution_count": 14,
   "metadata": {},
   "outputs": [
    {
     "data": {
      "image/png": "[encoded data removed]",
      "text/plain": [
       "<Figure size 640x480 with 1 Axes>"
      ]
     },
     "metadata": {},
     "output_type": "display_data"
    }
   ],
   "source": [
    "# используем созданный ранее метод\n",
    "dtc_best_f1_score, dtc_best_auc_roc_score, chart_data = decisionTreeClassifierScore(features_train, target_train, features_valid, target_valid, max_depth=30)\n",
    "# строим график\n",
    "decisionTreeClassifierChart(chart_data)"
   ]
  },
  {
   "cell_type": "code",
   "execution_count": 15,
   "metadata": {},
   "outputs": [
    {
     "name": "stdout",
     "output_type": "stream",
     "text": [
      "Для классификатора DecisionTreeClassifier:\n",
      " - лучшее качество F1-меры равно 0.57, которое было найдено при гиперпараметре max_depth равном 6;\n",
      " - лучшее качество AUC-ROC равно 0.822, которое было найдено при гиперпараметре max_depth равном 5.\n"
     ]
    }
   ],
   "source": [
    "# сохраняем лучший результат\n",
    "best_score('DecisionTreeClassifier', dtc_best_f1_score[0], 'Без учёта дисбаланса')\n",
    "# вывод информации\n",
    "decisionTreeClassifierInfo(dtc_best_f1_score, dtc_best_auc_roc_score)"
   ]
  },
  {
   "cell_type": "markdown",
   "metadata": {},
   "source": [
    "#### RandomForestClassifier"
   ]
  },
  {
   "cell_type": "code",
   "execution_count": 16,
   "metadata": {},
   "outputs": [],
   "source": [
    "# создаём вспомогательные методы для анализа качества моделей RandomForestClassifier\n",
    "\n",
    "def randomForestClassifierScore(features_train, target_train, features_valid, target_valid, max_depth=10, n_estimators=30, class_weight=None):\n",
    "    \"\"\"Поиск оптимального качества модели RandomForestClassifier\n",
    "    \n",
    "    Параметры:\n",
    "    ----------\n",
    "    features_train: DataFrame - обучающая выборка\n",
    "    target_train: DataFrame - целевой признак обучающей выборки\n",
    "    features_valid: DataFrame - валидационная выборка\n",
    "    target_valid: DataFrame - целевой признак валидационной выборки\n",
    "    max_depth: int, default=10 - глубина обучения\n",
    "    n_estimators: int, default=30 - количество лесов\n",
    "    class_weight: string, default=None - баланс классов\n",
    "    \n",
    "    Результаты\n",
    "    ----------\n",
    "    best_f1_score: array - метрика F1-меры\n",
    "    best_auc_roc_score: array - метрика AUC-ROC\n",
    "    f1_chart_data: array - данные для построения графика по метрике F1-мера\n",
    "    f1_chart_data: array - данные для построения графика по метрике AUC-ROC\n",
    "    \"\"\"\n",
    "    \n",
    "    best_f1_score = [0, 0, 0] # F1-мера, Глубина и леса\n",
    "    best_auc_roc_score = [0, 0, 0] # AUC-ROC, Глубина и леса\n",
    "    f1_chart_data = []\n",
    "    auc_roc_chart_data = []\n",
    "    \n",
    "    for est in reversed(range(1, n_estimators, 2)):\n",
    "        f1_data = []\n",
    "        auc_roc_data = []\n",
    "\n",
    "        for depth in range(1, max_depth):\n",
    "            model = RandomForestClassifier(random_state=12345, n_estimators=est, max_depth=depth, class_weight=class_weight)\n",
    "            model.fit(features_train, target_train)\n",
    "\n",
    "            predictions = model.predict(features_valid)\n",
    "            f1 = f1_score(target_valid, predictions)\n",
    "\n",
    "            probabilities_valid = model.predict_proba(features_valid)\n",
    "            auc_roc = roc_auc_score(target_valid, probabilities_valid[:, 1])\n",
    "\n",
    "            if f1 > best_f1_score[0]:\n",
    "                best_f1_score = [f1, depth, est]\n",
    "\n",
    "            if auc_roc > best_auc_roc_score[0]:\n",
    "                best_auc_roc_score = [auc_roc, depth, est]\n",
    "\n",
    "            f1_data.append(f1)\n",
    "            auc_roc_data.append(auc_roc)\n",
    "\n",
    "        f1_chart_data.append(f1_data)\n",
    "        auc_roc_chart_data.append(auc_roc_data)\n",
    "\n",
    "    return best_f1_score, best_auc_roc_score, f1_chart_data, auc_roc_chart_data\n",
    "\n",
    "def randomForestClassifierChart(f1_data, auc_roc_data, max_depth=10, n_estimators=30):\n",
    "    \"\"\"Построение визуального графика для просмотра качества модели RandomForestClassifier\n",
    "    \n",
    "    Параметры:\n",
    "    ----------\n",
    "    f1_data: array - массив данных для метрики F1-мера\n",
    "    auc_roc_data: array - массив данных для метрики AUC-ROC\n",
    "    \"\"\"\n",
    "    \n",
    "    fig, axs = plt.subplots(ncols=2, nrows=1, figsize=(20, 6)) \n",
    "\n",
    "    df = pd.DataFrame(f1_data, index=list(reversed(range(1, n_estimators, 2))), columns=list(range(1, max_depth)))\n",
    "    sbn.heatmap(df, ax=axs[0])\n",
    "    axs[0].set_title('Распределение метрики F1-мера')\n",
    "    axs[0].set_xlabel('Глубина обучения')\n",
    "    axs[0].set_ylabel('Количество деревьев')\n",
    "\n",
    "    df = pd.DataFrame(auc_roc_data, index=list(reversed(range(1, n_estimators, 2))), columns=list(range(1, max_depth)))\n",
    "    sbn.heatmap(df, ax=axs[1])\n",
    "    axs[1].set_title('Распределение метрики AUC-ROC')\n",
    "    axs[1].set_xlabel('Глубина обучения')\n",
    "    axs[1].set_ylabel('Количество деревьев')\n",
    "\n",
    "    plt.show()\n",
    "\n",
    "def randomForestClassifierInfo(f1_score, auc_roc_score):\n",
    "    \"\"\"Вывод для модели RandomForestClassifier\n",
    "    \n",
    "    Параметры:\n",
    "    ----------\n",
    "    f1_score: array - показатели для F1-меры\n",
    "    auc_roc_score: array - показатели для AUC-ROC \n",
    "    \"\"\"\n",
    "    print(f'''Для классификатора RandomForestClassifier:\n",
    " - лучшее качество F1-меры равно {round(f1_score[0], 3)}, которое было найдено при гиперпараметрах n_estimators равном {round(f1_score[2], 3)} и max_depth равном {f1_score[1]};\n",
    " - лучшее качество AUC-ROC равно {round(auc_roc_score[0], 3)}, которое было найдено при гиперпараметрах n_estimators равном {round(auc_roc_score[2], 3)} и max_depth равном {auc_roc_score[1]}.''')"
   ]
  },
  {
   "cell_type": "code",
   "execution_count": 17,
   "metadata": {},
   "outputs": [
    {
     "data": {
      "image/png": "[encoded data removed]",
      "text/plain": [
       "<Figure size 2000x600 with 4 Axes>"
      ]
     },
     "metadata": {},
     "output_type": "display_data"
    }
   ],
   "source": [
    "# используем созданный ранее метод\n",
    "rfc_best_f1_score, rfc_best_auc_roc_score, f1_chart_data, auc_roc_chart_data = randomForestClassifierScore(features_train, target_train, features_valid, target_valid)\n",
    "# строим график\n",
    "randomForestClassifierChart(f1_chart_data, auc_roc_chart_data)"
   ]
  },
  {
   "cell_type": "code",
   "execution_count": 18,
   "metadata": {},
   "outputs": [
    {
     "name": "stdout",
     "output_type": "stream",
     "text": [
      "Для классификатора RandomForestClassifier:\n",
      " - лучшее качество F1-меры равно 0.584, которое было найдено при гиперпараметрах n_estimators равном 25 и max_depth равном 9;\n",
      " - лучшее качество AUC-ROC равно 0.852, которое было найдено при гиперпараметрах n_estimators равном 29 и max_depth равном 9.\n"
     ]
    }
   ],
   "source": [
    "# сохраняем лучший результат\n",
    "best_score('RandomForestClassifier', rfc_best_f1_score[0], 'Без учёта дисбаланса')\n",
    "# вывод информации\n",
    "randomForestClassifierInfo(rfc_best_f1_score, rfc_best_auc_roc_score)"
   ]
  },
  {
   "cell_type": "markdown",
   "metadata": {},
   "source": [
    "#### Логистическая регрессия"
   ]
  },
  {
   "cell_type": "code",
   "execution_count": 19,
   "metadata": {},
   "outputs": [],
   "source": [
    "# создаём вспомогательные методы для анализа качества моделей LogisticRegression\n",
    "\n",
    "def logisticRegressionScore(features_train, target_train, features_valid, target_valid, class_weight=None):\n",
    "    \"\"\"Поиск оптимального качества модели LogisticRegression\n",
    "    \n",
    "    Параметры:\n",
    "    ----------\n",
    "    features_train: DataFrame - обучающая выборка\n",
    "    target_train: DataFrame - целевой признак обучающей выборки\n",
    "    features_valid: DataFrame - валидационная выборка\n",
    "    target_valid: DataFrame - целевой признак валидационной выборки\n",
    "    class_weight: string, default=None - баланс классов\n",
    "    \n",
    "    Результаты\n",
    "    ----------\n",
    "    best_f1_score: int - метрика F1-меры\n",
    "    best_auc_roc_score: int - метрика AUC-ROC\n",
    "    other_score: array - метрики Precision и Recall\n",
    "    \"\"\"\n",
    "    \n",
    "    best_f1_score = 0 # F1-мера\n",
    "    best_auc_roc_score = 0 # AUC-ROC\n",
    "    other_score = [0, 0] # Precision, Recall\n",
    "    \n",
    "    model = LogisticRegression(random_state=12345, solver='lbfgs', max_iter=1000, class_weight=class_weight)\n",
    "    model.fit(features_train, target_train)\n",
    "\n",
    "    predictions = model.predict(features_valid)\n",
    "    best_f1_score = f1_score(target_valid, predictions)\n",
    "    other_score = [precision_score(target_valid, predictions), recall_score(target_valid, predictions)]\n",
    "    \n",
    "    probabilities_valid = model.predict_proba(features_valid)\n",
    "    best_auc_roc_score = roc_auc_score(target_valid, probabilities_valid[:, 1])\n",
    "\n",
    "    return best_f1_score, best_auc_roc_score, other_score\n",
    "\n",
    "def logisticRegressionInfo(f1_score, auc_roc_score):\n",
    "    \"\"\"Вывод для модели LogisticRegression\n",
    "    \n",
    "    Параметры:\n",
    "    ----------\n",
    "    f1_score: array - показатели для F1-меры\n",
    "    auc_roc_score: array - показатели для AUC-ROC \n",
    "    \"\"\"\n",
    "    print(f'''Для классификатора LogisticRegression:\n",
    " - лучшее качество F1-меры равно {round(f1_score, 3)};\n",
    " - лучшее качество AUC-ROC равно {round(auc_roc_score, 3)}.''')"
   ]
  },
  {
   "cell_type": "code",
   "execution_count": 20,
   "metadata": {},
   "outputs": [],
   "source": [
    "lr_best_f1_score, lr_best_auc_roc_score, lr_other_score = logisticRegressionScore(features_train, target_train, features_valid, target_valid)"
   ]
  },
  {
   "cell_type": "code",
   "execution_count": 21,
   "metadata": {},
   "outputs": [
    {
     "name": "stdout",
     "output_type": "stream",
     "text": [
      "Для классификатора LogisticRegression:\n",
      " - лучшее качество F1-меры равно 0.088;\n",
      " - лучшее качество AUC-ROC равно 0.674.\n"
     ]
    }
   ],
   "source": [
    "# сохраняем лучший результат\n",
    "best_score('LogisticRegression', lr_best_f1_score, 'Без учёта дисбаланса')\n",
    "# вывод информации\n",
    "logisticRegressionInfo(lr_best_f1_score, lr_best_auc_roc_score)"
   ]
  },
  {
   "cell_type": "markdown",
   "metadata": {},
   "source": [
    "<b>Примечание</b>: в данном классификаторе метрика F1-мера, значительно ниже AUC-ROC. Это зависит от того, что данная метрика основана на метриках \"Полнота\" и \"Точность\". При более подробном анализе выяснилось, что \"Полнота\" равна значению близкому к 0."
   ]
  },
  {
   "cell_type": "code",
   "execution_count": 22,
   "metadata": {},
   "outputs": [
    {
     "name": "stdout",
     "output_type": "stream",
     "text": [
      "Полнота = 0.05\n",
      "Точность = 0.35\n"
     ]
    }
   ],
   "source": [
    "print(f\"\"\"Полнота = {round(lr_other_score[1], 3)}\\nТочность = {round(lr_other_score[0], 3)}\"\"\")"
   ]
  },
  {
   "cell_type": "code",
   "execution_count": 23,
   "metadata": {},
   "outputs": [
    {
     "name": "stdout",
     "output_type": "stream",
     "text": [
      "Вывод: наилучшую метрику F1-мера показал классификатор RandomForestClassifier со значением 0.584\n"
     ]
    }
   ],
   "source": [
    "info_best_score('Без учёта дисбаланса')"
   ]
  },
  {
   "cell_type": "markdown",
   "metadata": {},
   "source": [
    "## Борьба с дисбалансом"
   ]
  },
  {
   "cell_type": "markdown",
   "metadata": {},
   "source": [
    "Для решения проблем с дисбалансом класс <b>Exited</b> воспользуемся следующими методами:\n",
    "* Взвешивание классов\n",
    "* Увеличение выборки\n",
    "* Уменьшение выборки"
   ]
  },
  {
   "cell_type": "markdown",
   "metadata": {},
   "source": [
    "### Взвешивание классов"
   ]
  },
  {
   "cell_type": "code",
   "execution_count": 24,
   "metadata": {
    "scrolled": true
   },
   "outputs": [
    {
     "data": {
      "image/png": "[encoded data removed]",
      "text/plain": [
       "<Figure size 640x480 with 1 Axes>"
      ]
     },
     "metadata": {},
     "output_type": "display_data"
    },
    {
     "name": "stdout",
     "output_type": "stream",
     "text": [
      "Для классификатора DecisionTreeClassifier:\n",
      " - лучшее качество F1-меры равно 0.596, которое было найдено при гиперпараметре max_depth равном 5;\n",
      " - лучшее качество AUC-ROC равно 0.831, которое было найдено при гиперпараметре max_depth равном 5.\n"
     ]
    }
   ],
   "source": [
    "# используем созданный ранее метод\n",
    "dtc_balance_best_f1_score, dtc_balance_best_auc_roc_score, chart_data = decisionTreeClassifierScore(features_train, target_train, features_valid, target_valid, 20, class_weight='balanced')\n",
    "# строим график\n",
    "decisionTreeClassifierChart(chart_data)\n",
    "\n",
    "# сохраняем лучший результат\n",
    "best_score('DecisionTreeClassifier', dtc_balance_best_f1_score[0], 'Взвешивание классов')\n",
    "# вывод информации\n",
    "decisionTreeClassifierInfo(dtc_balance_best_f1_score, dtc_balance_best_auc_roc_score)"
   ]
  },
  {
   "cell_type": "code",
   "execution_count": 25,
   "metadata": {},
   "outputs": [
    {
     "data": {
      "image/png": "[encoded data removed]",
      "text/plain": [
       "<Figure size 2000x600 with 4 Axes>"
      ]
     },
     "metadata": {},
     "output_type": "display_data"
    },
    {
     "name": "stdout",
     "output_type": "stream",
     "text": [
      "Для классификатора RandomForestClassifier:\n",
      " - лучшее качество F1-меры равно 0.628, которое было найдено при гиперпараметрах n_estimators равном 27 и max_depth равном 9;\n",
      " - лучшее качество AUC-ROC равно 0.851, которое было найдено при гиперпараметрах n_estimators равном 21 и max_depth равном 8.\n"
     ]
    }
   ],
   "source": [
    "# используем созданный ранее метод\n",
    "rfc_balance_best_f1_score, rfc_balance_best_auc_roc_score, f1_chart_data, auc_roc_chart_data = randomForestClassifierScore(features_train, target_train, features_valid, target_valid, class_weight='balanced')\n",
    "# строим график\n",
    "randomForestClassifierChart(f1_chart_data, auc_roc_chart_data)\n",
    "\n",
    "# сохраняем лучший результат\n",
    "best_score('RandomForestClassifier', rfc_balance_best_f1_score[0], 'Взвешивание классов')\n",
    "# вывод информации\n",
    "randomForestClassifierInfo(rfc_balance_best_f1_score, rfc_balance_best_auc_roc_score)"
   ]
  },
  {
   "cell_type": "code",
   "execution_count": 26,
   "metadata": {},
   "outputs": [
    {
     "name": "stdout",
     "output_type": "stream",
     "text": [
      "Для классификатора LogisticRegression:\n",
      " - лучшее качество F1-меры равно 0.447;\n",
      " - лучшее качество AUC-ROC равно 0.713.\n"
     ]
    }
   ],
   "source": [
    "# используем созданный ранее метод\n",
    "lr_balance_best_f1_score, lr_balance_best_auc_roc_score, lr_balance_other_score = logisticRegressionScore(features_train, target_train, features_valid, target_valid, class_weight='balanced')\n",
    "# сохраняем лучший результат\n",
    "best_score('LogisticRegression', lr_balance_best_f1_score, 'Взвешивание классов')\n",
    "# вывод информации\n",
    "logisticRegressionInfo(lr_balance_best_f1_score, lr_balance_best_auc_roc_score)"
   ]
  },
  {
   "cell_type": "markdown",
   "metadata": {},
   "source": [
    "<b>Примечание</b>: значение метрики F1-мера стало гораздо лучше"
   ]
  },
  {
   "cell_type": "code",
   "execution_count": 27,
   "metadata": {},
   "outputs": [
    {
     "name": "stdout",
     "output_type": "stream",
     "text": [
      "Полнота = 0.672\n",
      "Точность = 0.335\n"
     ]
    }
   ],
   "source": [
    "print(f\"\"\"Полнота = {round(lr_balance_other_score[1], 3)}\\nТочность = {round(lr_balance_other_score[0], 3)}\"\"\")"
   ]
  },
  {
   "cell_type": "code",
   "execution_count": 28,
   "metadata": {},
   "outputs": [
    {
     "name": "stdout",
     "output_type": "stream",
     "text": [
      "Вывод: наилучшую метрику F1-мера показал классификатор RandomForestClassifier со значением 0.628\n"
     ]
    }
   ],
   "source": [
    "info_best_score('Взвешивание классов')"
   ]
  },
  {
   "cell_type": "markdown",
   "metadata": {},
   "source": [
    "### Увеличение выборки"
   ]
  },
  {
   "cell_type": "code",
   "execution_count": 29,
   "metadata": {},
   "outputs": [],
   "source": [
    "def upsample(features, target, repeat):\n",
    "    features_zeros = features[target == 0]\n",
    "    features_ones = features[target == 1]\n",
    "    target_zeros = target[target == 0]\n",
    "    target_ones = target[target == 1]\n",
    "    \n",
    "    # увеличение делается для выборок у которых целевой признак 1\n",
    "    features_upsampled = pd.concat([features_zeros] + [features_ones] * repeat)\n",
    "    target_upsampled = pd.concat([target_zeros] + [target_ones] * repeat)\n",
    "    \n",
    "    features_upsampled, target_upsampled = shuffle(\n",
    "        features_upsampled, target_upsampled, random_state=12345)\n",
    "    \n",
    "    return features_upsampled, target_upsampled"
   ]
  },
  {
   "cell_type": "code",
   "execution_count": 30,
   "metadata": {},
   "outputs": [
    {
     "data": {
      "text/plain": [
       "0    4804\n",
       "1    4784\n",
       "Name: Exited, dtype: int64"
      ]
     },
     "execution_count": 30,
     "metadata": {},
     "output_type": "execute_result"
    }
   ],
   "source": [
    "# увеличиваем в 4 раза\n",
    "features_upsampled, target_upsampled = upsample(features_train, target_train, 4)\n",
    "\n",
    "# проверяем текущий баланс\n",
    "target_upsampled.value_counts()"
   ]
  },
  {
   "cell_type": "markdown",
   "metadata": {},
   "source": [
    "Проверяем новые данные:"
   ]
  },
  {
   "cell_type": "code",
   "execution_count": 31,
   "metadata": {},
   "outputs": [
    {
     "data": {
      "image/png": "[encoded data removed]",
      "text/plain": [
       "<Figure size 640x480 with 1 Axes>"
      ]
     },
     "metadata": {},
     "output_type": "display_data"
    },
    {
     "name": "stdout",
     "output_type": "stream",
     "text": [
      "Для классификатора DecisionTreeClassifier:\n",
      " - лучшее качество F1-меры равно 0.596, которое было найдено при гиперпараметре max_depth равном 5;\n",
      " - лучшее качество AUC-ROC равно 0.831, которое было найдено при гиперпараметре max_depth равном 5.\n"
     ]
    }
   ],
   "source": [
    "# используем созданный ранее метод\n",
    "dtc_upsample_best_f1_score, dtc_upsample_best_auc_roc_score, chart_data = decisionTreeClassifierScore(features_upsampled, target_upsampled, features_valid, target_valid, 20)\n",
    "# строим график\n",
    "decisionTreeClassifierChart(chart_data)\n",
    "\n",
    "# сохраняем лучший результат\n",
    "best_score('DecisionTreeClassifier', dtc_upsample_best_f1_score[0], 'Увеличение выборки')\n",
    "# вывод информации\n",
    "decisionTreeClassifierInfo(dtc_upsample_best_f1_score, dtc_upsample_best_auc_roc_score)"
   ]
  },
  {
   "cell_type": "code",
   "execution_count": 32,
   "metadata": {},
   "outputs": [
    {
     "data": {
      "image/png": "[encoded data removed]",
      "text/plain": [
       "<Figure size 2000x600 with 4 Axes>"
      ]
     },
     "metadata": {},
     "output_type": "display_data"
    },
    {
     "name": "stdout",
     "output_type": "stream",
     "text": [
      "Для классификатора RandomForestClassifier:\n",
      " - лучшее качество F1-меры равно 0.625, которое было найдено при гиперпараметрах n_estimators равном 21 и max_depth равном 7;\n",
      " - лучшее качество AUC-ROC равно 0.853, которое было найдено при гиперпараметрах n_estimators равном 25 и max_depth равном 7.\n"
     ]
    }
   ],
   "source": [
    "# используем созданный ранее метод\n",
    "rfc_upsample_best_f1_score, rfc_upsample_best_auc_roc_score, f1_chart_data, auc_roc_chart_data = randomForestClassifierScore(features_upsampled, target_upsampled, features_valid, target_valid)\n",
    "# строим график\n",
    "randomForestClassifierChart(f1_chart_data, auc_roc_chart_data)\n",
    "\n",
    "# сохраняем лучший результат\n",
    "best_score('RandomForestClassifier', rfc_upsample_best_f1_score[0], 'Увеличение выборки')\n",
    "# вывод информации\n",
    "randomForestClassifierInfo(rfc_upsample_best_f1_score, rfc_upsample_best_auc_roc_score)"
   ]
  },
  {
   "cell_type": "code",
   "execution_count": 33,
   "metadata": {},
   "outputs": [
    {
     "name": "stdout",
     "output_type": "stream",
     "text": [
      "Для классификатора LogisticRegression:\n",
      " - лучшее качество F1-меры равно 0.447;\n",
      " - лучшее качество AUC-ROC равно 0.713.\n"
     ]
    }
   ],
   "source": [
    "# используем созданный ранее метод\n",
    "lr_upsample_best_f1_score, lr_upsample_best_auc_roc_score, lr_upsample_other_score = logisticRegressionScore(features_upsampled, target_upsampled, features_valid, target_valid, class_weight='balanced')\n",
    "\n",
    "# сохраняем лучший результат\n",
    "best_score('LogisticRegression', lr_upsample_best_f1_score, 'Увеличение выборки')\n",
    "# вывод информации\n",
    "logisticRegressionInfo(lr_upsample_best_f1_score, lr_upsample_best_auc_roc_score)"
   ]
  },
  {
   "cell_type": "code",
   "execution_count": 34,
   "metadata": {},
   "outputs": [
    {
     "name": "stdout",
     "output_type": "stream",
     "text": [
      "Вывод: наилучшую метрику F1-мера показал классификатор RandomForestClassifier со значением 0.625\n"
     ]
    }
   ],
   "source": [
    "info_best_score('Увеличение выборки')"
   ]
  },
  {
   "cell_type": "markdown",
   "metadata": {},
   "source": [
    "### Уменьшение выборки"
   ]
  },
  {
   "cell_type": "code",
   "execution_count": 35,
   "metadata": {},
   "outputs": [],
   "source": [
    "def downsample(features, target, fraction):\n",
    "    features_zeros = features[target == 0]\n",
    "    features_ones = features[target == 1]\n",
    "    target_zeros = target[target == 0]\n",
    "    target_ones = target[target == 1]\n",
    "\n",
    "    features_downsampled = pd.concat(\n",
    "        [features_zeros.sample(frac=fraction, random_state=12345)] + [features_ones])\n",
    "    target_downsampled = pd.concat(\n",
    "        [target_zeros.sample(frac=fraction, random_state=12345)] + [target_ones])\n",
    "    \n",
    "    features_downsampled, target_downsampled = shuffle(\n",
    "        features_downsampled, target_downsampled, random_state=12345)\n",
    "    \n",
    "    return features_downsampled, target_downsampled"
   ]
  },
  {
   "cell_type": "code",
   "execution_count": 36,
   "metadata": {},
   "outputs": [
    {
     "data": {
      "text/plain": [
       "0    1201\n",
       "1    1196\n",
       "Name: Exited, dtype: int64"
      ]
     },
     "execution_count": 36,
     "metadata": {},
     "output_type": "execute_result"
    }
   ],
   "source": [
    "features_downsampled, target_downsampled = downsample(features_train, target_train, 0.25)\n",
    "\n",
    "# проверяем текущий баланс\n",
    "target_downsampled.value_counts()"
   ]
  },
  {
   "cell_type": "code",
   "execution_count": 37,
   "metadata": {},
   "outputs": [
    {
     "data": {
      "image/png": "[encoded data removed]",
      "text/plain": [
       "<Figure size 640x480 with 1 Axes>"
      ]
     },
     "metadata": {},
     "output_type": "display_data"
    },
    {
     "name": "stdout",
     "output_type": "stream",
     "text": [
      "Для классификатора DecisionTreeClassifier:\n",
      " - лучшее качество F1-меры равно 0.595, которое было найдено при гиперпараметре max_depth равном 5;\n",
      " - лучшее качество AUC-ROC равно 0.824, которое было найдено при гиперпараметре max_depth равном 5.\n"
     ]
    }
   ],
   "source": [
    "# используем созданный ранее метод\n",
    "dtc_downsample_best_f1_score, dtc_downsample_best_auc_roc_score, chart_data = decisionTreeClassifierScore(features_downsampled, target_downsampled, features_valid, target_valid, 20)\n",
    "# строим график\n",
    "decisionTreeClassifierChart(chart_data)\n",
    "\n",
    "# сохраняем лучший результат\n",
    "best_score('DecisionTreeClassifier', dtc_downsample_best_f1_score[0], 'Уменьшение выборки')\n",
    "# вывод информации\n",
    "decisionTreeClassifierInfo(dtc_downsample_best_f1_score, dtc_downsample_best_auc_roc_score)"
   ]
  },
  {
   "cell_type": "code",
   "execution_count": 38,
   "metadata": {},
   "outputs": [
    {
     "data": {
      "image/png": "[encoded data removed]",
      "text/plain": [
       "<Figure size 2000x600 with 4 Axes>"
      ]
     },
     "metadata": {},
     "output_type": "display_data"
    },
    {
     "name": "stdout",
     "output_type": "stream",
     "text": [
      "Для классификатора RandomForestClassifier:\n",
      " - лучшее качество F1-меры равно 0.603, которое было найдено при гиперпараметрах n_estimators равном 13 и max_depth равном 8;\n",
      " - лучшее качество AUC-ROC равно 0.845, которое было найдено при гиперпараметрах n_estimators равном 29 и max_depth равном 6.\n"
     ]
    }
   ],
   "source": [
    "# используем созданный ранее метод\n",
    "rfc_downsample_best_f1_score, rfc_downsample_best_auc_roc_score, f1_chart_data, auc_roc_chart_data = randomForestClassifierScore(features_downsampled, target_downsampled, features_valid, target_valid)\n",
    "# строим график\n",
    "randomForestClassifierChart(f1_chart_data, auc_roc_chart_data)\n",
    "\n",
    "# сохраняем лучший результат\n",
    "best_score('RandomForestClassifier', rfc_downsample_best_f1_score[0], 'Уменьшение выборки')\n",
    "# вывод информации\n",
    "randomForestClassifierInfo(rfc_downsample_best_f1_score, rfc_downsample_best_auc_roc_score)"
   ]
  },
  {
   "cell_type": "code",
   "execution_count": 39,
   "metadata": {},
   "outputs": [
    {
     "name": "stdout",
     "output_type": "stream",
     "text": [
      "Для классификатора LogisticRegression:\n",
      " - лучшее качество F1-меры равно 0.448;\n",
      " - лучшее качество AUC-ROC равно 0.712.\n"
     ]
    }
   ],
   "source": [
    "# используем созданный ранее метод\n",
    "lr_downsample_best_f1_score, lr_downsample_best_auc_roc_score, lr_upsample_other_score = logisticRegressionScore(features_downsampled, target_downsampled, features_valid, target_valid, class_weight='balanced')\n",
    "\n",
    "# сохраняем лучший результат\n",
    "best_score('LogisticRegression', lr_downsample_best_f1_score, 'Уменьшение выборки')\n",
    "# вывод информации\n",
    "logisticRegressionInfo(lr_downsample_best_f1_score, lr_downsample_best_auc_roc_score)"
   ]
  },
  {
   "cell_type": "code",
   "execution_count": 40,
   "metadata": {},
   "outputs": [
    {
     "name": "stdout",
     "output_type": "stream",
     "text": [
      "Вывод: наилучшую метрику F1-мера показал классификатор RandomForestClassifier со значением 0.603\n"
     ]
    }
   ],
   "source": [
    "info_best_score('Уменьшение выборки')"
   ]
  },
  {
   "cell_type": "markdown",
   "metadata": {},
   "source": [
    "## Тестирование модели"
   ]
  },
  {
   "cell_type": "code",
   "execution_count": 41,
   "metadata": {},
   "outputs": [
    {
     "name": "stdout",
     "output_type": "stream",
     "text": [
      "Лучшую метрику F1-мера 0.628 показал метод \"Взвешивание классов\" с классификатором RandomForestClassifier.\n"
     ]
    }
   ],
   "source": [
    "# получаем лучшую метрику\n",
    "best_method = 'unknown'\n",
    "best_classifier = 'unknown'\n",
    "best_score_method = 0\n",
    "\n",
    "for method in dict_score:\n",
    "    item = get_best_score(method)\n",
    "    if item[1] > best_score_method:\n",
    "        best_score_method = item[1]\n",
    "        best_classifier = item[0]\n",
    "        best_method = method\n",
    "        \n",
    "print(f'Лучшую метрику F1-мера {round(best_score_method, 3)} показал метод \"{best_method}\" с классификатором {best_classifier}.')"
   ]
  },
  {
   "cell_type": "code",
   "execution_count": 42,
   "metadata": {},
   "outputs": [
    {
     "name": "stdout",
     "output_type": "stream",
     "text": [
      "Значение гиперпараметров лучшей модели: max_depth=9 и n_estimators=27\n"
     ]
    }
   ],
   "source": [
    "best_max_depth = rfc_balance_best_f1_score[1]\n",
    "best_estimators = rfc_balance_best_f1_score[2]\n",
    "\n",
    "print(f'Значение гиперпараметров лучшей модели: max_depth={best_max_depth} и n_estimators={best_estimators}')"
   ]
  },
  {
   "cell_type": "code",
   "execution_count": 43,
   "metadata": {},
   "outputs": [
    {
     "name": "stdout",
     "output_type": "stream",
     "text": [
      "F1-мера = 0.6104046242774566\n",
      "AUC-ROC = 0.8494957808089394\n"
     ]
    }
   ],
   "source": [
    "model = RandomForestClassifier(random_state=12345, n_estimators=best_estimators, max_depth=best_max_depth, class_weight='balanced')\n",
    "model.fit(features_train, target_train)\n",
    "\n",
    "predictions = model.predict(features_test)\n",
    "f1 = f1_score(target_test, predictions)\n",
    "\n",
    "print(f'F1-мера =', f1)\n",
    "\n",
    "probabilities_valid = model.predict_proba(features_test)\n",
    "auc_roc = roc_auc_score(target_test, probabilities_valid[:, 1])\n",
    "\n",
    "print(f'AUC-ROC =', auc_roc)"
   ]
  },
  {
   "cell_type": "markdown",
   "metadata": {},
   "source": [
    "<b>Общий вывод</b>: Наилучшее качество метрики F1-мера во всех экспериментах показывает классификатор RandomForestClassifier. Но он так же является самым трудозатратным по времени. Классификатор LogisticRegression показывает самые низкие результаты этой метрики, но при этом, как показало \"обучение\" он хорошо реагирует на присутствие \"дисбаланса класса\".\n",
    "\n",
    "<i>Примечание автора</i>: итоговое качество F1-мера очень сильно зависит от того, как будут заполнены пропуски:\n",
    "* строки с пропусками будут удалены - 0.600265604249668\n",
    "* пропуски заполняются средним значением - 0.6057142857142858\n",
    "* пропуски заполняются медианным значением - 0.5889447236180904"
   ]
  },
  {
   "cell_type": "markdown",
   "metadata": {},
   "source": [
    "## Чек-лист готовности проекта"
   ]
  },
  {
   "cell_type": "markdown",
   "metadata": {},
   "source": [
    "Поставьте 'x' в выполненных пунктах. Далее нажмите Shift+Enter."
   ]
  },
  {
   "cell_type": "markdown",
   "metadata": {},
   "source": [
    "- [x]  Jupyter Notebook открыт\n",
    "- [x]  Весь код выполняется без ошибок\n",
    "- [x]  Ячейки с кодом расположены в порядке исполнения\n",
    "- [x]  Выполнен шаг 1: данные подготовлены\n",
    "- [x]  Выполнен шаг 2: задача исследована\n",
    "    - [x]  Исследован баланс классов\n",
    "    - [x]  Изучены модели без учёта дисбаланса\n",
    "    - [x]  Написаны выводы по результатам исследования\n",
    "- [x]  Выполнен шаг 3: учтён дисбаланс\n",
    "    - [x]  Применено несколько способов борьбы с дисбалансом\n",
    "    - [x]  Написаны выводы по результатам исследования\n",
    "- [x]  Выполнен шаг 4: проведено тестирование\n",
    "- [x]  Удалось достичь *F1*-меры не менее 0.59\n",
    "- [x]  Исследована метрика *AUC-ROC*"
   ]
  },
  {
   "cell_type": "code",
   "execution_count": null,
   "metadata": {},
   "outputs": [],
   "source": []
  }
 ],
 "metadata": {
  "ExecuteTimeLog": [
   {
    "duration": 569,
    "start_time": "2022-11-14T03:23:04.518Z"
   },
   {
    "duration": 66,
    "start_time": "2022-11-14T03:23:14.479Z"
   },
   {
    "duration": 55,
    "start_time": "2022-11-14T03:23:32.523Z"
   },
   {
    "duration": 5,
    "start_time": "2022-11-14T03:27:07.085Z"
   },
   {
    "duration": 5,
    "start_time": "2022-11-14T03:30:01.385Z"
   },
   {
    "duration": 5,
    "start_time": "2022-11-14T03:30:08.933Z"
   },
   {
    "duration": 6,
    "start_time": "2022-11-14T03:30:24.574Z"
   },
   {
    "duration": 29,
    "start_time": "2022-11-14T03:32:54.292Z"
   },
   {
    "duration": 7,
    "start_time": "2022-11-14T03:55:35.838Z"
   },
   {
    "duration": 29,
    "start_time": "2022-11-14T03:55:41.932Z"
   },
   {
    "duration": 9,
    "start_time": "2022-11-14T03:55:48.277Z"
   },
   {
    "duration": 55,
    "start_time": "2022-11-14T03:56:17.573Z"
   },
   {
    "duration": 21,
    "start_time": "2022-11-14T03:56:35.071Z"
   },
   {
    "duration": 586,
    "start_time": "2022-11-14T03:59:12.986Z"
   },
   {
    "duration": 10,
    "start_time": "2022-11-14T03:59:26.947Z"
   },
   {
    "duration": 143,
    "start_time": "2022-11-14T03:59:27.866Z"
   },
   {
    "duration": 58,
    "start_time": "2022-11-14T03:59:51.852Z"
   },
   {
    "duration": 143,
    "start_time": "2022-11-14T03:59:52.642Z"
   },
   {
    "duration": 10,
    "start_time": "2022-11-14T03:59:54.114Z"
   },
   {
    "duration": 167,
    "start_time": "2022-11-14T03:59:55.138Z"
   },
   {
    "duration": 62,
    "start_time": "2022-11-14T04:00:07.298Z"
   },
   {
    "duration": 239,
    "start_time": "2022-11-14T04:00:08.075Z"
   },
   {
    "duration": 9,
    "start_time": "2022-11-14T04:00:09.194Z"
   },
   {
    "duration": 162,
    "start_time": "2022-11-14T04:00:10.043Z"
   },
   {
    "duration": 70,
    "start_time": "2022-11-14T04:01:05.721Z"
   },
   {
    "duration": 142,
    "start_time": "2022-11-14T04:01:06.610Z"
   },
   {
    "duration": 7,
    "start_time": "2022-11-14T04:01:09.995Z"
   },
   {
    "duration": 165,
    "start_time": "2022-11-14T04:01:10.785Z"
   },
   {
    "duration": 71,
    "start_time": "2022-11-14T04:01:31.600Z"
   },
   {
    "duration": 137,
    "start_time": "2022-11-14T04:01:32.268Z"
   },
   {
    "duration": 8,
    "start_time": "2022-11-14T04:01:33.271Z"
   },
   {
    "duration": 143,
    "start_time": "2022-11-14T04:01:34.001Z"
   },
   {
    "duration": 57,
    "start_time": "2022-11-14T04:02:14.664Z"
   },
   {
    "duration": 153,
    "start_time": "2022-11-14T04:02:15.352Z"
   },
   {
    "duration": 8,
    "start_time": "2022-11-14T04:02:16.688Z"
   },
   {
    "duration": 144,
    "start_time": "2022-11-14T04:02:17.888Z"
   },
   {
    "duration": 56,
    "start_time": "2022-11-14T04:06:36.998Z"
   },
   {
    "duration": 141,
    "start_time": "2022-11-14T04:06:37.667Z"
   },
   {
    "duration": 8,
    "start_time": "2022-11-14T04:06:38.438Z"
   },
   {
    "duration": 143,
    "start_time": "2022-11-14T04:06:39.190Z"
   },
   {
    "duration": 5,
    "start_time": "2022-11-14T04:15:21.689Z"
   },
   {
    "duration": 1266,
    "start_time": "2022-11-14T04:18:22.526Z"
   },
   {
    "duration": 57,
    "start_time": "2022-11-14T04:19:13.413Z"
   },
   {
    "duration": 133,
    "start_time": "2022-11-14T04:19:13.885Z"
   },
   {
    "duration": 7,
    "start_time": "2022-11-14T04:19:14.582Z"
   },
   {
    "duration": 212,
    "start_time": "2022-11-14T04:19:15.376Z"
   },
   {
    "duration": 23,
    "start_time": "2022-11-14T04:19:18.174Z"
   },
   {
    "duration": 14,
    "start_time": "2022-11-14T04:19:50.370Z"
   },
   {
    "duration": 25,
    "start_time": "2022-11-14T04:22:17.452Z"
   },
   {
    "duration": 1210,
    "start_time": "2022-11-14T04:23:31.123Z"
   },
   {
    "duration": 54,
    "start_time": "2022-11-14T04:23:51.966Z"
   },
   {
    "duration": 138,
    "start_time": "2022-11-14T04:23:52.022Z"
   },
   {
    "duration": 7,
    "start_time": "2022-11-14T04:23:52.162Z"
   },
   {
    "duration": 165,
    "start_time": "2022-11-14T04:23:52.171Z"
   },
   {
    "duration": 28,
    "start_time": "2022-11-14T04:23:52.338Z"
   },
   {
    "duration": 35,
    "start_time": "2022-11-14T04:24:16.218Z"
   },
   {
    "duration": 31,
    "start_time": "2022-11-14T04:24:24.946Z"
   },
   {
    "duration": 9,
    "start_time": "2022-11-14T04:24:43.852Z"
   },
   {
    "duration": 8,
    "start_time": "2022-11-14T04:24:57.746Z"
   },
   {
    "duration": 162,
    "start_time": "2022-11-14T04:25:20.506Z"
   },
   {
    "duration": 8460,
    "start_time": "2022-11-14T04:26:38.164Z"
   },
   {
    "duration": 8,
    "start_time": "2022-11-14T04:27:08.633Z"
   },
   {
    "duration": 8,
    "start_time": "2022-11-14T04:27:14.440Z"
   },
   {
    "duration": 8599,
    "start_time": "2022-11-14T04:27:22.825Z"
   },
   {
    "duration": 18,
    "start_time": "2022-11-14T04:29:00.848Z"
   },
   {
    "duration": 10214,
    "start_time": "2022-11-14T04:29:14.569Z"
   },
   {
    "duration": 9,
    "start_time": "2022-11-14T04:30:05.495Z"
   },
   {
    "duration": 69,
    "start_time": "2022-11-14T04:30:32.343Z"
   },
   {
    "duration": 142,
    "start_time": "2022-11-14T04:30:35.775Z"
   },
   {
    "duration": 9,
    "start_time": "2022-11-14T04:30:36.934Z"
   },
   {
    "duration": 154,
    "start_time": "2022-11-14T04:30:37.616Z"
   },
   {
    "duration": 29,
    "start_time": "2022-11-14T04:30:39.369Z"
   },
   {
    "duration": 10818,
    "start_time": "2022-11-14T04:30:41.711Z"
   },
   {
    "duration": 10305,
    "start_time": "2022-11-14T04:31:17.727Z"
   },
   {
    "duration": 1160,
    "start_time": "2022-11-15T03:30:49.784Z"
   },
   {
    "duration": 196,
    "start_time": "2022-11-15T03:30:50.947Z"
   },
   {
    "duration": 8,
    "start_time": "2022-11-15T03:30:51.145Z"
   },
   {
    "duration": 214,
    "start_time": "2022-11-15T03:30:51.155Z"
   },
   {
    "duration": 3,
    "start_time": "2022-11-15T03:30:51.371Z"
   },
   {
    "duration": 18,
    "start_time": "2022-11-15T03:33:45.754Z"
   },
   {
    "duration": 4,
    "start_time": "2022-11-15T03:37:10.512Z"
   },
   {
    "duration": 56,
    "start_time": "2022-11-15T03:39:09.199Z"
   },
   {
    "duration": 79,
    "start_time": "2022-11-15T03:39:29.063Z"
   },
   {
    "duration": 49,
    "start_time": "2022-11-15T03:39:43.710Z"
   },
   {
    "duration": 9,
    "start_time": "2022-11-15T03:40:27.398Z"
   },
   {
    "duration": 11,
    "start_time": "2022-11-15T03:40:44.829Z"
   },
   {
    "duration": 10,
    "start_time": "2022-11-15T03:41:33.109Z"
   },
   {
    "duration": 41,
    "start_time": "2022-11-15T03:44:58.866Z"
   },
   {
    "duration": 21,
    "start_time": "2022-11-15T03:45:06.091Z"
   },
   {
    "duration": 51,
    "start_time": "2022-11-15T03:50:39.409Z"
   },
   {
    "duration": 17,
    "start_time": "2022-11-15T03:51:51.143Z"
   },
   {
    "duration": 16,
    "start_time": "2022-11-15T03:52:01.350Z"
   },
   {
    "duration": 9,
    "start_time": "2022-11-15T03:55:17.772Z"
   },
   {
    "duration": 15,
    "start_time": "2022-11-15T03:55:28.643Z"
   },
   {
    "duration": 22,
    "start_time": "2022-11-15T03:56:04.811Z"
   },
   {
    "duration": 14,
    "start_time": "2022-11-15T03:56:12.727Z"
   },
   {
    "duration": 16,
    "start_time": "2022-11-15T03:56:36.596Z"
   },
   {
    "duration": 11,
    "start_time": "2022-11-15T03:56:48.571Z"
   },
   {
    "duration": 13,
    "start_time": "2022-11-15T03:56:58.466Z"
   },
   {
    "duration": 14,
    "start_time": "2022-11-15T03:57:09.621Z"
   },
   {
    "duration": 13,
    "start_time": "2022-11-15T03:57:16.483Z"
   },
   {
    "duration": 12,
    "start_time": "2022-11-15T03:57:27.890Z"
   },
   {
    "duration": 11,
    "start_time": "2022-11-15T03:57:30.116Z"
   },
   {
    "duration": 16,
    "start_time": "2022-11-15T03:57:32.759Z"
   },
   {
    "duration": 1225,
    "start_time": "2022-11-15T03:59:59.409Z"
   },
   {
    "duration": 17,
    "start_time": "2022-11-15T04:00:24.073Z"
   },
   {
    "duration": 6,
    "start_time": "2022-11-15T04:04:02.798Z"
   },
   {
    "duration": 8,
    "start_time": "2022-11-15T04:04:24.478Z"
   },
   {
    "duration": 20,
    "start_time": "2022-11-15T04:04:30.766Z"
   },
   {
    "duration": 9,
    "start_time": "2022-11-15T04:06:53.549Z"
   },
   {
    "duration": 11,
    "start_time": "2022-11-15T04:06:59.996Z"
   },
   {
    "duration": 18,
    "start_time": "2022-11-15T04:07:16.732Z"
   },
   {
    "duration": 9,
    "start_time": "2022-11-15T04:08:37.341Z"
   },
   {
    "duration": 148,
    "start_time": "2022-11-15T04:08:49.634Z"
   },
   {
    "duration": 138,
    "start_time": "2022-11-15T04:09:35.323Z"
   },
   {
    "duration": 134,
    "start_time": "2022-11-15T04:09:41.796Z"
   },
   {
    "duration": 51,
    "start_time": "2022-11-15T04:09:46.731Z"
   },
   {
    "duration": 12,
    "start_time": "2022-11-15T04:09:48.227Z"
   },
   {
    "duration": 7,
    "start_time": "2022-11-15T04:09:49.082Z"
   },
   {
    "duration": 132,
    "start_time": "2022-11-15T04:09:52.787Z"
   },
   {
    "duration": 126,
    "start_time": "2022-11-15T04:10:43.763Z"
   },
   {
    "duration": 154,
    "start_time": "2022-11-15T04:11:06.770Z"
   },
   {
    "duration": 139,
    "start_time": "2022-11-15T04:12:04.217Z"
   },
   {
    "duration": 135,
    "start_time": "2022-11-15T04:12:17.977Z"
   },
   {
    "duration": 146,
    "start_time": "2022-11-15T04:12:31.641Z"
   },
   {
    "duration": 16,
    "start_time": "2022-11-15T04:12:40.890Z"
   },
   {
    "duration": 13,
    "start_time": "2022-11-15T04:12:41.384Z"
   },
   {
    "duration": 12,
    "start_time": "2022-11-15T04:12:42.028Z"
   },
   {
    "duration": 215,
    "start_time": "2022-11-15T04:12:42.608Z"
   },
   {
    "duration": 48,
    "start_time": "2022-11-15T04:13:06.092Z"
   },
   {
    "duration": 11,
    "start_time": "2022-11-15T04:13:06.142Z"
   },
   {
    "duration": 21,
    "start_time": "2022-11-15T04:13:06.154Z"
   },
   {
    "duration": 178,
    "start_time": "2022-11-15T04:13:06.177Z"
   },
   {
    "duration": 20,
    "start_time": "2022-11-15T04:13:06.358Z"
   },
   {
    "duration": 14,
    "start_time": "2022-11-15T04:13:06.382Z"
   },
   {
    "duration": 11,
    "start_time": "2022-11-15T04:13:06.415Z"
   },
   {
    "duration": 203,
    "start_time": "2022-11-15T04:13:06.428Z"
   },
   {
    "duration": 7,
    "start_time": "2022-11-15T04:13:06.632Z"
   },
   {
    "duration": 175,
    "start_time": "2022-11-15T04:13:06.641Z"
   },
   {
    "duration": 13,
    "start_time": "2022-11-15T04:13:06.818Z"
   },
   {
    "duration": 5,
    "start_time": "2022-11-15T04:13:06.832Z"
   },
   {
    "duration": 24,
    "start_time": "2022-11-15T04:13:06.839Z"
   },
   {
    "duration": 12,
    "start_time": "2022-11-15T04:13:46.272Z"
   },
   {
    "duration": 167,
    "start_time": "2022-11-15T04:13:47.160Z"
   },
   {
    "duration": 16,
    "start_time": "2022-11-15T04:14:37.080Z"
   },
   {
    "duration": 54,
    "start_time": "2022-11-15T04:14:44.761Z"
   },
   {
    "duration": 13,
    "start_time": "2022-11-15T04:14:44.817Z"
   },
   {
    "duration": 9,
    "start_time": "2022-11-15T04:14:44.832Z"
   },
   {
    "duration": 175,
    "start_time": "2022-11-15T04:14:44.843Z"
   },
   {
    "duration": 16,
    "start_time": "2022-11-15T04:14:45.021Z"
   },
   {
    "duration": 14,
    "start_time": "2022-11-15T04:14:45.039Z"
   },
   {
    "duration": 17,
    "start_time": "2022-11-15T04:14:45.054Z"
   },
   {
    "duration": 177,
    "start_time": "2022-11-15T04:14:45.072Z"
   },
   {
    "duration": 5,
    "start_time": "2022-11-15T04:14:45.251Z"
   },
   {
    "duration": 9,
    "start_time": "2022-11-15T04:14:45.258Z"
   },
   {
    "duration": 17,
    "start_time": "2022-11-15T04:15:07.215Z"
   },
   {
    "duration": 13,
    "start_time": "2022-11-15T04:17:59.566Z"
   },
   {
    "duration": 17,
    "start_time": "2022-11-15T04:18:13.485Z"
   },
   {
    "duration": 17,
    "start_time": "2022-11-15T04:20:14.804Z"
   },
   {
    "duration": 53,
    "start_time": "2022-11-15T04:20:19.061Z"
   },
   {
    "duration": 14,
    "start_time": "2022-11-15T04:20:19.117Z"
   },
   {
    "duration": 10,
    "start_time": "2022-11-15T04:20:19.133Z"
   },
   {
    "duration": 178,
    "start_time": "2022-11-15T04:20:19.146Z"
   },
   {
    "duration": 20,
    "start_time": "2022-11-15T04:20:19.326Z"
   },
   {
    "duration": 13,
    "start_time": "2022-11-15T04:20:19.349Z"
   },
   {
    "duration": 16,
    "start_time": "2022-11-15T04:20:19.364Z"
   },
   {
    "duration": 170,
    "start_time": "2022-11-15T04:20:19.382Z"
   },
   {
    "duration": 15,
    "start_time": "2022-11-15T04:20:19.554Z"
   },
   {
    "duration": 15,
    "start_time": "2022-11-15T04:20:19.572Z"
   },
   {
    "duration": 24,
    "start_time": "2022-11-15T04:20:19.589Z"
   },
   {
    "duration": 19,
    "start_time": "2022-11-15T04:20:19.615Z"
   },
   {
    "duration": 16,
    "start_time": "2022-11-15T04:20:52.732Z"
   },
   {
    "duration": 50,
    "start_time": "2022-11-15T04:20:56.285Z"
   },
   {
    "duration": 12,
    "start_time": "2022-11-15T04:20:56.336Z"
   },
   {
    "duration": 8,
    "start_time": "2022-11-15T04:20:56.350Z"
   },
   {
    "duration": 198,
    "start_time": "2022-11-15T04:20:56.360Z"
   },
   {
    "duration": 20,
    "start_time": "2022-11-15T04:20:56.561Z"
   },
   {
    "duration": 32,
    "start_time": "2022-11-15T04:20:56.583Z"
   },
   {
    "duration": 24,
    "start_time": "2022-11-15T04:20:56.617Z"
   },
   {
    "duration": 181,
    "start_time": "2022-11-15T04:20:56.643Z"
   },
   {
    "duration": 14,
    "start_time": "2022-11-15T04:20:56.826Z"
   },
   {
    "duration": 13,
    "start_time": "2022-11-15T04:20:56.842Z"
   },
   {
    "duration": 6,
    "start_time": "2022-11-15T04:20:56.857Z"
   },
   {
    "duration": 13,
    "start_time": "2022-11-15T04:20:56.864Z"
   },
   {
    "duration": 62,
    "start_time": "2022-11-15T04:24:06.380Z"
   },
   {
    "duration": 16,
    "start_time": "2022-11-15T04:24:06.445Z"
   },
   {
    "duration": 17,
    "start_time": "2022-11-15T04:24:06.463Z"
   },
   {
    "duration": 247,
    "start_time": "2022-11-15T04:24:06.483Z"
   },
   {
    "duration": 17,
    "start_time": "2022-11-15T04:24:06.732Z"
   },
   {
    "duration": 10,
    "start_time": "2022-11-15T04:24:06.751Z"
   },
   {
    "duration": 53,
    "start_time": "2022-11-15T04:24:06.763Z"
   },
   {
    "duration": 161,
    "start_time": "2022-11-15T04:24:06.818Z"
   },
   {
    "duration": 15,
    "start_time": "2022-11-15T04:24:06.980Z"
   },
   {
    "duration": 12,
    "start_time": "2022-11-15T04:24:07.011Z"
   },
   {
    "duration": 24,
    "start_time": "2022-11-15T04:24:07.025Z"
   },
   {
    "duration": 164,
    "start_time": "2022-11-15T04:24:07.051Z"
   },
   {
    "duration": 7,
    "start_time": "2022-11-15T04:24:07.217Z"
   },
   {
    "duration": 14,
    "start_time": "2022-11-15T04:24:07.226Z"
   },
   {
    "duration": 63,
    "start_time": "2022-11-15T04:24:19.099Z"
   },
   {
    "duration": 14,
    "start_time": "2022-11-15T04:24:19.165Z"
   },
   {
    "duration": 9,
    "start_time": "2022-11-15T04:24:19.181Z"
   },
   {
    "duration": 210,
    "start_time": "2022-11-15T04:24:19.192Z"
   },
   {
    "duration": 21,
    "start_time": "2022-11-15T04:24:19.404Z"
   },
   {
    "duration": 9,
    "start_time": "2022-11-15T04:24:19.426Z"
   },
   {
    "duration": 14,
    "start_time": "2022-11-15T04:24:19.437Z"
   },
   {
    "duration": 173,
    "start_time": "2022-11-15T04:24:19.453Z"
   },
   {
    "duration": 14,
    "start_time": "2022-11-15T04:24:19.627Z"
   },
   {
    "duration": 15,
    "start_time": "2022-11-15T04:24:19.644Z"
   },
   {
    "duration": 20,
    "start_time": "2022-11-15T04:24:19.661Z"
   },
   {
    "duration": 166,
    "start_time": "2022-11-15T04:24:19.683Z"
   },
   {
    "duration": 3,
    "start_time": "2022-11-15T04:24:19.851Z"
   },
   {
    "duration": 17,
    "start_time": "2022-11-15T04:24:19.856Z"
   },
   {
    "duration": 35,
    "start_time": "2022-11-15T04:39:23.999Z"
   },
   {
    "duration": 967,
    "start_time": "2022-11-15T10:06:23.606Z"
   },
   {
    "duration": 12,
    "start_time": "2022-11-15T10:06:24.575Z"
   },
   {
    "duration": 8,
    "start_time": "2022-11-15T10:06:24.589Z"
   },
   {
    "duration": 155,
    "start_time": "2022-11-15T10:06:24.599Z"
   },
   {
    "duration": 17,
    "start_time": "2022-11-15T10:06:24.756Z"
   },
   {
    "duration": 25,
    "start_time": "2022-11-15T10:06:24.775Z"
   },
   {
    "duration": 12,
    "start_time": "2022-11-15T10:06:24.802Z"
   },
   {
    "duration": 170,
    "start_time": "2022-11-15T10:06:24.815Z"
   },
   {
    "duration": 19,
    "start_time": "2022-11-15T10:06:24.986Z"
   },
   {
    "duration": 12,
    "start_time": "2022-11-15T10:06:25.008Z"
   },
   {
    "duration": 14,
    "start_time": "2022-11-15T10:06:25.021Z"
   },
   {
    "duration": 171,
    "start_time": "2022-11-15T10:06:25.037Z"
   },
   {
    "duration": 2,
    "start_time": "2022-11-15T10:06:25.210Z"
   },
   {
    "duration": 16,
    "start_time": "2022-11-15T10:06:25.214Z"
   },
   {
    "duration": 27,
    "start_time": "2022-11-15T10:06:25.232Z"
   },
   {
    "duration": 199,
    "start_time": "2022-11-15T10:10:29.273Z"
   },
   {
    "duration": 6,
    "start_time": "2022-11-15T10:11:39.567Z"
   },
   {
    "duration": 6,
    "start_time": "2022-11-15T10:33:21.187Z"
   },
   {
    "duration": 7,
    "start_time": "2022-11-15T10:33:23.267Z"
   },
   {
    "duration": 45,
    "start_time": "2022-11-15T10:33:48.423Z"
   },
   {
    "duration": 11,
    "start_time": "2022-11-15T10:33:48.470Z"
   },
   {
    "duration": 7,
    "start_time": "2022-11-15T10:33:48.482Z"
   },
   {
    "duration": 189,
    "start_time": "2022-11-15T10:33:48.491Z"
   },
   {
    "duration": 18,
    "start_time": "2022-11-15T10:33:48.682Z"
   },
   {
    "duration": 9,
    "start_time": "2022-11-15T10:33:48.701Z"
   },
   {
    "duration": 25,
    "start_time": "2022-11-15T10:33:48.712Z"
   },
   {
    "duration": 171,
    "start_time": "2022-11-15T10:33:48.739Z"
   },
   {
    "duration": 13,
    "start_time": "2022-11-15T10:33:48.911Z"
   },
   {
    "duration": 11,
    "start_time": "2022-11-15T10:33:48.926Z"
   },
   {
    "duration": 13,
    "start_time": "2022-11-15T10:33:48.939Z"
   },
   {
    "duration": 31,
    "start_time": "2022-11-15T10:33:48.953Z"
   },
   {
    "duration": 15,
    "start_time": "2022-11-15T10:33:48.986Z"
   },
   {
    "duration": 241,
    "start_time": "2022-11-15T10:33:49.002Z"
   },
   {
    "duration": 12,
    "start_time": "2022-11-15T10:33:49.244Z"
   },
   {
    "duration": 38,
    "start_time": "2022-11-15T10:33:49.258Z"
   },
   {
    "duration": 5,
    "start_time": "2022-11-15T10:52:15.758Z"
   },
   {
    "duration": 2304,
    "start_time": "2022-11-15T10:56:24.771Z"
   },
   {
    "duration": 49,
    "start_time": "2022-11-15T11:47:50.208Z"
   },
   {
    "duration": 770,
    "start_time": "2022-11-15T11:47:57.280Z"
   },
   {
    "duration": 3,
    "start_time": "2022-11-15T11:50:20.814Z"
   },
   {
    "duration": 11,
    "start_time": "2022-11-15T11:56:55.465Z"
   },
   {
    "duration": 9,
    "start_time": "2022-11-15T11:57:11.882Z"
   },
   {
    "duration": 9,
    "start_time": "2022-11-15T11:57:18.338Z"
   },
   {
    "duration": 11,
    "start_time": "2022-11-15T11:57:28.569Z"
   },
   {
    "duration": 11,
    "start_time": "2022-11-15T11:57:39.541Z"
   },
   {
    "duration": 14,
    "start_time": "2022-11-15T11:57:45.497Z"
   },
   {
    "duration": 13,
    "start_time": "2022-11-15T11:57:53.265Z"
   },
   {
    "duration": 3,
    "start_time": "2022-11-15T11:58:27.475Z"
   },
   {
    "duration": 58,
    "start_time": "2022-11-15T11:58:27.480Z"
   },
   {
    "duration": 12,
    "start_time": "2022-11-15T11:58:27.540Z"
   },
   {
    "duration": 8,
    "start_time": "2022-11-15T11:58:27.554Z"
   },
   {
    "duration": 144,
    "start_time": "2022-11-15T11:58:27.563Z"
   },
   {
    "duration": 16,
    "start_time": "2022-11-15T11:58:27.709Z"
   },
   {
    "duration": 9,
    "start_time": "2022-11-15T11:58:27.727Z"
   },
   {
    "duration": 26,
    "start_time": "2022-11-15T11:58:27.738Z"
   },
   {
    "duration": 232,
    "start_time": "2022-11-15T11:58:27.767Z"
   },
   {
    "duration": 14,
    "start_time": "2022-11-15T11:58:28.001Z"
   },
   {
    "duration": 25,
    "start_time": "2022-11-15T11:58:28.017Z"
   },
   {
    "duration": 7,
    "start_time": "2022-11-15T11:58:28.045Z"
   },
   {
    "duration": 13,
    "start_time": "2022-11-15T11:58:28.054Z"
   },
   {
    "duration": 5,
    "start_time": "2022-11-15T11:58:28.068Z"
   },
   {
    "duration": 10,
    "start_time": "2022-11-15T11:58:28.097Z"
   },
   {
    "duration": 2,
    "start_time": "2022-11-15T11:58:28.109Z"
   },
   {
    "duration": 10,
    "start_time": "2022-11-15T11:59:40.047Z"
   },
   {
    "duration": 10,
    "start_time": "2022-11-15T11:59:46.983Z"
   },
   {
    "duration": 111,
    "start_time": "2022-11-15T12:01:51.606Z"
   },
   {
    "duration": 11,
    "start_time": "2022-11-15T12:02:02.470Z"
   },
   {
    "duration": 10,
    "start_time": "2022-11-15T12:02:32.734Z"
   },
   {
    "duration": 1351,
    "start_time": "2022-11-15T12:02:42.201Z"
   },
   {
    "duration": 61,
    "start_time": "2022-11-15T12:02:43.556Z"
   },
   {
    "duration": 12,
    "start_time": "2022-11-15T12:02:43.618Z"
   },
   {
    "duration": 7,
    "start_time": "2022-11-15T12:02:43.632Z"
   },
   {
    "duration": 173,
    "start_time": "2022-11-15T12:02:43.640Z"
   },
   {
    "duration": 16,
    "start_time": "2022-11-15T12:02:43.815Z"
   },
   {
    "duration": 18,
    "start_time": "2022-11-15T12:02:43.833Z"
   },
   {
    "duration": 18,
    "start_time": "2022-11-15T12:02:43.853Z"
   },
   {
    "duration": 160,
    "start_time": "2022-11-15T12:02:43.873Z"
   },
   {
    "duration": 13,
    "start_time": "2022-11-15T12:02:44.035Z"
   },
   {
    "duration": 15,
    "start_time": "2022-11-15T12:02:44.049Z"
   },
   {
    "duration": 6,
    "start_time": "2022-11-15T12:02:44.065Z"
   },
   {
    "duration": 32,
    "start_time": "2022-11-15T12:02:44.072Z"
   },
   {
    "duration": 5,
    "start_time": "2022-11-15T12:02:44.106Z"
   },
   {
    "duration": 10,
    "start_time": "2022-11-15T12:02:44.113Z"
   },
   {
    "duration": 2,
    "start_time": "2022-11-15T12:02:44.125Z"
   },
   {
    "duration": 13,
    "start_time": "2022-11-15T12:04:10.773Z"
   },
   {
    "duration": 10,
    "start_time": "2022-11-15T12:04:17.781Z"
   },
   {
    "duration": 3,
    "start_time": "2022-11-15T12:23:25.873Z"
   },
   {
    "duration": 65,
    "start_time": "2022-11-15T13:44:15.929Z"
   },
   {
    "duration": 1662,
    "start_time": "2022-11-15T13:44:26.313Z"
   },
   {
    "duration": 98,
    "start_time": "2022-11-15T13:44:27.977Z"
   },
   {
    "duration": 13,
    "start_time": "2022-11-15T13:44:28.077Z"
   },
   {
    "duration": 7,
    "start_time": "2022-11-15T13:44:28.092Z"
   },
   {
    "duration": 161,
    "start_time": "2022-11-15T13:44:28.101Z"
   },
   {
    "duration": 17,
    "start_time": "2022-11-15T13:44:28.263Z"
   },
   {
    "duration": 9,
    "start_time": "2022-11-15T13:44:28.282Z"
   },
   {
    "duration": 10,
    "start_time": "2022-11-15T13:44:28.293Z"
   },
   {
    "duration": 178,
    "start_time": "2022-11-15T13:44:28.305Z"
   },
   {
    "duration": 16,
    "start_time": "2022-11-15T13:44:28.487Z"
   },
   {
    "duration": 34,
    "start_time": "2022-11-15T13:44:28.504Z"
   },
   {
    "duration": 7,
    "start_time": "2022-11-15T13:44:28.540Z"
   },
   {
    "duration": 11,
    "start_time": "2022-11-15T13:44:28.549Z"
   },
   {
    "duration": 4,
    "start_time": "2022-11-15T13:44:28.562Z"
   },
   {
    "duration": 10,
    "start_time": "2022-11-15T13:44:28.568Z"
   },
   {
    "duration": 350,
    "start_time": "2022-11-15T13:44:28.580Z"
   },
   {
    "duration": 397,
    "start_time": "2022-11-15T13:44:35.991Z"
   },
   {
    "duration": 422,
    "start_time": "2022-11-15T13:45:45.277Z"
   },
   {
    "duration": 4,
    "start_time": "2022-11-15T13:45:46.901Z"
   },
   {
    "duration": 152,
    "start_time": "2022-11-15T13:49:24.346Z"
   },
   {
    "duration": 3,
    "start_time": "2022-11-15T13:49:28.126Z"
   },
   {
    "duration": 52,
    "start_time": "2022-11-15T13:49:28.131Z"
   },
   {
    "duration": 13,
    "start_time": "2022-11-15T13:49:28.185Z"
   },
   {
    "duration": 8,
    "start_time": "2022-11-15T13:49:28.200Z"
   },
   {
    "duration": 161,
    "start_time": "2022-11-15T13:49:28.210Z"
   },
   {
    "duration": 16,
    "start_time": "2022-11-15T13:49:28.372Z"
   },
   {
    "duration": 9,
    "start_time": "2022-11-15T13:49:28.390Z"
   },
   {
    "duration": 19,
    "start_time": "2022-11-15T13:49:28.401Z"
   },
   {
    "duration": 169,
    "start_time": "2022-11-15T13:49:28.422Z"
   },
   {
    "duration": 15,
    "start_time": "2022-11-15T13:49:28.594Z"
   },
   {
    "duration": 28,
    "start_time": "2022-11-15T13:49:28.611Z"
   },
   {
    "duration": 7,
    "start_time": "2022-11-15T13:49:28.641Z"
   },
   {
    "duration": 16,
    "start_time": "2022-11-15T13:49:28.650Z"
   },
   {
    "duration": 6,
    "start_time": "2022-11-15T13:49:28.668Z"
   },
   {
    "duration": 12,
    "start_time": "2022-11-15T13:49:28.676Z"
   },
   {
    "duration": 493,
    "start_time": "2022-11-15T13:49:28.690Z"
   },
   {
    "duration": 5,
    "start_time": "2022-11-15T13:49:29.186Z"
   },
   {
    "duration": 24,
    "start_time": "2022-11-15T13:49:29.193Z"
   },
   {
    "duration": 0,
    "start_time": "2022-11-15T13:49:29.220Z"
   },
   {
    "duration": 13,
    "start_time": "2022-11-15T13:49:43.044Z"
   },
   {
    "duration": 4,
    "start_time": "2022-11-15T13:49:44.733Z"
   },
   {
    "duration": 47,
    "start_time": "2022-11-15T13:49:44.740Z"
   },
   {
    "duration": 13,
    "start_time": "2022-11-15T13:49:44.789Z"
   },
   {
    "duration": 8,
    "start_time": "2022-11-15T13:49:44.803Z"
   },
   {
    "duration": 160,
    "start_time": "2022-11-15T13:49:44.813Z"
   },
   {
    "duration": 16,
    "start_time": "2022-11-15T13:49:44.975Z"
   },
   {
    "duration": 10,
    "start_time": "2022-11-15T13:49:44.992Z"
   },
   {
    "duration": 35,
    "start_time": "2022-11-15T13:49:45.004Z"
   },
   {
    "duration": 163,
    "start_time": "2022-11-15T13:49:45.042Z"
   },
   {
    "duration": 15,
    "start_time": "2022-11-15T13:49:45.208Z"
   },
   {
    "duration": 19,
    "start_time": "2022-11-15T13:49:45.225Z"
   },
   {
    "duration": 5,
    "start_time": "2022-11-15T13:49:45.246Z"
   },
   {
    "duration": 12,
    "start_time": "2022-11-15T13:49:45.253Z"
   },
   {
    "duration": 5,
    "start_time": "2022-11-15T13:49:45.267Z"
   },
   {
    "duration": 13,
    "start_time": "2022-11-15T13:49:45.273Z"
   },
   {
    "duration": 429,
    "start_time": "2022-11-15T13:49:45.288Z"
   },
   {
    "duration": 5,
    "start_time": "2022-11-15T13:49:45.719Z"
   },
   {
    "duration": 9325,
    "start_time": "2022-11-15T13:49:45.738Z"
   },
   {
    "duration": 432,
    "start_time": "2022-11-15T13:49:55.065Z"
   },
   {
    "duration": 4,
    "start_time": "2022-11-15T13:50:20.971Z"
   },
   {
    "duration": 823,
    "start_time": "2022-11-15T13:51:45.617Z"
   },
   {
    "duration": 6,
    "start_time": "2022-11-15T13:51:47.426Z"
   },
   {
    "duration": 5,
    "start_time": "2022-11-15T13:52:02.641Z"
   },
   {
    "duration": 5,
    "start_time": "2022-11-15T13:52:08.668Z"
   },
   {
    "duration": 68,
    "start_time": "2022-11-15T13:52:08.676Z"
   },
   {
    "duration": 18,
    "start_time": "2022-11-15T13:52:08.746Z"
   },
   {
    "duration": 15,
    "start_time": "2022-11-15T13:52:08.767Z"
   },
   {
    "duration": 228,
    "start_time": "2022-11-15T13:52:08.784Z"
   },
   {
    "duration": 27,
    "start_time": "2022-11-15T13:52:09.015Z"
   },
   {
    "duration": 23,
    "start_time": "2022-11-15T13:52:09.044Z"
   },
   {
    "duration": 25,
    "start_time": "2022-11-15T13:52:09.069Z"
   },
   {
    "duration": 179,
    "start_time": "2022-11-15T13:52:09.096Z"
   },
   {
    "duration": 20,
    "start_time": "2022-11-15T13:52:09.278Z"
   },
   {
    "duration": 38,
    "start_time": "2022-11-15T13:52:09.301Z"
   },
   {
    "duration": 7,
    "start_time": "2022-11-15T13:52:09.341Z"
   },
   {
    "duration": 19,
    "start_time": "2022-11-15T13:52:09.351Z"
   },
   {
    "duration": 6,
    "start_time": "2022-11-15T13:52:09.372Z"
   },
   {
    "duration": 14,
    "start_time": "2022-11-15T13:52:09.380Z"
   },
   {
    "duration": 522,
    "start_time": "2022-11-15T13:52:09.396Z"
   },
   {
    "duration": 8,
    "start_time": "2022-11-15T13:52:09.920Z"
   },
   {
    "duration": 9403,
    "start_time": "2022-11-15T13:52:09.939Z"
   },
   {
    "duration": 412,
    "start_time": "2022-11-15T13:52:19.344Z"
   },
   {
    "duration": 4,
    "start_time": "2022-11-15T13:52:19.758Z"
   },
   {
    "duration": 688,
    "start_time": "2022-11-15T13:52:19.764Z"
   },
   {
    "duration": 86,
    "start_time": "2022-11-15T13:52:20.455Z"
   },
   {
    "duration": 102,
    "start_time": "2022-11-15T13:52:20.544Z"
   },
   {
    "duration": 415,
    "start_time": "2022-11-15T13:52:51.722Z"
   },
   {
    "duration": 4,
    "start_time": "2022-11-15T13:52:54.882Z"
   },
   {
    "duration": 4,
    "start_time": "2022-11-15T13:53:14.092Z"
   },
   {
    "duration": 59,
    "start_time": "2022-11-15T13:53:14.098Z"
   },
   {
    "duration": 15,
    "start_time": "2022-11-15T13:53:14.158Z"
   },
   {
    "duration": 12,
    "start_time": "2022-11-15T13:53:14.175Z"
   },
   {
    "duration": 180,
    "start_time": "2022-11-15T13:53:14.189Z"
   },
   {
    "duration": 18,
    "start_time": "2022-11-15T13:53:14.370Z"
   },
   {
    "duration": 11,
    "start_time": "2022-11-15T13:53:14.390Z"
   },
   {
    "duration": 36,
    "start_time": "2022-11-15T13:53:14.403Z"
   },
   {
    "duration": 171,
    "start_time": "2022-11-15T13:53:14.441Z"
   },
   {
    "duration": 25,
    "start_time": "2022-11-15T13:53:14.616Z"
   },
   {
    "duration": 12,
    "start_time": "2022-11-15T13:53:14.644Z"
   },
   {
    "duration": 8,
    "start_time": "2022-11-15T13:53:14.659Z"
   },
   {
    "duration": 18,
    "start_time": "2022-11-15T13:53:14.669Z"
   },
   {
    "duration": 7,
    "start_time": "2022-11-15T13:53:14.689Z"
   },
   {
    "duration": 52,
    "start_time": "2022-11-15T13:53:14.698Z"
   },
   {
    "duration": 417,
    "start_time": "2022-11-15T13:53:14.752Z"
   },
   {
    "duration": 3,
    "start_time": "2022-11-15T13:53:15.171Z"
   },
   {
    "duration": 9206,
    "start_time": "2022-11-15T13:53:15.176Z"
   },
   {
    "duration": 393,
    "start_time": "2022-11-15T13:53:24.384Z"
   },
   {
    "duration": 4,
    "start_time": "2022-11-15T13:53:24.779Z"
   },
   {
    "duration": 865,
    "start_time": "2022-11-15T13:53:24.785Z"
   },
   {
    "duration": 5,
    "start_time": "2022-11-15T13:53:25.738Z"
   },
   {
    "duration": 132,
    "start_time": "2022-11-15T13:53:25.745Z"
   },
   {
    "duration": 3,
    "start_time": "2022-11-15T13:53:54.776Z"
   },
   {
    "duration": 18,
    "start_time": "2022-11-15T13:55:37.631Z"
   },
   {
    "duration": 4,
    "start_time": "2022-11-15T14:56:50.354Z"
   },
   {
    "duration": 52,
    "start_time": "2022-11-15T14:56:50.360Z"
   },
   {
    "duration": 16,
    "start_time": "2022-11-15T14:56:50.414Z"
   },
   {
    "duration": 11,
    "start_time": "2022-11-15T14:56:50.433Z"
   },
   {
    "duration": 173,
    "start_time": "2022-11-15T14:56:50.446Z"
   },
   {
    "duration": 28,
    "start_time": "2022-11-15T14:56:50.621Z"
   },
   {
    "duration": 12,
    "start_time": "2022-11-15T14:56:50.651Z"
   },
   {
    "duration": 14,
    "start_time": "2022-11-15T14:56:50.665Z"
   },
   {
    "duration": 180,
    "start_time": "2022-11-15T14:56:50.681Z"
   },
   {
    "duration": 17,
    "start_time": "2022-11-15T14:56:50.864Z"
   },
   {
    "duration": 13,
    "start_time": "2022-11-15T14:56:50.883Z"
   },
   {
    "duration": 7,
    "start_time": "2022-11-15T14:56:50.898Z"
   },
   {
    "duration": 41,
    "start_time": "2022-11-15T14:56:50.907Z"
   },
   {
    "duration": 5,
    "start_time": "2022-11-15T14:56:50.950Z"
   },
   {
    "duration": 12,
    "start_time": "2022-11-15T14:56:50.957Z"
   },
   {
    "duration": 428,
    "start_time": "2022-11-15T14:56:50.971Z"
   },
   {
    "duration": 4,
    "start_time": "2022-11-15T14:56:51.401Z"
   },
   {
    "duration": 9695,
    "start_time": "2022-11-15T14:56:51.406Z"
   },
   {
    "duration": 390,
    "start_time": "2022-11-15T14:57:01.103Z"
   },
   {
    "duration": 4,
    "start_time": "2022-11-15T14:57:01.495Z"
   },
   {
    "duration": 638,
    "start_time": "2022-11-15T14:57:01.501Z"
   },
   {
    "duration": 6,
    "start_time": "2022-11-15T14:57:02.142Z"
   },
   {
    "duration": 7,
    "start_time": "2022-11-15T14:57:02.239Z"
   },
   {
    "duration": 10,
    "start_time": "2022-11-15T14:57:02.247Z"
   },
   {
    "duration": 21,
    "start_time": "2022-11-15T14:57:02.259Z"
   },
   {
    "duration": 408,
    "start_time": "2022-11-15T14:57:56.844Z"
   },
   {
    "duration": 359,
    "start_time": "2022-11-15T14:58:16.964Z"
   },
   {
    "duration": 520,
    "start_time": "2022-11-15T14:58:42.828Z"
   },
   {
    "duration": 4,
    "start_time": "2022-11-15T14:58:43.860Z"
   },
   {
    "duration": 3,
    "start_time": "2022-11-15T14:58:54.805Z"
   },
   {
    "duration": 4,
    "start_time": "2022-11-15T15:04:15.869Z"
   },
   {
    "duration": 4,
    "start_time": "2022-11-15T15:04:26.813Z"
   },
   {
    "duration": 420,
    "start_time": "2022-11-15T15:09:06.951Z"
   },
   {
    "duration": 297,
    "start_time": "2022-11-15T15:09:18.687Z"
   },
   {
    "duration": 278,
    "start_time": "2022-11-15T15:09:54.152Z"
   },
   {
    "duration": 271,
    "start_time": "2022-11-15T15:10:49.089Z"
   },
   {
    "duration": 278,
    "start_time": "2022-11-15T15:10:58.624Z"
   },
   {
    "duration": 4,
    "start_time": "2022-11-15T15:11:12.544Z"
   },
   {
    "duration": 9839,
    "start_time": "2022-11-15T15:12:13.498Z"
   },
   {
    "duration": 394,
    "start_time": "2022-11-15T15:12:23.339Z"
   },
   {
    "duration": 4,
    "start_time": "2022-11-15T15:12:28.037Z"
   },
   {
    "duration": 538,
    "start_time": "2022-11-15T15:14:24.903Z"
   },
   {
    "duration": 4,
    "start_time": "2022-11-15T15:14:26.056Z"
   },
   {
    "duration": 3,
    "start_time": "2022-11-15T15:14:28.297Z"
   },
   {
    "duration": 4,
    "start_time": "2022-11-15T15:14:31.553Z"
   },
   {
    "duration": 4,
    "start_time": "2022-11-15T15:21:09.970Z"
   },
   {
    "duration": 5,
    "start_time": "2022-11-15T15:21:16.034Z"
   },
   {
    "duration": 16,
    "start_time": "2022-11-15T15:22:20.651Z"
   },
   {
    "duration": 1477,
    "start_time": "2022-11-15T15:25:09.371Z"
   },
   {
    "duration": 16,
    "start_time": "2022-11-15T15:25:18.318Z"
   },
   {
    "duration": 14,
    "start_time": "2022-11-15T15:25:28.724Z"
   },
   {
    "duration": 16,
    "start_time": "2022-11-15T15:25:34.620Z"
   },
   {
    "duration": 16,
    "start_time": "2022-11-15T15:25:48.340Z"
   },
   {
    "duration": 14,
    "start_time": "2022-11-15T15:25:53.235Z"
   },
   {
    "duration": 12798,
    "start_time": "2022-11-15T15:27:58.060Z"
   },
   {
    "duration": 386,
    "start_time": "2022-11-15T15:28:12.085Z"
   },
   {
    "duration": 4,
    "start_time": "2022-11-15T15:28:18.364Z"
   },
   {
    "duration": 5,
    "start_time": "2022-11-15T15:41:02.871Z"
   },
   {
    "duration": 16,
    "start_time": "2022-11-15T15:41:44.016Z"
   },
   {
    "duration": 14,
    "start_time": "2022-11-15T15:41:53.238Z"
   },
   {
    "duration": 14,
    "start_time": "2022-11-15T15:42:12.167Z"
   },
   {
    "duration": 13,
    "start_time": "2022-11-15T15:42:17.464Z"
   },
   {
    "duration": 20,
    "start_time": "2022-11-15T15:42:23.025Z"
   },
   {
    "duration": 14,
    "start_time": "2022-11-15T15:42:28.616Z"
   },
   {
    "duration": 15,
    "start_time": "2022-11-15T15:42:36.016Z"
   },
   {
    "duration": 14,
    "start_time": "2022-11-15T15:42:40.639Z"
   },
   {
    "duration": 13,
    "start_time": "2022-11-15T15:42:46.913Z"
   },
   {
    "duration": 6061,
    "start_time": "2022-11-15T15:43:48.282Z"
   },
   {
    "duration": 368,
    "start_time": "2022-11-15T15:43:54.345Z"
   },
   {
    "duration": 3,
    "start_time": "2022-11-15T15:44:00.017Z"
   },
   {
    "duration": 136,
    "start_time": "2022-11-15T15:45:46.561Z"
   },
   {
    "duration": 153,
    "start_time": "2022-11-15T15:46:25.819Z"
   },
   {
    "duration": 132,
    "start_time": "2022-11-15T15:46:30.801Z"
   },
   {
    "duration": 139,
    "start_time": "2022-11-15T15:46:36.809Z"
   },
   {
    "duration": 135,
    "start_time": "2022-11-15T15:46:41.328Z"
   },
   {
    "duration": 7,
    "start_time": "2022-11-15T15:49:54.673Z"
   },
   {
    "duration": 157,
    "start_time": "2022-11-15T15:49:55.618Z"
   },
   {
    "duration": 4,
    "start_time": "2022-11-15T15:50:00.213Z"
   },
   {
    "duration": 65,
    "start_time": "2022-11-15T15:50:00.219Z"
   },
   {
    "duration": 12,
    "start_time": "2022-11-15T15:50:00.286Z"
   },
   {
    "duration": 24,
    "start_time": "2022-11-15T15:50:00.300Z"
   },
   {
    "duration": 158,
    "start_time": "2022-11-15T15:50:00.327Z"
   },
   {
    "duration": 16,
    "start_time": "2022-11-15T15:50:00.487Z"
   },
   {
    "duration": 27,
    "start_time": "2022-11-15T15:50:00.504Z"
   },
   {
    "duration": 31,
    "start_time": "2022-11-15T15:50:00.533Z"
   },
   {
    "duration": 1234,
    "start_time": "2022-11-15T15:50:00.567Z"
   },
   {
    "duration": 0,
    "start_time": "2022-11-15T15:50:01.803Z"
   },
   {
    "duration": 1,
    "start_time": "2022-11-15T15:50:01.805Z"
   },
   {
    "duration": 0,
    "start_time": "2022-11-15T15:50:01.807Z"
   },
   {
    "duration": 0,
    "start_time": "2022-11-15T15:50:01.808Z"
   },
   {
    "duration": 0,
    "start_time": "2022-11-15T15:50:01.809Z"
   },
   {
    "duration": 0,
    "start_time": "2022-11-15T15:50:01.810Z"
   },
   {
    "duration": 0,
    "start_time": "2022-11-15T15:50:01.811Z"
   },
   {
    "duration": 0,
    "start_time": "2022-11-15T15:50:01.812Z"
   },
   {
    "duration": 0,
    "start_time": "2022-11-15T15:50:01.814Z"
   },
   {
    "duration": 0,
    "start_time": "2022-11-15T15:50:01.815Z"
   },
   {
    "duration": 0,
    "start_time": "2022-11-15T15:50:01.816Z"
   },
   {
    "duration": 0,
    "start_time": "2022-11-15T15:50:01.817Z"
   },
   {
    "duration": 0,
    "start_time": "2022-11-15T15:50:01.818Z"
   },
   {
    "duration": 0,
    "start_time": "2022-11-15T15:50:01.820Z"
   },
   {
    "duration": 0,
    "start_time": "2022-11-15T15:50:01.821Z"
   },
   {
    "duration": 0,
    "start_time": "2022-11-15T15:50:01.822Z"
   },
   {
    "duration": 0,
    "start_time": "2022-11-15T15:50:01.823Z"
   },
   {
    "duration": 0,
    "start_time": "2022-11-15T15:50:01.825Z"
   },
   {
    "duration": 0,
    "start_time": "2022-11-15T15:50:01.826Z"
   },
   {
    "duration": 0,
    "start_time": "2022-11-15T15:50:01.828Z"
   },
   {
    "duration": 0,
    "start_time": "2022-11-15T15:50:01.829Z"
   },
   {
    "duration": 0,
    "start_time": "2022-11-15T15:50:01.831Z"
   },
   {
    "duration": 0,
    "start_time": "2022-11-15T15:50:01.833Z"
   },
   {
    "duration": 0,
    "start_time": "2022-11-15T15:50:01.834Z"
   },
   {
    "duration": 0,
    "start_time": "2022-11-15T15:50:01.835Z"
   },
   {
    "duration": 0,
    "start_time": "2022-11-15T15:50:01.837Z"
   },
   {
    "duration": 0,
    "start_time": "2022-11-15T15:50:01.838Z"
   },
   {
    "duration": 0,
    "start_time": "2022-11-15T15:50:01.840Z"
   },
   {
    "duration": 0,
    "start_time": "2022-11-15T15:50:01.841Z"
   },
   {
    "duration": 0,
    "start_time": "2022-11-15T15:50:01.842Z"
   },
   {
    "duration": 0,
    "start_time": "2022-11-15T15:50:01.844Z"
   },
   {
    "duration": 0,
    "start_time": "2022-11-15T15:50:01.845Z"
   },
   {
    "duration": 0,
    "start_time": "2022-11-15T15:50:01.846Z"
   },
   {
    "duration": 0,
    "start_time": "2022-11-15T15:50:01.847Z"
   },
   {
    "duration": 0,
    "start_time": "2022-11-15T15:50:01.848Z"
   },
   {
    "duration": 16,
    "start_time": "2022-11-15T15:50:45.819Z"
   },
   {
    "duration": 4,
    "start_time": "2022-11-15T15:51:13.348Z"
   },
   {
    "duration": 52,
    "start_time": "2022-11-15T15:51:13.354Z"
   },
   {
    "duration": 14,
    "start_time": "2022-11-15T15:51:13.408Z"
   },
   {
    "duration": 18,
    "start_time": "2022-11-15T15:51:13.424Z"
   },
   {
    "duration": 156,
    "start_time": "2022-11-15T15:51:13.443Z"
   },
   {
    "duration": 16,
    "start_time": "2022-11-15T15:51:13.601Z"
   },
   {
    "duration": 23,
    "start_time": "2022-11-15T15:51:13.618Z"
   },
   {
    "duration": 7,
    "start_time": "2022-11-15T15:51:13.643Z"
   },
   {
    "duration": 181,
    "start_time": "2022-11-15T15:51:13.652Z"
   },
   {
    "duration": 17,
    "start_time": "2022-11-15T15:51:13.838Z"
   },
   {
    "duration": 15,
    "start_time": "2022-11-15T15:51:13.857Z"
   },
   {
    "duration": 10,
    "start_time": "2022-11-15T15:51:13.875Z"
   },
   {
    "duration": 13,
    "start_time": "2022-11-15T15:51:13.887Z"
   },
   {
    "duration": 35,
    "start_time": "2022-11-15T15:51:13.902Z"
   },
   {
    "duration": 11,
    "start_time": "2022-11-15T15:51:13.939Z"
   },
   {
    "duration": 391,
    "start_time": "2022-11-15T15:51:13.952Z"
   },
   {
    "duration": 3,
    "start_time": "2022-11-15T15:51:14.345Z"
   },
   {
    "duration": 9498,
    "start_time": "2022-11-15T15:51:14.350Z"
   },
   {
    "duration": 373,
    "start_time": "2022-11-15T15:51:23.850Z"
   },
   {
    "duration": 7,
    "start_time": "2022-11-15T15:51:24.225Z"
   },
   {
    "duration": 508,
    "start_time": "2022-11-15T15:51:24.238Z"
   },
   {
    "duration": 4,
    "start_time": "2022-11-15T15:51:24.839Z"
   },
   {
    "duration": 7,
    "start_time": "2022-11-15T15:51:24.937Z"
   },
   {
    "duration": 8,
    "start_time": "2022-11-15T15:51:24.945Z"
   },
   {
    "duration": 250,
    "start_time": "2022-11-15T15:51:24.955Z"
   },
   {
    "duration": 4,
    "start_time": "2022-11-15T15:51:25.206Z"
   },
   {
    "duration": 8842,
    "start_time": "2022-11-15T15:51:25.211Z"
   },
   {
    "duration": 370,
    "start_time": "2022-11-15T15:51:34.057Z"
   },
   {
    "duration": 10,
    "start_time": "2022-11-15T15:51:34.429Z"
   },
   {
    "duration": 697,
    "start_time": "2022-11-15T15:51:34.441Z"
   },
   {
    "duration": 5,
    "start_time": "2022-11-15T15:51:35.140Z"
   },
   {
    "duration": 100,
    "start_time": "2022-11-15T15:51:35.147Z"
   },
   {
    "duration": 6,
    "start_time": "2022-11-15T15:51:35.249Z"
   },
   {
    "duration": 7,
    "start_time": "2022-11-15T15:51:35.257Z"
   },
   {
    "duration": 15,
    "start_time": "2022-11-15T15:51:35.266Z"
   },
   {
    "duration": 11518,
    "start_time": "2022-11-15T15:51:35.283Z"
   },
   {
    "duration": 400,
    "start_time": "2022-11-15T15:51:46.804Z"
   },
   {
    "duration": 4,
    "start_time": "2022-11-15T15:51:47.205Z"
   },
   {
    "duration": 10,
    "start_time": "2022-11-15T15:51:47.211Z"
   },
   {
    "duration": 30,
    "start_time": "2022-11-15T15:51:47.223Z"
   },
   {
    "duration": 5840,
    "start_time": "2022-11-15T15:51:47.255Z"
   },
   {
    "duration": 419,
    "start_time": "2022-11-15T15:51:53.097Z"
   },
   {
    "duration": 4,
    "start_time": "2022-11-15T15:51:53.518Z"
   },
   {
    "duration": 138,
    "start_time": "2022-11-15T15:51:53.523Z"
   },
   {
    "duration": 153,
    "start_time": "2022-11-15T15:52:24.922Z"
   },
   {
    "duration": 82481,
    "start_time": "2022-11-15T15:53:33.690Z"
   },
   {
    "duration": 21,
    "start_time": "2022-11-15T15:54:59.091Z"
   },
   {
    "duration": 17,
    "start_time": "2022-11-15T15:55:14.044Z"
   },
   {
    "duration": 495,
    "start_time": "2022-11-15T15:55:24.019Z"
   },
   {
    "duration": 4,
    "start_time": "2022-11-15T15:55:26.930Z"
   },
   {
    "duration": 183,
    "start_time": "2022-11-15T15:55:39.164Z"
   },
   {
    "duration": 174,
    "start_time": "2022-11-15T15:55:44.147Z"
   },
   {
    "duration": 189,
    "start_time": "2022-11-15T15:55:51.099Z"
   },
   {
    "duration": 21570,
    "start_time": "2022-11-15T15:57:44.387Z"
   },
   {
    "duration": 383,
    "start_time": "2022-11-15T15:58:09.363Z"
   },
   {
    "duration": 4,
    "start_time": "2022-11-15T15:58:14.083Z"
   },
   {
    "duration": 216,
    "start_time": "2022-11-15T15:58:28.203Z"
   },
   {
    "duration": 187,
    "start_time": "2022-11-15T15:58:32.947Z"
   },
   {
    "duration": 218,
    "start_time": "2022-11-15T15:58:39.419Z"
   },
   {
    "duration": 189,
    "start_time": "2022-11-15T15:58:43.997Z"
   },
   {
    "duration": 3,
    "start_time": "2022-11-15T15:59:04.591Z"
   },
   {
    "duration": 53,
    "start_time": "2022-11-15T15:59:04.597Z"
   },
   {
    "duration": 12,
    "start_time": "2022-11-15T15:59:04.652Z"
   },
   {
    "duration": 8,
    "start_time": "2022-11-15T15:59:04.667Z"
   },
   {
    "duration": 173,
    "start_time": "2022-11-15T15:59:04.677Z"
   },
   {
    "duration": 16,
    "start_time": "2022-11-15T15:59:04.852Z"
   },
   {
    "duration": 10,
    "start_time": "2022-11-15T15:59:04.870Z"
   },
   {
    "duration": 11,
    "start_time": "2022-11-15T15:59:04.882Z"
   },
   {
    "duration": 174,
    "start_time": "2022-11-15T15:59:04.897Z"
   },
   {
    "duration": 15,
    "start_time": "2022-11-15T15:59:05.073Z"
   },
   {
    "duration": 11,
    "start_time": "2022-11-15T15:59:05.090Z"
   },
   {
    "duration": 6,
    "start_time": "2022-11-15T15:59:05.102Z"
   },
   {
    "duration": 36,
    "start_time": "2022-11-15T15:59:05.110Z"
   },
   {
    "duration": 6,
    "start_time": "2022-11-15T15:59:05.147Z"
   },
   {
    "duration": 16,
    "start_time": "2022-11-15T15:59:05.154Z"
   },
   {
    "duration": 501,
    "start_time": "2022-11-15T15:59:05.171Z"
   },
   {
    "duration": 3,
    "start_time": "2022-11-15T15:59:05.674Z"
   },
   {
    "duration": 9069,
    "start_time": "2022-11-15T15:59:05.679Z"
   },
   {
    "duration": 350,
    "start_time": "2022-11-15T15:59:14.749Z"
   },
   {
    "duration": 4,
    "start_time": "2022-11-15T15:59:15.100Z"
   },
   {
    "duration": 636,
    "start_time": "2022-11-15T15:59:15.106Z"
   },
   {
    "duration": 5,
    "start_time": "2022-11-15T15:59:15.744Z"
   },
   {
    "duration": 117,
    "start_time": "2022-11-15T15:59:15.752Z"
   },
   {
    "duration": 3,
    "start_time": "2022-11-15T15:59:15.938Z"
   },
   {
    "duration": 263,
    "start_time": "2022-11-15T15:59:15.942Z"
   },
   {
    "duration": 4,
    "start_time": "2022-11-15T15:59:16.207Z"
   },
   {
    "duration": 22569,
    "start_time": "2022-11-15T15:59:16.212Z"
   },
   {
    "duration": 457,
    "start_time": "2022-11-15T15:59:38.783Z"
   },
   {
    "duration": 4,
    "start_time": "2022-11-15T15:59:39.241Z"
   },
   {
    "duration": 597,
    "start_time": "2022-11-15T15:59:39.247Z"
   },
   {
    "duration": 96,
    "start_time": "2022-11-15T15:59:39.846Z"
   },
   {
    "duration": 103,
    "start_time": "2022-11-15T15:59:39.944Z"
   },
   {
    "duration": 6,
    "start_time": "2022-11-15T15:59:40.049Z"
   },
   {
    "duration": 7,
    "start_time": "2022-11-15T15:59:40.057Z"
   },
   {
    "duration": 15,
    "start_time": "2022-11-15T15:59:40.065Z"
   },
   {
    "duration": 11961,
    "start_time": "2022-11-15T15:59:40.082Z"
   },
   {
    "duration": 355,
    "start_time": "2022-11-15T15:59:52.045Z"
   },
   {
    "duration": 3,
    "start_time": "2022-11-15T15:59:52.402Z"
   },
   {
    "duration": 21,
    "start_time": "2022-11-15T15:59:52.406Z"
   },
   {
    "duration": 41,
    "start_time": "2022-11-15T15:59:52.429Z"
   },
   {
    "duration": 5981,
    "start_time": "2022-11-15T15:59:52.471Z"
   },
   {
    "duration": 367,
    "start_time": "2022-11-15T15:59:58.454Z"
   },
   {
    "duration": 4,
    "start_time": "2022-11-15T15:59:58.823Z"
   },
   {
    "duration": 262,
    "start_time": "2022-11-15T15:59:58.837Z"
   },
   {
    "duration": 134,
    "start_time": "2022-11-15T16:00:40.172Z"
   },
   {
    "duration": 9340,
    "start_time": "2022-11-15T16:02:18.477Z"
   },
   {
    "duration": 385,
    "start_time": "2022-11-15T16:02:27.820Z"
   },
   {
    "duration": 4,
    "start_time": "2022-11-15T16:02:28.207Z"
   },
   {
    "duration": 4,
    "start_time": "2022-11-15T16:02:37.215Z"
   },
   {
    "duration": 52,
    "start_time": "2022-11-15T16:02:37.221Z"
   },
   {
    "duration": 12,
    "start_time": "2022-11-15T16:02:37.275Z"
   },
   {
    "duration": 8,
    "start_time": "2022-11-15T16:02:37.289Z"
   },
   {
    "duration": 164,
    "start_time": "2022-11-15T16:02:37.299Z"
   },
   {
    "duration": 17,
    "start_time": "2022-11-15T16:02:37.464Z"
   },
   {
    "duration": 9,
    "start_time": "2022-11-15T16:02:37.483Z"
   },
   {
    "duration": 11,
    "start_time": "2022-11-15T16:02:37.494Z"
   },
   {
    "duration": 271,
    "start_time": "2022-11-15T16:02:37.507Z"
   },
   {
    "duration": 14,
    "start_time": "2022-11-15T16:02:37.781Z"
   },
   {
    "duration": 11,
    "start_time": "2022-11-15T16:02:37.797Z"
   },
   {
    "duration": 30,
    "start_time": "2022-11-15T16:02:37.810Z"
   },
   {
    "duration": 11,
    "start_time": "2022-11-15T16:02:37.842Z"
   },
   {
    "duration": 6,
    "start_time": "2022-11-15T16:02:37.855Z"
   },
   {
    "duration": 13,
    "start_time": "2022-11-15T16:02:37.863Z"
   },
   {
    "duration": 404,
    "start_time": "2022-11-15T16:02:37.878Z"
   },
   {
    "duration": 4,
    "start_time": "2022-11-15T16:02:38.284Z"
   },
   {
    "duration": 9060,
    "start_time": "2022-11-15T16:02:38.289Z"
   },
   {
    "duration": 372,
    "start_time": "2022-11-15T16:02:47.351Z"
   },
   {
    "duration": 3,
    "start_time": "2022-11-15T16:02:47.725Z"
   },
   {
    "duration": 510,
    "start_time": "2022-11-15T16:02:47.737Z"
   },
   {
    "duration": 4,
    "start_time": "2022-11-15T16:02:48.339Z"
   },
   {
    "duration": 98,
    "start_time": "2022-11-15T16:02:48.346Z"
   },
   {
    "duration": 10,
    "start_time": "2022-11-15T16:02:48.446Z"
   },
   {
    "duration": 251,
    "start_time": "2022-11-15T16:02:48.458Z"
   },
   {
    "duration": 4,
    "start_time": "2022-11-15T16:02:48.710Z"
   },
   {
    "duration": 9227,
    "start_time": "2022-11-15T16:02:48.715Z"
   },
   {
    "duration": 363,
    "start_time": "2022-11-15T16:02:57.945Z"
   },
   {
    "duration": 3,
    "start_time": "2022-11-15T16:02:58.310Z"
   },
   {
    "duration": 723,
    "start_time": "2022-11-15T16:02:58.315Z"
   },
   {
    "duration": 5,
    "start_time": "2022-11-15T16:02:59.041Z"
   },
   {
    "duration": 25,
    "start_time": "2022-11-15T16:02:59.138Z"
   },
   {
    "duration": 9,
    "start_time": "2022-11-15T16:02:59.165Z"
   },
   {
    "duration": 6,
    "start_time": "2022-11-15T16:02:59.175Z"
   },
   {
    "duration": 16,
    "start_time": "2022-11-15T16:02:59.183Z"
   },
   {
    "duration": 11974,
    "start_time": "2022-11-15T16:02:59.201Z"
   },
   {
    "duration": 368,
    "start_time": "2022-11-15T16:03:11.177Z"
   },
   {
    "duration": 4,
    "start_time": "2022-11-15T16:03:11.547Z"
   },
   {
    "duration": 30,
    "start_time": "2022-11-15T16:03:11.553Z"
   },
   {
    "duration": 41,
    "start_time": "2022-11-15T16:03:11.585Z"
   },
   {
    "duration": 6035,
    "start_time": "2022-11-15T16:03:11.629Z"
   },
   {
    "duration": 369,
    "start_time": "2022-11-15T16:03:17.666Z"
   },
   {
    "duration": 4,
    "start_time": "2022-11-15T16:03:18.036Z"
   },
   {
    "duration": 149,
    "start_time": "2022-11-15T16:03:18.041Z"
   },
   {
    "duration": 141,
    "start_time": "2022-11-15T16:03:52.828Z"
   },
   {
    "duration": 1569,
    "start_time": "2022-11-16T03:23:24.180Z"
   },
   {
    "duration": 177,
    "start_time": "2022-11-16T03:23:25.751Z"
   },
   {
    "duration": 12,
    "start_time": "2022-11-16T03:23:25.930Z"
   },
   {
    "duration": 6,
    "start_time": "2022-11-16T03:23:25.944Z"
   },
   {
    "duration": 158,
    "start_time": "2022-11-16T03:23:25.951Z"
   },
   {
    "duration": 16,
    "start_time": "2022-11-16T03:23:26.113Z"
   },
   {
    "duration": 12,
    "start_time": "2022-11-16T03:23:26.130Z"
   },
   {
    "duration": 19,
    "start_time": "2022-11-16T03:23:26.143Z"
   },
   {
    "duration": 185,
    "start_time": "2022-11-16T03:23:26.163Z"
   },
   {
    "duration": 16,
    "start_time": "2022-11-16T03:23:26.351Z"
   },
   {
    "duration": 14,
    "start_time": "2022-11-16T03:23:26.369Z"
   },
   {
    "duration": 32,
    "start_time": "2022-11-16T03:23:26.385Z"
   },
   {
    "duration": 24,
    "start_time": "2022-11-16T03:23:26.420Z"
   },
   {
    "duration": 7,
    "start_time": "2022-11-16T03:23:26.446Z"
   },
   {
    "duration": 15,
    "start_time": "2022-11-16T03:23:26.455Z"
   },
   {
    "duration": 385,
    "start_time": "2022-11-16T03:23:26.472Z"
   },
   {
    "duration": 3,
    "start_time": "2022-11-16T03:23:26.859Z"
   },
   {
    "duration": 8076,
    "start_time": "2022-11-16T03:23:26.863Z"
   },
   {
    "duration": 364,
    "start_time": "2022-11-16T03:23:34.941Z"
   },
   {
    "duration": 3,
    "start_time": "2022-11-16T03:23:35.312Z"
   },
   {
    "duration": 402,
    "start_time": "2022-11-16T03:23:35.317Z"
   },
   {
    "duration": 92,
    "start_time": "2022-11-16T03:23:35.722Z"
   },
   {
    "duration": 96,
    "start_time": "2022-11-16T03:23:35.818Z"
   },
   {
    "duration": 25,
    "start_time": "2022-11-16T03:23:35.915Z"
   },
   {
    "duration": 326,
    "start_time": "2022-11-16T03:23:35.941Z"
   },
   {
    "duration": 4,
    "start_time": "2022-11-16T03:23:36.268Z"
   },
   {
    "duration": 9538,
    "start_time": "2022-11-16T03:23:36.275Z"
   },
   {
    "duration": 352,
    "start_time": "2022-11-16T03:23:45.817Z"
   },
   {
    "duration": 4,
    "start_time": "2022-11-16T03:23:46.174Z"
   },
   {
    "duration": 730,
    "start_time": "2022-11-16T03:23:46.182Z"
   },
   {
    "duration": 7,
    "start_time": "2022-11-16T03:23:46.914Z"
   },
   {
    "duration": 8,
    "start_time": "2022-11-16T03:23:47.012Z"
   },
   {
    "duration": 6,
    "start_time": "2022-11-16T03:23:47.022Z"
   },
   {
    "duration": 6,
    "start_time": "2022-11-16T03:23:47.029Z"
   },
   {
    "duration": 17,
    "start_time": "2022-11-16T03:23:47.037Z"
   },
   {
    "duration": 11860,
    "start_time": "2022-11-16T03:23:47.056Z"
   },
   {
    "duration": 361,
    "start_time": "2022-11-16T03:23:58.917Z"
   },
   {
    "duration": 3,
    "start_time": "2022-11-16T03:23:59.280Z"
   },
   {
    "duration": 7,
    "start_time": "2022-11-16T03:23:59.285Z"
   },
   {
    "duration": 30,
    "start_time": "2022-11-16T03:23:59.293Z"
   },
   {
    "duration": 5486,
    "start_time": "2022-11-16T03:23:59.325Z"
   },
   {
    "duration": 370,
    "start_time": "2022-11-16T03:24:04.813Z"
   },
   {
    "duration": 3,
    "start_time": "2022-11-16T03:24:05.185Z"
   },
   {
    "duration": 151,
    "start_time": "2022-11-16T03:24:05.190Z"
   },
   {
    "duration": 4,
    "start_time": "2022-11-16T03:28:36.588Z"
   },
   {
    "duration": 57,
    "start_time": "2022-11-16T03:28:36.594Z"
   },
   {
    "duration": 11,
    "start_time": "2022-11-16T03:28:36.653Z"
   },
   {
    "duration": 6,
    "start_time": "2022-11-16T03:28:36.666Z"
   },
   {
    "duration": 168,
    "start_time": "2022-11-16T03:28:36.674Z"
   },
   {
    "duration": 7,
    "start_time": "2022-11-16T03:28:36.843Z"
   },
   {
    "duration": 160,
    "start_time": "2022-11-16T03:28:36.852Z"
   },
   {
    "duration": 12,
    "start_time": "2022-11-16T03:28:37.014Z"
   },
   {
    "duration": 13,
    "start_time": "2022-11-16T03:28:37.027Z"
   },
   {
    "duration": 132,
    "start_time": "2022-11-16T03:28:37.042Z"
   },
   {
    "duration": 0,
    "start_time": "2022-11-16T03:28:37.177Z"
   },
   {
    "duration": 0,
    "start_time": "2022-11-16T03:28:37.178Z"
   },
   {
    "duration": 0,
    "start_time": "2022-11-16T03:28:37.180Z"
   },
   {
    "duration": 0,
    "start_time": "2022-11-16T03:28:37.182Z"
   },
   {
    "duration": 0,
    "start_time": "2022-11-16T03:28:37.184Z"
   },
   {
    "duration": 0,
    "start_time": "2022-11-16T03:28:37.185Z"
   },
   {
    "duration": 0,
    "start_time": "2022-11-16T03:28:37.186Z"
   },
   {
    "duration": 0,
    "start_time": "2022-11-16T03:28:37.188Z"
   },
   {
    "duration": 0,
    "start_time": "2022-11-16T03:28:37.189Z"
   },
   {
    "duration": 0,
    "start_time": "2022-11-16T03:28:37.212Z"
   },
   {
    "duration": 0,
    "start_time": "2022-11-16T03:28:37.213Z"
   },
   {
    "duration": 0,
    "start_time": "2022-11-16T03:28:37.215Z"
   },
   {
    "duration": 0,
    "start_time": "2022-11-16T03:28:37.217Z"
   },
   {
    "duration": 0,
    "start_time": "2022-11-16T03:28:37.218Z"
   },
   {
    "duration": 0,
    "start_time": "2022-11-16T03:28:37.219Z"
   },
   {
    "duration": 0,
    "start_time": "2022-11-16T03:28:37.220Z"
   },
   {
    "duration": 1,
    "start_time": "2022-11-16T03:28:37.221Z"
   },
   {
    "duration": 0,
    "start_time": "2022-11-16T03:28:37.222Z"
   },
   {
    "duration": 0,
    "start_time": "2022-11-16T03:28:37.223Z"
   },
   {
    "duration": 0,
    "start_time": "2022-11-16T03:28:37.224Z"
   },
   {
    "duration": 0,
    "start_time": "2022-11-16T03:28:37.225Z"
   },
   {
    "duration": 0,
    "start_time": "2022-11-16T03:28:37.226Z"
   },
   {
    "duration": 0,
    "start_time": "2022-11-16T03:28:37.227Z"
   },
   {
    "duration": 0,
    "start_time": "2022-11-16T03:28:37.228Z"
   },
   {
    "duration": 0,
    "start_time": "2022-11-16T03:28:37.229Z"
   },
   {
    "duration": 0,
    "start_time": "2022-11-16T03:28:37.230Z"
   },
   {
    "duration": 0,
    "start_time": "2022-11-16T03:28:37.231Z"
   },
   {
    "duration": 0,
    "start_time": "2022-11-16T03:28:37.232Z"
   },
   {
    "duration": 0,
    "start_time": "2022-11-16T03:28:37.233Z"
   },
   {
    "duration": 0,
    "start_time": "2022-11-16T03:28:37.234Z"
   },
   {
    "duration": 0,
    "start_time": "2022-11-16T03:28:37.235Z"
   },
   {
    "duration": 0,
    "start_time": "2022-11-16T03:28:37.236Z"
   },
   {
    "duration": 6,
    "start_time": "2022-11-16T03:30:03.120Z"
   },
   {
    "duration": 12,
    "start_time": "2022-11-16T03:30:07.431Z"
   },
   {
    "duration": 7,
    "start_time": "2022-11-16T03:30:26.487Z"
   },
   {
    "duration": 12,
    "start_time": "2022-11-16T03:32:28.821Z"
   },
   {
    "duration": 639,
    "start_time": "2022-11-16T03:43:33.881Z"
   },
   {
    "duration": 634,
    "start_time": "2022-11-16T03:44:23.527Z"
   },
   {
    "duration": 633,
    "start_time": "2022-11-16T03:44:32.303Z"
   },
   {
    "duration": 773,
    "start_time": "2022-11-16T03:44:43.983Z"
   },
   {
    "duration": 326,
    "start_time": "2022-11-16T03:44:59.399Z"
   },
   {
    "duration": 394,
    "start_time": "2022-11-16T03:45:06.295Z"
   },
   {
    "duration": 469,
    "start_time": "2022-11-16T03:48:13.333Z"
   },
   {
    "duration": 460,
    "start_time": "2022-11-16T03:50:53.644Z"
   },
   {
    "duration": 3,
    "start_time": "2022-11-16T03:50:56.811Z"
   },
   {
    "duration": 474,
    "start_time": "2022-11-16T03:54:21.153Z"
   },
   {
    "duration": 4,
    "start_time": "2022-11-16T03:54:52.128Z"
   },
   {
    "duration": 483,
    "start_time": "2022-11-16T03:57:16.896Z"
   },
   {
    "duration": 4,
    "start_time": "2022-11-16T03:57:18.191Z"
   },
   {
    "duration": 9633,
    "start_time": "2022-11-16T04:01:01.165Z"
   },
   {
    "duration": 222,
    "start_time": "2022-11-16T04:01:13.037Z"
   },
   {
    "duration": 201,
    "start_time": "2022-11-16T04:02:47.429Z"
   },
   {
    "duration": 18,
    "start_time": "2022-11-16T04:03:48.187Z"
   },
   {
    "duration": 3,
    "start_time": "2022-11-16T04:03:58.869Z"
   },
   {
    "duration": 9720,
    "start_time": "2022-11-16T04:04:22.147Z"
   },
   {
    "duration": 3,
    "start_time": "2022-11-16T04:04:31.869Z"
   },
   {
    "duration": 227,
    "start_time": "2022-11-16T04:04:39.267Z"
   },
   {
    "duration": 643,
    "start_time": "2022-11-16T04:04:45.507Z"
   },
   {
    "duration": 4,
    "start_time": "2022-11-16T04:06:07.370Z"
   },
   {
    "duration": 3,
    "start_time": "2022-11-16T04:06:23.201Z"
   },
   {
    "duration": 4,
    "start_time": "2022-11-16T04:06:35.193Z"
   },
   {
    "duration": 4,
    "start_time": "2022-11-16T04:06:46.549Z"
   },
   {
    "duration": 52,
    "start_time": "2022-11-16T04:06:46.555Z"
   },
   {
    "duration": 10,
    "start_time": "2022-11-16T04:06:46.609Z"
   },
   {
    "duration": 7,
    "start_time": "2022-11-16T04:06:46.621Z"
   },
   {
    "duration": 167,
    "start_time": "2022-11-16T04:06:46.630Z"
   },
   {
    "duration": 18,
    "start_time": "2022-11-16T04:06:46.799Z"
   },
   {
    "duration": 152,
    "start_time": "2022-11-16T04:06:46.818Z"
   },
   {
    "duration": 13,
    "start_time": "2022-11-16T04:06:46.972Z"
   },
   {
    "duration": 8,
    "start_time": "2022-11-16T04:06:46.988Z"
   },
   {
    "duration": 6,
    "start_time": "2022-11-16T04:06:47.012Z"
   },
   {
    "duration": 29,
    "start_time": "2022-11-16T04:06:47.019Z"
   },
   {
    "duration": 16,
    "start_time": "2022-11-16T04:06:47.050Z"
   },
   {
    "duration": 499,
    "start_time": "2022-11-16T04:06:47.068Z"
   },
   {
    "duration": 5,
    "start_time": "2022-11-16T04:06:47.568Z"
   },
   {
    "duration": 10365,
    "start_time": "2022-11-16T04:06:47.575Z"
   },
   {
    "duration": 618,
    "start_time": "2022-11-16T04:06:57.942Z"
   },
   {
    "duration": 4,
    "start_time": "2022-11-16T04:06:58.561Z"
   },
   {
    "duration": 454,
    "start_time": "2022-11-16T04:06:58.567Z"
   },
   {
    "duration": 4,
    "start_time": "2022-11-16T04:06:59.113Z"
   },
   {
    "duration": 107,
    "start_time": "2022-11-16T04:06:59.119Z"
   },
   {
    "duration": 13,
    "start_time": "2022-11-16T04:06:59.227Z"
   },
   {
    "duration": 239,
    "start_time": "2022-11-16T04:06:59.241Z"
   },
   {
    "duration": 3,
    "start_time": "2022-11-16T04:06:59.483Z"
   },
   {
    "duration": 9460,
    "start_time": "2022-11-16T04:06:59.487Z"
   },
   {
    "duration": 345,
    "start_time": "2022-11-16T04:07:08.949Z"
   },
   {
    "duration": 4,
    "start_time": "2022-11-16T04:07:09.295Z"
   },
   {
    "duration": 422,
    "start_time": "2022-11-16T04:07:09.300Z"
   },
   {
    "duration": 4,
    "start_time": "2022-11-16T04:07:09.813Z"
   },
   {
    "duration": 102,
    "start_time": "2022-11-16T04:07:09.819Z"
   },
   {
    "duration": 11,
    "start_time": "2022-11-16T04:07:09.923Z"
   },
   {
    "duration": 9,
    "start_time": "2022-11-16T04:07:09.936Z"
   },
   {
    "duration": 16,
    "start_time": "2022-11-16T04:07:09.947Z"
   },
   {
    "duration": 11487,
    "start_time": "2022-11-16T04:07:09.964Z"
   },
   {
    "duration": 353,
    "start_time": "2022-11-16T04:07:21.452Z"
   },
   {
    "duration": 5,
    "start_time": "2022-11-16T04:07:21.807Z"
   },
   {
    "duration": 27,
    "start_time": "2022-11-16T04:07:21.813Z"
   },
   {
    "duration": 38,
    "start_time": "2022-11-16T04:07:21.841Z"
   },
   {
    "duration": 5591,
    "start_time": "2022-11-16T04:07:21.881Z"
   },
   {
    "duration": 387,
    "start_time": "2022-11-16T04:07:27.474Z"
   },
   {
    "duration": 3,
    "start_time": "2022-11-16T04:07:27.863Z"
   },
   {
    "duration": 158,
    "start_time": "2022-11-16T04:07:27.868Z"
   },
   {
    "duration": 745,
    "start_time": "2022-11-16T04:08:08.473Z"
   },
   {
    "duration": 5,
    "start_time": "2022-11-16T04:08:09.316Z"
   },
   {
    "duration": 593,
    "start_time": "2022-11-16T04:13:11.821Z"
   },
   {
    "duration": 520,
    "start_time": "2022-11-16T04:14:40.812Z"
   },
   {
    "duration": 498,
    "start_time": "2022-11-16T04:15:10.052Z"
   },
   {
    "duration": 900,
    "start_time": "2022-11-16T04:15:29.044Z"
   },
   {
    "duration": 961,
    "start_time": "2022-11-16T04:15:50.207Z"
   },
   {
    "duration": 1078,
    "start_time": "2022-11-16T04:16:12.420Z"
   },
   {
    "duration": 481,
    "start_time": "2022-11-16T04:17:24.394Z"
   },
   {
    "duration": 667,
    "start_time": "2022-11-16T04:18:08.690Z"
   },
   {
    "duration": 19,
    "start_time": "2022-11-16T04:26:03.812Z"
   },
   {
    "duration": 7,
    "start_time": "2022-11-16T04:44:50.479Z"
   },
   {
    "duration": 601,
    "start_time": "2022-11-16T04:45:57.767Z"
   },
   {
    "duration": 6,
    "start_time": "2022-11-16T04:51:42.939Z"
   },
   {
    "duration": 7,
    "start_time": "2022-11-16T04:53:08.715Z"
   },
   {
    "duration": 610,
    "start_time": "2022-11-16T04:53:10.402Z"
   },
   {
    "duration": 3,
    "start_time": "2022-11-16T04:53:12.042Z"
   },
   {
    "duration": 8,
    "start_time": "2022-11-16T04:53:52.601Z"
   },
   {
    "duration": 1583,
    "start_time": "2022-11-16T14:56:18.385Z"
   },
   {
    "duration": 94,
    "start_time": "2022-11-16T14:56:19.970Z"
   },
   {
    "duration": 14,
    "start_time": "2022-11-16T14:56:20.065Z"
   },
   {
    "duration": 8,
    "start_time": "2022-11-16T14:56:20.080Z"
   },
   {
    "duration": 160,
    "start_time": "2022-11-16T14:56:20.090Z"
   },
   {
    "duration": 7,
    "start_time": "2022-11-16T14:56:20.252Z"
   },
   {
    "duration": 173,
    "start_time": "2022-11-16T14:56:20.261Z"
   },
   {
    "duration": 14,
    "start_time": "2022-11-16T14:56:20.436Z"
   },
   {
    "duration": 11,
    "start_time": "2022-11-16T14:56:20.452Z"
   },
   {
    "duration": 7,
    "start_time": "2022-11-16T14:56:20.465Z"
   },
   {
    "duration": 10,
    "start_time": "2022-11-16T14:56:20.475Z"
   },
   {
    "duration": 42,
    "start_time": "2022-11-16T14:56:20.487Z"
   },
   {
    "duration": 8,
    "start_time": "2022-11-16T14:56:20.531Z"
   },
   {
    "duration": 634,
    "start_time": "2022-11-16T14:56:20.542Z"
   },
   {
    "duration": 4,
    "start_time": "2022-11-16T14:56:21.178Z"
   },
   {
    "duration": 9310,
    "start_time": "2022-11-16T14:56:21.183Z"
   },
   {
    "duration": 790,
    "start_time": "2022-11-16T14:56:30.495Z"
   },
   {
    "duration": 3,
    "start_time": "2022-11-16T14:56:31.287Z"
   },
   {
    "duration": 530,
    "start_time": "2022-11-16T14:56:31.292Z"
   },
   {
    "duration": 100,
    "start_time": "2022-11-16T14:56:31.824Z"
   },
   {
    "duration": 127,
    "start_time": "2022-11-16T14:56:31.926Z"
   },
   {
    "duration": 0,
    "start_time": "2022-11-16T14:56:32.055Z"
   },
   {
    "duration": 0,
    "start_time": "2022-11-16T14:56:32.057Z"
   },
   {
    "duration": 0,
    "start_time": "2022-11-16T14:56:32.058Z"
   },
   {
    "duration": 0,
    "start_time": "2022-11-16T14:56:32.060Z"
   },
   {
    "duration": 0,
    "start_time": "2022-11-16T14:56:32.062Z"
   },
   {
    "duration": 0,
    "start_time": "2022-11-16T14:56:32.063Z"
   },
   {
    "duration": 0,
    "start_time": "2022-11-16T14:56:32.064Z"
   },
   {
    "duration": 0,
    "start_time": "2022-11-16T14:56:32.066Z"
   },
   {
    "duration": 0,
    "start_time": "2022-11-16T14:56:32.067Z"
   },
   {
    "duration": 0,
    "start_time": "2022-11-16T14:56:32.069Z"
   },
   {
    "duration": 0,
    "start_time": "2022-11-16T14:56:32.071Z"
   },
   {
    "duration": 0,
    "start_time": "2022-11-16T14:56:32.072Z"
   },
   {
    "duration": 0,
    "start_time": "2022-11-16T14:56:32.074Z"
   },
   {
    "duration": 1,
    "start_time": "2022-11-16T14:56:32.076Z"
   },
   {
    "duration": 0,
    "start_time": "2022-11-16T14:56:32.078Z"
   },
   {
    "duration": 0,
    "start_time": "2022-11-16T14:56:32.080Z"
   },
   {
    "duration": 0,
    "start_time": "2022-11-16T14:56:32.081Z"
   },
   {
    "duration": 0,
    "start_time": "2022-11-16T14:56:32.122Z"
   },
   {
    "duration": 0,
    "start_time": "2022-11-16T14:56:32.124Z"
   },
   {
    "duration": 0,
    "start_time": "2022-11-16T14:56:32.125Z"
   },
   {
    "duration": 0,
    "start_time": "2022-11-16T14:56:32.127Z"
   },
   {
    "duration": 9,
    "start_time": "2022-11-16T14:59:57.639Z"
   },
   {
    "duration": 646,
    "start_time": "2022-11-16T14:59:59.883Z"
   },
   {
    "duration": 4,
    "start_time": "2022-11-16T15:00:01.615Z"
   },
   {
    "duration": 8,
    "start_time": "2022-11-16T15:15:29.336Z"
   },
   {
    "duration": 9592,
    "start_time": "2022-11-16T15:16:23.805Z"
   },
   {
    "duration": 10,
    "start_time": "2022-11-16T15:21:17.607Z"
   },
   {
    "duration": 11,
    "start_time": "2022-11-16T15:21:20.985Z"
   },
   {
    "duration": 9680,
    "start_time": "2022-11-16T15:21:22.284Z"
   },
   {
    "duration": 10095,
    "start_time": "2022-11-16T15:22:09.348Z"
   },
   {
    "duration": 11,
    "start_time": "2022-11-16T15:23:24.753Z"
   },
   {
    "duration": 10147,
    "start_time": "2022-11-16T15:23:33.485Z"
   },
   {
    "duration": 11,
    "start_time": "2022-11-16T15:26:42.347Z"
   },
   {
    "duration": 4,
    "start_time": "2022-11-16T15:27:04.052Z"
   },
   {
    "duration": 5,
    "start_time": "2022-11-16T15:35:20.408Z"
   },
   {
    "duration": 710,
    "start_time": "2022-11-16T15:35:49.613Z"
   },
   {
    "duration": 3,
    "start_time": "2022-11-16T15:35:50.973Z"
   },
   {
    "duration": 4,
    "start_time": "2022-11-16T15:43:22.205Z"
   },
   {
    "duration": 5,
    "start_time": "2022-11-16T15:45:40.302Z"
   },
   {
    "duration": 359,
    "start_time": "2022-11-16T15:45:41.572Z"
   },
   {
    "duration": 11,
    "start_time": "2022-11-16T15:46:08.527Z"
   },
   {
    "duration": 10039,
    "start_time": "2022-11-16T15:46:09.439Z"
   },
   {
    "duration": 11,
    "start_time": "2022-11-16T15:46:25.168Z"
   },
   {
    "duration": 8,
    "start_time": "2022-11-16T15:46:38.809Z"
   },
   {
    "duration": 9,
    "start_time": "2022-11-16T15:46:42.632Z"
   },
   {
    "duration": 703,
    "start_time": "2022-11-16T15:46:47.310Z"
   },
   {
    "duration": 9,
    "start_time": "2022-11-16T15:47:04.385Z"
   },
   {
    "duration": 639,
    "start_time": "2022-11-16T15:47:07.927Z"
   },
   {
    "duration": 4,
    "start_time": "2022-11-16T15:47:08.886Z"
   },
   {
    "duration": 10,
    "start_time": "2022-11-16T15:47:10.165Z"
   },
   {
    "duration": 9997,
    "start_time": "2022-11-16T15:47:11.206Z"
   },
   {
    "duration": 3,
    "start_time": "2022-11-16T15:47:21.205Z"
   },
   {
    "duration": 5,
    "start_time": "2022-11-16T15:47:50.656Z"
   },
   {
    "duration": 658,
    "start_time": "2022-11-16T15:47:51.375Z"
   },
   {
    "duration": 5,
    "start_time": "2022-11-16T15:52:49.791Z"
   },
   {
    "duration": 740,
    "start_time": "2022-11-16T15:52:50.382Z"
   },
   {
    "duration": 3,
    "start_time": "2022-11-16T15:52:53.480Z"
   },
   {
    "duration": 3,
    "start_time": "2022-11-16T16:09:45.228Z"
   },
   {
    "duration": 6,
    "start_time": "2022-11-16T16:10:11.148Z"
   },
   {
    "duration": 507,
    "start_time": "2022-11-16T16:10:12.020Z"
   },
   {
    "duration": 4,
    "start_time": "2022-11-16T16:10:12.755Z"
   },
   {
    "duration": 3,
    "start_time": "2022-11-16T16:10:16.067Z"
   },
   {
    "duration": 597,
    "start_time": "2022-11-16T16:11:52.683Z"
   },
   {
    "duration": 4,
    "start_time": "2022-11-16T16:11:54.595Z"
   },
   {
    "duration": 4,
    "start_time": "2022-11-16T16:12:45.711Z"
   },
   {
    "duration": 50,
    "start_time": "2022-11-16T16:12:45.716Z"
   },
   {
    "duration": 10,
    "start_time": "2022-11-16T16:12:45.768Z"
   },
   {
    "duration": 7,
    "start_time": "2022-11-16T16:12:45.780Z"
   },
   {
    "duration": 152,
    "start_time": "2022-11-16T16:12:45.788Z"
   },
   {
    "duration": 7,
    "start_time": "2022-11-16T16:12:45.942Z"
   },
   {
    "duration": 150,
    "start_time": "2022-11-16T16:12:45.950Z"
   },
   {
    "duration": 21,
    "start_time": "2022-11-16T16:12:46.101Z"
   },
   {
    "duration": 9,
    "start_time": "2022-11-16T16:12:46.124Z"
   },
   {
    "duration": 4,
    "start_time": "2022-11-16T16:12:46.135Z"
   },
   {
    "duration": 5,
    "start_time": "2022-11-16T16:12:46.142Z"
   },
   {
    "duration": 10,
    "start_time": "2022-11-16T16:12:46.148Z"
   },
   {
    "duration": 8,
    "start_time": "2022-11-16T16:12:46.159Z"
   },
   {
    "duration": 634,
    "start_time": "2022-11-16T16:12:46.169Z"
   },
   {
    "duration": 4,
    "start_time": "2022-11-16T16:12:46.804Z"
   },
   {
    "duration": 18,
    "start_time": "2022-11-16T16:12:46.810Z"
   },
   {
    "duration": 9932,
    "start_time": "2022-11-16T16:12:46.830Z"
   },
   {
    "duration": 3,
    "start_time": "2022-11-16T16:12:56.763Z"
   },
   {
    "duration": 9,
    "start_time": "2022-11-16T16:12:56.768Z"
   },
   {
    "duration": 744,
    "start_time": "2022-11-16T16:12:56.778Z"
   },
   {
    "duration": 3,
    "start_time": "2022-11-16T16:12:57.524Z"
   },
   {
    "duration": 9,
    "start_time": "2022-11-16T16:12:57.528Z"
   },
   {
    "duration": 15,
    "start_time": "2022-11-16T16:12:57.539Z"
   },
   {
    "duration": 0,
    "start_time": "2022-11-16T16:12:57.556Z"
   },
   {
    "duration": 0,
    "start_time": "2022-11-16T16:12:57.557Z"
   },
   {
    "duration": 0,
    "start_time": "2022-11-16T16:12:57.559Z"
   },
   {
    "duration": 0,
    "start_time": "2022-11-16T16:12:57.560Z"
   },
   {
    "duration": 0,
    "start_time": "2022-11-16T16:12:57.561Z"
   },
   {
    "duration": 0,
    "start_time": "2022-11-16T16:12:57.562Z"
   },
   {
    "duration": 0,
    "start_time": "2022-11-16T16:12:57.563Z"
   },
   {
    "duration": 0,
    "start_time": "2022-11-16T16:12:57.564Z"
   },
   {
    "duration": 0,
    "start_time": "2022-11-16T16:12:57.565Z"
   },
   {
    "duration": 0,
    "start_time": "2022-11-16T16:12:57.566Z"
   },
   {
    "duration": 0,
    "start_time": "2022-11-16T16:12:57.567Z"
   },
   {
    "duration": 0,
    "start_time": "2022-11-16T16:12:57.569Z"
   },
   {
    "duration": 0,
    "start_time": "2022-11-16T16:12:57.570Z"
   },
   {
    "duration": 0,
    "start_time": "2022-11-16T16:12:57.571Z"
   },
   {
    "duration": 0,
    "start_time": "2022-11-16T16:12:57.572Z"
   },
   {
    "duration": 0,
    "start_time": "2022-11-16T16:12:57.573Z"
   },
   {
    "duration": 0,
    "start_time": "2022-11-16T16:12:57.574Z"
   },
   {
    "duration": 0,
    "start_time": "2022-11-16T16:12:57.575Z"
   },
   {
    "duration": 0,
    "start_time": "2022-11-16T16:12:57.622Z"
   },
   {
    "duration": 0,
    "start_time": "2022-11-16T16:12:57.623Z"
   },
   {
    "duration": 4,
    "start_time": "2022-11-16T16:14:09.644Z"
   },
   {
    "duration": 613,
    "start_time": "2022-11-16T16:23:32.984Z"
   },
   {
    "duration": 10307,
    "start_time": "2022-11-16T16:24:41.415Z"
   },
   {
    "duration": 10,
    "start_time": "2022-11-16T16:25:40.640Z"
   },
   {
    "duration": 10319,
    "start_time": "2022-11-16T16:25:45.648Z"
   },
   {
    "duration": 509,
    "start_time": "2022-11-16T16:27:36.120Z"
   },
   {
    "duration": 4,
    "start_time": "2022-11-16T16:29:32.844Z"
   },
   {
    "duration": 3,
    "start_time": "2022-11-16T16:29:39.704Z"
   },
   {
    "duration": 3,
    "start_time": "2022-11-16T16:29:41.304Z"
   },
   {
    "duration": 1438,
    "start_time": "2022-11-16T16:36:54.498Z"
   },
   {
    "duration": 49,
    "start_time": "2022-11-16T16:36:55.938Z"
   },
   {
    "duration": 13,
    "start_time": "2022-11-16T16:36:55.988Z"
   },
   {
    "duration": 8,
    "start_time": "2022-11-16T16:36:56.002Z"
   },
   {
    "duration": 166,
    "start_time": "2022-11-16T16:36:56.012Z"
   },
   {
    "duration": 8,
    "start_time": "2022-11-16T16:36:56.180Z"
   },
   {
    "duration": 199,
    "start_time": "2022-11-16T16:36:56.190Z"
   },
   {
    "duration": 20,
    "start_time": "2022-11-16T16:36:56.391Z"
   },
   {
    "duration": 16,
    "start_time": "2022-11-16T16:36:56.422Z"
   },
   {
    "duration": 7,
    "start_time": "2022-11-16T16:36:56.440Z"
   },
   {
    "duration": 13,
    "start_time": "2022-11-16T16:36:56.449Z"
   },
   {
    "duration": 19,
    "start_time": "2022-11-16T16:36:56.465Z"
   },
   {
    "duration": 36,
    "start_time": "2022-11-16T16:36:56.487Z"
   },
   {
    "duration": 626,
    "start_time": "2022-11-16T16:36:56.527Z"
   },
   {
    "duration": 4,
    "start_time": "2022-11-16T16:36:57.155Z"
   },
   {
    "duration": 14,
    "start_time": "2022-11-16T16:36:57.161Z"
   },
   {
    "duration": 10489,
    "start_time": "2022-11-16T16:36:57.177Z"
   },
   {
    "duration": 4,
    "start_time": "2022-11-16T16:37:07.668Z"
   },
   {
    "duration": 9,
    "start_time": "2022-11-16T16:37:07.674Z"
   },
   {
    "duration": 1192,
    "start_time": "2022-11-16T16:37:07.685Z"
   },
   {
    "duration": 0,
    "start_time": "2022-11-16T16:37:08.879Z"
   },
   {
    "duration": 0,
    "start_time": "2022-11-16T16:37:08.880Z"
   },
   {
    "duration": 0,
    "start_time": "2022-11-16T16:37:08.882Z"
   },
   {
    "duration": 0,
    "start_time": "2022-11-16T16:37:08.883Z"
   },
   {
    "duration": 0,
    "start_time": "2022-11-16T16:37:08.885Z"
   },
   {
    "duration": 0,
    "start_time": "2022-11-16T16:37:08.886Z"
   },
   {
    "duration": 0,
    "start_time": "2022-11-16T16:37:08.887Z"
   },
   {
    "duration": 0,
    "start_time": "2022-11-16T16:37:08.888Z"
   },
   {
    "duration": 0,
    "start_time": "2022-11-16T16:37:08.890Z"
   },
   {
    "duration": 0,
    "start_time": "2022-11-16T16:37:08.891Z"
   },
   {
    "duration": 0,
    "start_time": "2022-11-16T16:37:08.892Z"
   },
   {
    "duration": 0,
    "start_time": "2022-11-16T16:37:08.894Z"
   },
   {
    "duration": 0,
    "start_time": "2022-11-16T16:37:08.922Z"
   },
   {
    "duration": 0,
    "start_time": "2022-11-16T16:37:08.923Z"
   },
   {
    "duration": 0,
    "start_time": "2022-11-16T16:37:08.924Z"
   },
   {
    "duration": 0,
    "start_time": "2022-11-16T16:37:08.925Z"
   },
   {
    "duration": 0,
    "start_time": "2022-11-16T16:37:08.927Z"
   },
   {
    "duration": 0,
    "start_time": "2022-11-16T16:37:08.929Z"
   },
   {
    "duration": 0,
    "start_time": "2022-11-16T16:37:08.930Z"
   },
   {
    "duration": 9,
    "start_time": "2022-11-16T16:37:34.229Z"
   },
   {
    "duration": 637,
    "start_time": "2022-11-16T16:37:35.193Z"
   },
   {
    "duration": 3,
    "start_time": "2022-11-16T16:37:36.692Z"
   },
   {
    "duration": 4,
    "start_time": "2022-11-16T16:37:38.835Z"
   },
   {
    "duration": 4,
    "start_time": "2022-11-16T16:37:39.596Z"
   },
   {
    "duration": 667,
    "start_time": "2022-11-16T16:39:28.988Z"
   },
   {
    "duration": 10745,
    "start_time": "2022-11-16T16:39:29.988Z"
   },
   {
    "duration": 1068,
    "start_time": "2022-11-16T16:39:43.556Z"
   },
   {
    "duration": 4,
    "start_time": "2022-11-16T16:39:50.489Z"
   },
   {
    "duration": 3,
    "start_time": "2022-11-16T16:39:51.787Z"
   },
   {
    "duration": 6,
    "start_time": "2022-11-16T16:39:55.851Z"
   },
   {
    "duration": 14,
    "start_time": "2022-11-16T16:39:59.308Z"
   },
   {
    "duration": 738,
    "start_time": "2022-11-16T16:41:50.220Z"
   },
   {
    "duration": 12862,
    "start_time": "2022-11-16T16:43:06.540Z"
   },
   {
    "duration": 685,
    "start_time": "2022-11-16T16:44:33.141Z"
   },
   {
    "duration": 690,
    "start_time": "2022-11-16T16:44:46.334Z"
   },
   {
    "duration": 627,
    "start_time": "2022-11-16T16:44:51.500Z"
   },
   {
    "duration": 4,
    "start_time": "2022-11-16T16:45:30.396Z"
   },
   {
    "duration": 18,
    "start_time": "2022-11-16T16:52:23.008Z"
   },
   {
    "duration": 17,
    "start_time": "2022-11-16T16:52:44.638Z"
   },
   {
    "duration": 5,
    "start_time": "2022-11-16T16:53:09.485Z"
   },
   {
    "duration": 5,
    "start_time": "2022-11-16T16:53:22.142Z"
   },
   {
    "duration": 4,
    "start_time": "2022-11-16T16:53:36.487Z"
   },
   {
    "duration": 5,
    "start_time": "2022-11-16T16:53:53.484Z"
   },
   {
    "duration": 4,
    "start_time": "2022-11-16T16:54:56.453Z"
   },
   {
    "duration": 7,
    "start_time": "2022-11-16T16:59:18.713Z"
   },
   {
    "duration": 1498,
    "start_time": "2022-11-16T17:01:55.549Z"
   },
   {
    "duration": 51,
    "start_time": "2022-11-16T17:01:57.049Z"
   },
   {
    "duration": 13,
    "start_time": "2022-11-16T17:01:57.102Z"
   },
   {
    "duration": 8,
    "start_time": "2022-11-16T17:01:57.118Z"
   },
   {
    "duration": 170,
    "start_time": "2022-11-16T17:01:57.127Z"
   },
   {
    "duration": 7,
    "start_time": "2022-11-16T17:01:57.299Z"
   },
   {
    "duration": 174,
    "start_time": "2022-11-16T17:01:57.308Z"
   },
   {
    "duration": 13,
    "start_time": "2022-11-16T17:01:57.484Z"
   },
   {
    "duration": 28,
    "start_time": "2022-11-16T17:01:57.499Z"
   },
   {
    "duration": 6,
    "start_time": "2022-11-16T17:01:57.530Z"
   },
   {
    "duration": 13,
    "start_time": "2022-11-16T17:01:57.537Z"
   },
   {
    "duration": 13,
    "start_time": "2022-11-16T17:01:57.552Z"
   },
   {
    "duration": 9,
    "start_time": "2022-11-16T17:01:57.567Z"
   },
   {
    "duration": 11,
    "start_time": "2022-11-16T17:01:57.578Z"
   },
   {
    "duration": 687,
    "start_time": "2022-11-16T17:01:57.591Z"
   },
   {
    "duration": 3,
    "start_time": "2022-11-16T17:01:58.280Z"
   },
   {
    "duration": 28,
    "start_time": "2022-11-16T17:01:58.285Z"
   },
   {
    "duration": 11663,
    "start_time": "2022-11-16T17:01:58.315Z"
   },
   {
    "duration": 4,
    "start_time": "2022-11-16T17:02:09.980Z"
   },
   {
    "duration": 12,
    "start_time": "2022-11-16T17:02:09.986Z"
   },
   {
    "duration": 536,
    "start_time": "2022-11-16T17:02:10.000Z"
   },
   {
    "duration": 3,
    "start_time": "2022-11-16T17:02:10.623Z"
   },
   {
    "duration": 104,
    "start_time": "2022-11-16T17:02:10.628Z"
   },
   {
    "duration": 5,
    "start_time": "2022-11-16T17:02:10.735Z"
   },
   {
    "duration": 670,
    "start_time": "2022-11-16T17:02:10.742Z"
   },
   {
    "duration": 10507,
    "start_time": "2022-11-16T17:02:11.421Z"
   },
   {
    "duration": 598,
    "start_time": "2022-11-16T17:02:21.930Z"
   },
   {
    "duration": 7,
    "start_time": "2022-11-16T17:02:22.532Z"
   },
   {
    "duration": 103,
    "start_time": "2022-11-16T17:02:22.627Z"
   },
   {
    "duration": 9,
    "start_time": "2022-11-16T17:02:22.732Z"
   },
   {
    "duration": 28,
    "start_time": "2022-11-16T17:02:22.742Z"
   },
   {
    "duration": 744,
    "start_time": "2022-11-16T17:02:22.772Z"
   },
   {
    "duration": 13368,
    "start_time": "2022-11-16T17:02:23.517Z"
   },
   {
    "duration": 1338,
    "start_time": "2022-11-16T17:02:36.887Z"
   },
   {
    "duration": 6,
    "start_time": "2022-11-16T17:02:38.227Z"
   },
   {
    "duration": 12,
    "start_time": "2022-11-16T17:02:38.323Z"
   },
   {
    "duration": 19,
    "start_time": "2022-11-16T17:02:38.337Z"
   },
   {
    "duration": 5670,
    "start_time": "2022-11-16T17:02:38.358Z"
   },
   {
    "duration": 400,
    "start_time": "2022-11-16T17:02:44.031Z"
   },
   {
    "duration": 4,
    "start_time": "2022-11-16T17:02:44.432Z"
   },
   {
    "duration": 144,
    "start_time": "2022-11-16T17:02:44.438Z"
   },
   {
    "duration": 4,
    "start_time": "2022-11-16T17:04:09.178Z"
   },
   {
    "duration": 64,
    "start_time": "2022-11-16T17:04:09.186Z"
   },
   {
    "duration": 18,
    "start_time": "2022-11-16T17:04:09.252Z"
   },
   {
    "duration": 8,
    "start_time": "2022-11-16T17:04:09.272Z"
   },
   {
    "duration": 268,
    "start_time": "2022-11-16T17:04:09.282Z"
   },
   {
    "duration": 8,
    "start_time": "2022-11-16T17:04:09.552Z"
   },
   {
    "duration": 167,
    "start_time": "2022-11-16T17:04:09.562Z"
   },
   {
    "duration": 13,
    "start_time": "2022-11-16T17:04:09.730Z"
   },
   {
    "duration": 10,
    "start_time": "2022-11-16T17:04:09.744Z"
   },
   {
    "duration": 11,
    "start_time": "2022-11-16T17:04:09.755Z"
   },
   {
    "duration": 8,
    "start_time": "2022-11-16T17:04:09.768Z"
   },
   {
    "duration": 10,
    "start_time": "2022-11-16T17:04:09.778Z"
   },
   {
    "duration": 5,
    "start_time": "2022-11-16T17:04:09.790Z"
   },
   {
    "duration": 11,
    "start_time": "2022-11-16T17:04:09.824Z"
   },
   {
    "duration": 654,
    "start_time": "2022-11-16T17:04:09.838Z"
   },
   {
    "duration": 4,
    "start_time": "2022-11-16T17:04:10.494Z"
   },
   {
    "duration": 28,
    "start_time": "2022-11-16T17:04:10.500Z"
   },
   {
    "duration": 10206,
    "start_time": "2022-11-16T17:04:10.529Z"
   },
   {
    "duration": 4,
    "start_time": "2022-11-16T17:04:20.737Z"
   },
   {
    "duration": 29,
    "start_time": "2022-11-16T17:04:20.743Z"
   },
   {
    "duration": 654,
    "start_time": "2022-11-16T17:04:20.774Z"
   },
   {
    "duration": 4,
    "start_time": "2022-11-16T17:04:21.522Z"
   },
   {
    "duration": 108,
    "start_time": "2022-11-16T17:04:21.528Z"
   },
   {
    "duration": 15,
    "start_time": "2022-11-16T17:04:21.639Z"
   },
   {
    "duration": 1304,
    "start_time": "2022-11-16T17:04:21.656Z"
   },
   {
    "duration": 10714,
    "start_time": "2022-11-16T17:04:22.961Z"
   },
   {
    "duration": 648,
    "start_time": "2022-11-16T17:04:33.676Z"
   },
   {
    "duration": 8,
    "start_time": "2022-11-16T17:04:34.326Z"
   },
   {
    "duration": 14,
    "start_time": "2022-11-16T17:04:34.423Z"
   },
   {
    "duration": 22,
    "start_time": "2022-11-16T17:04:34.439Z"
   },
   {
    "duration": 34,
    "start_time": "2022-11-16T17:04:34.463Z"
   },
   {
    "duration": 738,
    "start_time": "2022-11-16T17:04:34.499Z"
   },
   {
    "duration": 13058,
    "start_time": "2022-11-16T17:04:35.239Z"
   },
   {
    "duration": 734,
    "start_time": "2022-11-16T17:04:48.299Z"
   },
   {
    "duration": 89,
    "start_time": "2022-11-16T17:04:49.035Z"
   },
   {
    "duration": 98,
    "start_time": "2022-11-16T17:04:49.126Z"
   },
   {
    "duration": 36,
    "start_time": "2022-11-16T17:04:49.226Z"
   },
   {
    "duration": 5836,
    "start_time": "2022-11-16T17:04:49.265Z"
   },
   {
    "duration": 367,
    "start_time": "2022-11-16T17:04:55.103Z"
   },
   {
    "duration": 5,
    "start_time": "2022-11-16T17:04:55.472Z"
   },
   {
    "duration": 159,
    "start_time": "2022-11-16T17:04:55.481Z"
   },
   {
    "duration": 3,
    "start_time": "2022-11-16T17:11:45.391Z"
   },
   {
    "duration": 56,
    "start_time": "2022-11-16T17:11:45.396Z"
   },
   {
    "duration": 13,
    "start_time": "2022-11-16T17:11:45.453Z"
   },
   {
    "duration": 11,
    "start_time": "2022-11-16T17:11:45.468Z"
   },
   {
    "duration": 207,
    "start_time": "2022-11-16T17:11:45.483Z"
   },
   {
    "duration": 9,
    "start_time": "2022-11-16T17:11:45.691Z"
   },
   {
    "duration": 181,
    "start_time": "2022-11-16T17:11:45.701Z"
   },
   {
    "duration": 15,
    "start_time": "2022-11-16T17:11:45.885Z"
   },
   {
    "duration": 27,
    "start_time": "2022-11-16T17:11:45.902Z"
   },
   {
    "duration": 12,
    "start_time": "2022-11-16T17:11:45.931Z"
   },
   {
    "duration": 8,
    "start_time": "2022-11-16T17:11:45.945Z"
   },
   {
    "duration": 12,
    "start_time": "2022-11-16T17:11:45.955Z"
   },
   {
    "duration": 5,
    "start_time": "2022-11-16T17:11:45.969Z"
   },
   {
    "duration": 10,
    "start_time": "2022-11-16T17:11:45.977Z"
   },
   {
    "duration": 672,
    "start_time": "2022-11-16T17:11:45.989Z"
   },
   {
    "duration": 4,
    "start_time": "2022-11-16T17:11:46.662Z"
   },
   {
    "duration": 95,
    "start_time": "2022-11-16T17:11:46.669Z"
   },
   {
    "duration": 10551,
    "start_time": "2022-11-16T17:11:46.766Z"
   },
   {
    "duration": 3,
    "start_time": "2022-11-16T17:11:57.322Z"
   },
   {
    "duration": 550,
    "start_time": "2022-11-16T17:11:57.327Z"
   },
   {
    "duration": 443,
    "start_time": "2022-11-16T17:11:57.879Z"
   },
   {
    "duration": 4,
    "start_time": "2022-11-16T17:11:58.324Z"
   },
   {
    "duration": 94,
    "start_time": "2022-11-16T17:11:58.336Z"
   },
   {
    "duration": 6,
    "start_time": "2022-11-16T17:11:58.432Z"
   },
   {
    "duration": 756,
    "start_time": "2022-11-16T17:11:58.440Z"
   },
   {
    "duration": 10549,
    "start_time": "2022-11-16T17:11:59.198Z"
   },
   {
    "duration": 580,
    "start_time": "2022-11-16T17:12:09.748Z"
   },
   {
    "duration": 94,
    "start_time": "2022-11-16T17:12:10.330Z"
   },
   {
    "duration": 109,
    "start_time": "2022-11-16T17:12:10.426Z"
   },
   {
    "duration": 19,
    "start_time": "2022-11-16T17:12:10.537Z"
   },
   {
    "duration": 35,
    "start_time": "2022-11-16T17:12:10.559Z"
   },
   {
    "duration": 716,
    "start_time": "2022-11-16T17:12:10.596Z"
   },
   {
    "duration": 12921,
    "start_time": "2022-11-16T17:12:11.314Z"
   },
   {
    "duration": 787,
    "start_time": "2022-11-16T17:12:24.237Z"
   },
   {
    "duration": 6,
    "start_time": "2022-11-16T17:12:25.030Z"
   },
   {
    "duration": 6,
    "start_time": "2022-11-16T17:12:25.122Z"
   },
   {
    "duration": 20,
    "start_time": "2022-11-16T17:12:25.130Z"
   },
   {
    "duration": 5803,
    "start_time": "2022-11-16T17:12:25.153Z"
   },
   {
    "duration": 369,
    "start_time": "2022-11-16T17:12:30.959Z"
   },
   {
    "duration": 4,
    "start_time": "2022-11-16T17:12:31.330Z"
   },
   {
    "duration": 154,
    "start_time": "2022-11-16T17:12:31.337Z"
   },
   {
    "duration": 652,
    "start_time": "2022-11-16T17:13:56.929Z"
   },
   {
    "duration": 10562,
    "start_time": "2022-11-16T17:13:59.232Z"
   },
   {
    "duration": 442,
    "start_time": "2022-11-16T17:14:11.284Z"
   },
   {
    "duration": 4,
    "start_time": "2022-11-16T17:14:15.090Z"
   },
   {
    "duration": 4,
    "start_time": "2022-11-16T17:14:15.743Z"
   },
   {
    "duration": 4,
    "start_time": "2022-11-16T17:15:57.286Z"
   },
   {
    "duration": 14,
    "start_time": "2022-11-16T17:15:58.336Z"
   },
   {
    "duration": 13,
    "start_time": "2022-11-16T17:16:14.778Z"
   },
   {
    "duration": 718,
    "start_time": "2022-11-16T17:16:16.299Z"
   },
   {
    "duration": 12646,
    "start_time": "2022-11-16T17:16:17.900Z"
   },
   {
    "duration": 674,
    "start_time": "2022-11-16T17:16:32.552Z"
   },
   {
    "duration": 3,
    "start_time": "2022-11-16T17:16:39.025Z"
   },
   {
    "duration": 5,
    "start_time": "2022-11-16T17:16:43.544Z"
   },
   {
    "duration": 402,
    "start_time": "2022-11-16T17:18:07.977Z"
   },
   {
    "duration": 7164,
    "start_time": "2022-11-16T17:18:50.802Z"
   },
   {
    "duration": 540,
    "start_time": "2022-11-16T17:20:34.070Z"
   },
   {
    "duration": 7062,
    "start_time": "2022-11-16T17:20:34.913Z"
   },
   {
    "duration": 349,
    "start_time": "2022-11-16T17:20:41.977Z"
   },
   {
    "duration": 95,
    "start_time": "2022-11-16T17:20:42.327Z"
   },
   {
    "duration": 4,
    "start_time": "2022-11-16T17:23:28.814Z"
   },
   {
    "duration": 50,
    "start_time": "2022-11-16T17:23:28.820Z"
   },
   {
    "duration": 11,
    "start_time": "2022-11-16T17:23:28.872Z"
   },
   {
    "duration": 7,
    "start_time": "2022-11-16T17:23:28.885Z"
   },
   {
    "duration": 155,
    "start_time": "2022-11-16T17:23:28.894Z"
   },
   {
    "duration": 7,
    "start_time": "2022-11-16T17:23:29.051Z"
   },
   {
    "duration": 167,
    "start_time": "2022-11-16T17:23:29.059Z"
   },
   {
    "duration": 12,
    "start_time": "2022-11-16T17:23:29.228Z"
   },
   {
    "duration": 23,
    "start_time": "2022-11-16T17:23:29.242Z"
   },
   {
    "duration": 6,
    "start_time": "2022-11-16T17:23:29.268Z"
   },
   {
    "duration": 9,
    "start_time": "2022-11-16T17:23:29.275Z"
   },
   {
    "duration": 13,
    "start_time": "2022-11-16T17:23:29.285Z"
   },
   {
    "duration": 22,
    "start_time": "2022-11-16T17:23:29.300Z"
   },
   {
    "duration": 21,
    "start_time": "2022-11-16T17:23:29.324Z"
   },
   {
    "duration": 612,
    "start_time": "2022-11-16T17:23:29.347Z"
   },
   {
    "duration": 3,
    "start_time": "2022-11-16T17:23:29.960Z"
   },
   {
    "duration": 9,
    "start_time": "2022-11-16T17:23:29.965Z"
   },
   {
    "duration": 10027,
    "start_time": "2022-11-16T17:23:29.976Z"
   },
   {
    "duration": 3,
    "start_time": "2022-11-16T17:23:40.005Z"
   },
   {
    "duration": 14,
    "start_time": "2022-11-16T17:23:40.010Z"
   },
   {
    "duration": 499,
    "start_time": "2022-11-16T17:23:40.026Z"
   },
   {
    "duration": 3,
    "start_time": "2022-11-16T17:23:40.527Z"
   },
   {
    "duration": 105,
    "start_time": "2022-11-16T17:23:40.531Z"
   },
   {
    "duration": 7,
    "start_time": "2022-11-16T17:23:40.638Z"
   },
   {
    "duration": 714,
    "start_time": "2022-11-16T17:23:40.647Z"
   },
   {
    "duration": 10383,
    "start_time": "2022-11-16T17:23:41.363Z"
   },
   {
    "duration": 783,
    "start_time": "2022-11-16T17:23:51.748Z"
   },
   {
    "duration": 85,
    "start_time": "2022-11-16T17:23:52.538Z"
   },
   {
    "duration": 104,
    "start_time": "2022-11-16T17:23:52.625Z"
   },
   {
    "duration": 7,
    "start_time": "2022-11-16T17:23:52.731Z"
   },
   {
    "duration": 21,
    "start_time": "2022-11-16T17:23:52.740Z"
   },
   {
    "duration": 733,
    "start_time": "2022-11-16T17:23:52.762Z"
   },
   {
    "duration": 13072,
    "start_time": "2022-11-16T17:23:53.497Z"
   },
   {
    "duration": 651,
    "start_time": "2022-11-16T17:24:06.571Z"
   },
   {
    "duration": 7,
    "start_time": "2022-11-16T17:24:07.224Z"
   },
   {
    "duration": 4,
    "start_time": "2022-11-16T17:24:07.323Z"
   },
   {
    "duration": 30,
    "start_time": "2022-11-16T17:24:07.329Z"
   },
   {
    "duration": 435,
    "start_time": "2022-11-16T17:24:07.360Z"
   },
   {
    "duration": 7245,
    "start_time": "2022-11-16T17:24:07.797Z"
   },
   {
    "duration": 285,
    "start_time": "2022-11-16T17:24:15.044Z"
   },
   {
    "duration": 8,
    "start_time": "2022-11-16T17:24:15.421Z"
   },
   {
    "duration": 192,
    "start_time": "2022-11-16T17:24:15.522Z"
   },
   {
    "duration": 3,
    "start_time": "2022-11-16T17:26:41.520Z"
   },
   {
    "duration": 4,
    "start_time": "2022-11-16T17:29:06.930Z"
   },
   {
    "duration": 4,
    "start_time": "2022-11-16T17:30:10.644Z"
   },
   {
    "duration": 4,
    "start_time": "2022-11-16T17:32:08.140Z"
   },
   {
    "duration": 6,
    "start_time": "2022-11-16T17:32:13.325Z"
   },
   {
    "duration": 5,
    "start_time": "2022-11-16T17:32:31.655Z"
   },
   {
    "duration": 6,
    "start_time": "2022-11-16T17:33:40.134Z"
   },
   {
    "duration": 5,
    "start_time": "2022-11-16T17:33:44.381Z"
   },
   {
    "duration": 87,
    "start_time": "2022-11-16T17:34:22.020Z"
   },
   {
    "duration": 112,
    "start_time": "2022-11-16T17:35:18.772Z"
   },
   {
    "duration": 1371,
    "start_time": "2022-11-16T17:35:31.548Z"
   },
   {
    "duration": 50,
    "start_time": "2022-11-16T17:35:32.921Z"
   },
   {
    "duration": 12,
    "start_time": "2022-11-16T17:35:32.972Z"
   },
   {
    "duration": 7,
    "start_time": "2022-11-16T17:35:32.986Z"
   },
   {
    "duration": 160,
    "start_time": "2022-11-16T17:35:32.995Z"
   },
   {
    "duration": 7,
    "start_time": "2022-11-16T17:35:33.157Z"
   },
   {
    "duration": 160,
    "start_time": "2022-11-16T17:35:33.165Z"
   },
   {
    "duration": 17,
    "start_time": "2022-11-16T17:35:33.327Z"
   },
   {
    "duration": 9,
    "start_time": "2022-11-16T17:35:33.346Z"
   },
   {
    "duration": 5,
    "start_time": "2022-11-16T17:35:33.356Z"
   },
   {
    "duration": 7,
    "start_time": "2022-11-16T17:35:33.363Z"
   },
   {
    "duration": 23,
    "start_time": "2022-11-16T17:35:33.372Z"
   },
   {
    "duration": 25,
    "start_time": "2022-11-16T17:35:33.397Z"
   },
   {
    "duration": 8,
    "start_time": "2022-11-16T17:35:33.426Z"
   },
   {
    "duration": 618,
    "start_time": "2022-11-16T17:35:33.435Z"
   },
   {
    "duration": 6,
    "start_time": "2022-11-16T17:35:34.055Z"
   },
   {
    "duration": 17,
    "start_time": "2022-11-16T17:35:34.063Z"
   },
   {
    "duration": 10127,
    "start_time": "2022-11-16T17:35:34.082Z"
   },
   {
    "duration": 11,
    "start_time": "2022-11-16T17:35:44.211Z"
   },
   {
    "duration": 14,
    "start_time": "2022-11-16T17:35:44.225Z"
   },
   {
    "duration": 1181,
    "start_time": "2022-11-16T17:35:44.241Z"
   },
   {
    "duration": 5,
    "start_time": "2022-11-16T17:35:45.424Z"
   },
   {
    "duration": 118,
    "start_time": "2022-11-16T17:35:45.431Z"
   },
   {
    "duration": 17,
    "start_time": "2022-11-16T17:35:45.551Z"
   },
   {
    "duration": 656,
    "start_time": "2022-11-16T17:35:45.569Z"
   },
   {
    "duration": 10436,
    "start_time": "2022-11-16T17:35:46.227Z"
   },
   {
    "duration": 465,
    "start_time": "2022-11-16T17:35:56.665Z"
   },
   {
    "duration": 92,
    "start_time": "2022-11-16T17:35:57.132Z"
   },
   {
    "duration": 111,
    "start_time": "2022-11-16T17:35:57.226Z"
   },
   {
    "duration": 6,
    "start_time": "2022-11-16T17:35:57.339Z"
   },
   {
    "duration": 22,
    "start_time": "2022-11-16T17:35:57.347Z"
   },
   {
    "duration": 732,
    "start_time": "2022-11-16T17:35:57.371Z"
   },
   {
    "duration": 13242,
    "start_time": "2022-11-16T17:35:58.105Z"
   },
   {
    "duration": 1274,
    "start_time": "2022-11-16T17:36:11.349Z"
   },
   {
    "duration": 3,
    "start_time": "2022-11-16T17:36:12.625Z"
   },
   {
    "duration": 111,
    "start_time": "2022-11-16T17:36:12.632Z"
   },
   {
    "duration": 18,
    "start_time": "2022-11-16T17:36:12.747Z"
   },
   {
    "duration": 495,
    "start_time": "2022-11-16T17:36:12.767Z"
   },
   {
    "duration": 7589,
    "start_time": "2022-11-16T17:36:13.264Z"
   },
   {
    "duration": 376,
    "start_time": "2022-11-16T17:36:20.855Z"
   },
   {
    "duration": 90,
    "start_time": "2022-11-16T17:36:21.235Z"
   },
   {
    "duration": 99,
    "start_time": "2022-11-16T17:36:21.327Z"
   },
   {
    "duration": 105,
    "start_time": "2022-11-16T17:36:21.428Z"
   },
   {
    "duration": 4,
    "start_time": "2022-11-16T17:36:28.793Z"
   },
   {
    "duration": 48,
    "start_time": "2022-11-16T17:36:28.799Z"
   },
   {
    "duration": 12,
    "start_time": "2022-11-16T17:36:28.849Z"
   },
   {
    "duration": 8,
    "start_time": "2022-11-16T17:36:28.863Z"
   },
   {
    "duration": 166,
    "start_time": "2022-11-16T17:36:28.873Z"
   },
   {
    "duration": 8,
    "start_time": "2022-11-16T17:36:29.041Z"
   },
   {
    "duration": 154,
    "start_time": "2022-11-16T17:36:29.050Z"
   },
   {
    "duration": 19,
    "start_time": "2022-11-16T17:36:29.206Z"
   },
   {
    "duration": 8,
    "start_time": "2022-11-16T17:36:29.227Z"
   },
   {
    "duration": 6,
    "start_time": "2022-11-16T17:36:29.237Z"
   },
   {
    "duration": 6,
    "start_time": "2022-11-16T17:36:29.245Z"
   },
   {
    "duration": 11,
    "start_time": "2022-11-16T17:36:29.252Z"
   },
   {
    "duration": 10,
    "start_time": "2022-11-16T17:36:29.265Z"
   },
   {
    "duration": 9,
    "start_time": "2022-11-16T17:36:29.278Z"
   },
   {
    "duration": 650,
    "start_time": "2022-11-16T17:36:29.289Z"
   },
   {
    "duration": 3,
    "start_time": "2022-11-16T17:36:29.941Z"
   },
   {
    "duration": 15,
    "start_time": "2022-11-16T17:36:29.946Z"
   },
   {
    "duration": 9886,
    "start_time": "2022-11-16T17:36:29.963Z"
   },
   {
    "duration": 4,
    "start_time": "2022-11-16T17:36:39.852Z"
   },
   {
    "duration": 11,
    "start_time": "2022-11-16T17:36:39.858Z"
   },
   {
    "duration": 461,
    "start_time": "2022-11-16T17:36:39.871Z"
   },
   {
    "duration": 5,
    "start_time": "2022-11-16T17:36:40.421Z"
   },
   {
    "duration": 101,
    "start_time": "2022-11-16T17:36:40.428Z"
   },
   {
    "duration": 7,
    "start_time": "2022-11-16T17:36:40.531Z"
   },
   {
    "duration": 662,
    "start_time": "2022-11-16T17:36:40.539Z"
   },
   {
    "duration": 10551,
    "start_time": "2022-11-16T17:36:41.202Z"
   },
   {
    "duration": 479,
    "start_time": "2022-11-16T17:36:51.755Z"
   },
   {
    "duration": 4,
    "start_time": "2022-11-16T17:36:52.323Z"
   },
   {
    "duration": 96,
    "start_time": "2022-11-16T17:36:52.328Z"
   },
   {
    "duration": 5,
    "start_time": "2022-11-16T17:36:52.426Z"
   },
   {
    "duration": 17,
    "start_time": "2022-11-16T17:36:52.433Z"
   },
   {
    "duration": 726,
    "start_time": "2022-11-16T17:36:52.451Z"
   },
   {
    "duration": 13086,
    "start_time": "2022-11-16T17:36:53.179Z"
   },
   {
    "duration": 468,
    "start_time": "2022-11-16T17:37:06.266Z"
   },
   {
    "duration": 4,
    "start_time": "2022-11-16T17:37:06.823Z"
   },
   {
    "duration": 278,
    "start_time": "2022-11-16T17:37:06.832Z"
   },
   {
    "duration": 33,
    "start_time": "2022-11-16T17:37:07.112Z"
   },
   {
    "duration": 419,
    "start_time": "2022-11-16T17:37:07.146Z"
   },
   {
    "duration": 7354,
    "start_time": "2022-11-16T17:37:07.567Z"
   },
   {
    "duration": 399,
    "start_time": "2022-11-16T17:37:14.923Z"
   },
   {
    "duration": 94,
    "start_time": "2022-11-16T17:37:15.328Z"
   },
   {
    "duration": 13,
    "start_time": "2022-11-16T17:37:15.425Z"
   },
   {
    "duration": 118,
    "start_time": "2022-11-16T17:37:15.441Z"
   },
   {
    "duration": 70,
    "start_time": "2022-11-16T17:38:33.747Z"
   },
   {
    "duration": 3,
    "start_time": "2022-11-16T17:39:58.051Z"
   },
   {
    "duration": 3,
    "start_time": "2022-11-16T17:41:31.872Z"
   },
   {
    "duration": 83,
    "start_time": "2022-11-16T17:41:33.997Z"
   },
   {
    "duration": 1626,
    "start_time": "2022-11-17T03:17:21.240Z"
   },
   {
    "duration": 108,
    "start_time": "2022-11-17T03:17:22.868Z"
   },
   {
    "duration": 14,
    "start_time": "2022-11-17T03:17:22.978Z"
   },
   {
    "duration": 7,
    "start_time": "2022-11-17T03:17:22.995Z"
   },
   {
    "duration": 170,
    "start_time": "2022-11-17T03:17:23.004Z"
   },
   {
    "duration": 8,
    "start_time": "2022-11-17T03:17:23.176Z"
   },
   {
    "duration": 165,
    "start_time": "2022-11-17T03:17:23.185Z"
   },
   {
    "duration": 14,
    "start_time": "2022-11-17T03:17:23.352Z"
   },
   {
    "duration": 17,
    "start_time": "2022-11-17T03:17:23.368Z"
   },
   {
    "duration": 15,
    "start_time": "2022-11-17T03:17:23.388Z"
   },
   {
    "duration": 6,
    "start_time": "2022-11-17T03:17:23.405Z"
   },
   {
    "duration": 23,
    "start_time": "2022-11-17T03:17:23.412Z"
   },
   {
    "duration": 29,
    "start_time": "2022-11-17T03:17:23.437Z"
   },
   {
    "duration": 22,
    "start_time": "2022-11-17T03:17:23.468Z"
   },
   {
    "duration": 653,
    "start_time": "2022-11-17T03:17:23.492Z"
   },
   {
    "duration": 13,
    "start_time": "2022-11-17T03:17:24.152Z"
   },
   {
    "duration": 13,
    "start_time": "2022-11-17T03:17:24.167Z"
   },
   {
    "duration": 10463,
    "start_time": "2022-11-17T03:17:24.182Z"
   },
   {
    "duration": 5,
    "start_time": "2022-11-17T03:17:34.647Z"
   },
   {
    "duration": 15,
    "start_time": "2022-11-17T03:17:34.654Z"
   },
   {
    "duration": 985,
    "start_time": "2022-11-17T03:17:34.671Z"
   },
   {
    "duration": 93,
    "start_time": "2022-11-17T03:17:35.658Z"
   },
   {
    "duration": 5,
    "start_time": "2022-11-17T03:17:35.754Z"
   },
   {
    "duration": 97,
    "start_time": "2022-11-17T03:17:35.761Z"
   },
   {
    "duration": 694,
    "start_time": "2022-11-17T03:17:35.859Z"
   },
   {
    "duration": 10674,
    "start_time": "2022-11-17T03:17:36.555Z"
   },
   {
    "duration": 623,
    "start_time": "2022-11-17T03:17:47.232Z"
   },
   {
    "duration": 92,
    "start_time": "2022-11-17T03:17:47.860Z"
   },
   {
    "duration": 3,
    "start_time": "2022-11-17T03:17:47.955Z"
   },
   {
    "duration": 6,
    "start_time": "2022-11-17T03:17:47.960Z"
   },
   {
    "duration": 24,
    "start_time": "2022-11-17T03:17:47.967Z"
   },
   {
    "duration": 790,
    "start_time": "2022-11-17T03:17:47.992Z"
   },
   {
    "duration": 13527,
    "start_time": "2022-11-17T03:17:48.784Z"
   },
   {
    "duration": 849,
    "start_time": "2022-11-17T03:18:02.313Z"
   },
   {
    "duration": 5,
    "start_time": "2022-11-17T03:18:03.252Z"
   },
   {
    "duration": 93,
    "start_time": "2022-11-17T03:18:03.259Z"
   },
   {
    "duration": 15,
    "start_time": "2022-11-17T03:18:03.354Z"
   },
   {
    "duration": 439,
    "start_time": "2022-11-17T03:18:03.371Z"
   },
   {
    "duration": 7509,
    "start_time": "2022-11-17T03:18:03.812Z"
   },
   {
    "duration": 433,
    "start_time": "2022-11-17T03:18:11.323Z"
   },
   {
    "duration": 94,
    "start_time": "2022-11-17T03:18:11.758Z"
   },
   {
    "duration": 6,
    "start_time": "2022-11-17T03:18:11.854Z"
   },
   {
    "duration": 6,
    "start_time": "2022-11-17T03:18:11.862Z"
   },
   {
    "duration": 144,
    "start_time": "2022-11-17T03:18:11.870Z"
   },
   {
    "duration": 39,
    "start_time": "2022-11-17T03:26:50.379Z"
   },
   {
    "duration": 42,
    "start_time": "2022-11-17T03:32:27.197Z"
   },
   {
    "duration": 9,
    "start_time": "2022-11-17T03:32:28.509Z"
   },
   {
    "duration": 133,
    "start_time": "2022-11-17T03:32:35.453Z"
   },
   {
    "duration": 49,
    "start_time": "2022-11-17T03:33:14.997Z"
   },
   {
    "duration": 10,
    "start_time": "2022-11-17T03:33:15.603Z"
   },
   {
    "duration": 10020,
    "start_time": "2022-11-17T03:33:16.853Z"
   },
   {
    "duration": 3,
    "start_time": "2022-11-17T03:33:31.735Z"
   },
   {
    "duration": 146,
    "start_time": "2022-11-17T03:33:33.652Z"
   },
   {
    "duration": 53,
    "start_time": "2022-11-17T03:33:58.192Z"
   },
   {
    "duration": 13,
    "start_time": "2022-11-17T03:33:58.892Z"
   },
   {
    "duration": 10417,
    "start_time": "2022-11-17T03:34:00.428Z"
   },
   {
    "duration": 4,
    "start_time": "2022-11-17T03:34:17.013Z"
   },
   {
    "duration": 178,
    "start_time": "2022-11-17T03:34:20.212Z"
   },
   {
    "duration": 16,
    "start_time": "2022-11-17T03:36:00.900Z"
   },
   {
    "duration": 4,
    "start_time": "2022-11-17T03:36:02.386Z"
   },
   {
    "duration": 18,
    "start_time": "2022-11-17T03:36:08.517Z"
   },
   {
    "duration": 4,
    "start_time": "2022-11-17T03:36:09.858Z"
   },
   {
    "duration": 8,
    "start_time": "2022-11-17T03:36:56.210Z"
   },
   {
    "duration": 607,
    "start_time": "2022-11-17T03:36:57.114Z"
   },
   {
    "duration": 10123,
    "start_time": "2022-11-17T03:37:13.154Z"
   },
   {
    "duration": 1435,
    "start_time": "2022-11-17T03:38:42.482Z"
   },
   {
    "duration": 52,
    "start_time": "2022-11-17T03:38:43.919Z"
   },
   {
    "duration": 13,
    "start_time": "2022-11-17T03:38:43.973Z"
   },
   {
    "duration": 10,
    "start_time": "2022-11-17T03:38:43.988Z"
   },
   {
    "duration": 180,
    "start_time": "2022-11-17T03:38:43.999Z"
   },
   {
    "duration": 9,
    "start_time": "2022-11-17T03:38:44.181Z"
   },
   {
    "duration": 165,
    "start_time": "2022-11-17T03:38:44.192Z"
   },
   {
    "duration": 15,
    "start_time": "2022-11-17T03:38:44.359Z"
   },
   {
    "duration": 11,
    "start_time": "2022-11-17T03:38:44.376Z"
   },
   {
    "duration": 6,
    "start_time": "2022-11-17T03:38:44.391Z"
   },
   {
    "duration": 6,
    "start_time": "2022-11-17T03:38:44.399Z"
   },
   {
    "duration": 48,
    "start_time": "2022-11-17T03:38:44.407Z"
   },
   {
    "duration": 5,
    "start_time": "2022-11-17T03:38:44.457Z"
   },
   {
    "duration": 14,
    "start_time": "2022-11-17T03:38:44.464Z"
   },
   {
    "duration": 651,
    "start_time": "2022-11-17T03:38:44.480Z"
   },
   {
    "duration": 3,
    "start_time": "2022-11-17T03:38:45.133Z"
   },
   {
    "duration": 18,
    "start_time": "2022-11-17T03:38:45.139Z"
   },
   {
    "duration": 10610,
    "start_time": "2022-11-17T03:38:45.158Z"
   },
   {
    "duration": 3,
    "start_time": "2022-11-17T03:38:55.770Z"
   },
   {
    "duration": 8,
    "start_time": "2022-11-17T03:38:55.775Z"
   },
   {
    "duration": 1469,
    "start_time": "2022-11-17T03:38:55.785Z"
   },
   {
    "duration": 95,
    "start_time": "2022-11-17T03:38:57.257Z"
   },
   {
    "duration": 4,
    "start_time": "2022-11-17T03:38:57.354Z"
   },
   {
    "duration": 5,
    "start_time": "2022-11-17T03:38:57.359Z"
   },
   {
    "duration": 687,
    "start_time": "2022-11-17T03:38:57.365Z"
   },
   {
    "duration": 10958,
    "start_time": "2022-11-17T03:38:58.054Z"
   },
   {
    "duration": 658,
    "start_time": "2022-11-17T03:39:09.014Z"
   },
   {
    "duration": 5,
    "start_time": "2022-11-17T03:39:09.755Z"
   },
   {
    "duration": 102,
    "start_time": "2022-11-17T03:39:09.763Z"
   },
   {
    "duration": 11,
    "start_time": "2022-11-17T03:39:09.867Z"
   },
   {
    "duration": 19,
    "start_time": "2022-11-17T03:39:09.880Z"
   },
   {
    "duration": 836,
    "start_time": "2022-11-17T03:39:09.901Z"
   },
   {
    "duration": 14088,
    "start_time": "2022-11-17T03:39:10.739Z"
   },
   {
    "duration": 1023,
    "start_time": "2022-11-17T03:39:24.829Z"
   },
   {
    "duration": 6,
    "start_time": "2022-11-17T03:39:25.854Z"
   },
   {
    "duration": 7,
    "start_time": "2022-11-17T03:39:25.950Z"
   },
   {
    "duration": 14,
    "start_time": "2022-11-17T03:39:25.959Z"
   },
   {
    "duration": 457,
    "start_time": "2022-11-17T03:39:25.975Z"
   },
   {
    "duration": 7704,
    "start_time": "2022-11-17T03:39:26.435Z"
   },
   {
    "duration": 416,
    "start_time": "2022-11-17T03:39:34.140Z"
   },
   {
    "duration": 5,
    "start_time": "2022-11-17T03:39:34.559Z"
   },
   {
    "duration": 195,
    "start_time": "2022-11-17T03:39:34.566Z"
   },
   {
    "duration": 8,
    "start_time": "2022-11-17T03:39:34.764Z"
   },
   {
    "duration": 85,
    "start_time": "2022-11-17T03:39:34.774Z"
   },
   {
    "duration": 5,
    "start_time": "2022-11-17T03:40:08.666Z"
   },
   {
    "duration": 55,
    "start_time": "2022-11-17T03:40:08.673Z"
   },
   {
    "duration": 12,
    "start_time": "2022-11-17T03:40:08.730Z"
   },
   {
    "duration": 11,
    "start_time": "2022-11-17T03:40:08.745Z"
   },
   {
    "duration": 159,
    "start_time": "2022-11-17T03:40:08.758Z"
   },
   {
    "duration": 8,
    "start_time": "2022-11-17T03:40:08.919Z"
   },
   {
    "duration": 188,
    "start_time": "2022-11-17T03:40:08.929Z"
   },
   {
    "duration": 14,
    "start_time": "2022-11-17T03:40:09.119Z"
   },
   {
    "duration": 24,
    "start_time": "2022-11-17T03:40:09.135Z"
   },
   {
    "duration": 10,
    "start_time": "2022-11-17T03:40:09.163Z"
   },
   {
    "duration": 10,
    "start_time": "2022-11-17T03:40:09.175Z"
   },
   {
    "duration": 15,
    "start_time": "2022-11-17T03:40:09.187Z"
   },
   {
    "duration": 7,
    "start_time": "2022-11-17T03:40:09.206Z"
   },
   {
    "duration": 34,
    "start_time": "2022-11-17T03:40:09.220Z"
   },
   {
    "duration": 825,
    "start_time": "2022-11-17T03:40:09.256Z"
   },
   {
    "duration": 4,
    "start_time": "2022-11-17T03:40:10.083Z"
   },
   {
    "duration": 15,
    "start_time": "2022-11-17T03:40:10.089Z"
   },
   {
    "duration": 11282,
    "start_time": "2022-11-17T03:40:10.108Z"
   },
   {
    "duration": 5,
    "start_time": "2022-11-17T03:40:21.392Z"
   },
   {
    "duration": 10,
    "start_time": "2022-11-17T03:40:21.399Z"
   },
   {
    "duration": 1345,
    "start_time": "2022-11-17T03:40:21.410Z"
   },
   {
    "duration": 5,
    "start_time": "2022-11-17T03:40:22.757Z"
   },
   {
    "duration": 102,
    "start_time": "2022-11-17T03:40:22.764Z"
   },
   {
    "duration": 15,
    "start_time": "2022-11-17T03:40:22.868Z"
   },
   {
    "duration": 686,
    "start_time": "2022-11-17T03:40:22.885Z"
   },
   {
    "duration": 11115,
    "start_time": "2022-11-17T03:40:23.573Z"
   },
   {
    "duration": 469,
    "start_time": "2022-11-17T03:40:34.690Z"
   },
   {
    "duration": 87,
    "start_time": "2022-11-17T03:40:35.165Z"
   },
   {
    "duration": 115,
    "start_time": "2022-11-17T03:40:35.254Z"
   },
   {
    "duration": 12,
    "start_time": "2022-11-17T03:40:35.371Z"
   },
   {
    "duration": 36,
    "start_time": "2022-11-17T03:40:35.385Z"
   },
   {
    "duration": 771,
    "start_time": "2022-11-17T03:40:35.423Z"
   },
   {
    "duration": 14024,
    "start_time": "2022-11-17T03:40:36.197Z"
   },
   {
    "duration": 439,
    "start_time": "2022-11-17T03:40:50.223Z"
   },
   {
    "duration": 4,
    "start_time": "2022-11-17T03:40:50.664Z"
   },
   {
    "duration": 84,
    "start_time": "2022-11-17T03:40:50.670Z"
   },
   {
    "duration": 122,
    "start_time": "2022-11-17T03:40:50.756Z"
   },
   {
    "duration": 515,
    "start_time": "2022-11-17T03:40:50.880Z"
   },
   {
    "duration": 7855,
    "start_time": "2022-11-17T03:40:51.397Z"
   },
   {
    "duration": 804,
    "start_time": "2022-11-17T03:40:59.255Z"
   },
   {
    "duration": 92,
    "start_time": "2022-11-17T03:41:00.061Z"
   },
   {
    "duration": 102,
    "start_time": "2022-11-17T03:41:00.164Z"
   },
   {
    "duration": 15,
    "start_time": "2022-11-17T03:41:00.268Z"
   },
   {
    "duration": 118,
    "start_time": "2022-11-17T03:41:00.285Z"
   },
   {
    "duration": 4,
    "start_time": "2022-11-17T03:42:27.347Z"
   },
   {
    "duration": 48,
    "start_time": "2022-11-17T03:42:27.353Z"
   },
   {
    "duration": 12,
    "start_time": "2022-11-17T03:42:27.403Z"
   },
   {
    "duration": 8,
    "start_time": "2022-11-17T03:42:27.416Z"
   },
   {
    "duration": 276,
    "start_time": "2022-11-17T03:42:27.426Z"
   },
   {
    "duration": 4,
    "start_time": "2022-11-17T03:42:27.704Z"
   },
   {
    "duration": 164,
    "start_time": "2022-11-17T03:42:27.710Z"
   },
   {
    "duration": 18,
    "start_time": "2022-11-17T03:42:27.876Z"
   },
   {
    "duration": 12,
    "start_time": "2022-11-17T03:42:27.896Z"
   },
   {
    "duration": 6,
    "start_time": "2022-11-17T03:42:27.910Z"
   },
   {
    "duration": 32,
    "start_time": "2022-11-17T03:42:27.920Z"
   },
   {
    "duration": 14,
    "start_time": "2022-11-17T03:42:27.954Z"
   },
   {
    "duration": 6,
    "start_time": "2022-11-17T03:42:27.969Z"
   },
   {
    "duration": 10,
    "start_time": "2022-11-17T03:42:27.976Z"
   },
   {
    "duration": 679,
    "start_time": "2022-11-17T03:42:27.988Z"
   },
   {
    "duration": 4,
    "start_time": "2022-11-17T03:42:28.669Z"
   },
   {
    "duration": 24,
    "start_time": "2022-11-17T03:42:28.675Z"
   },
   {
    "duration": 10166,
    "start_time": "2022-11-17T03:42:28.701Z"
   },
   {
    "duration": 3,
    "start_time": "2022-11-17T03:42:38.869Z"
   },
   {
    "duration": 6,
    "start_time": "2022-11-17T03:42:38.874Z"
   },
   {
    "duration": 674,
    "start_time": "2022-11-17T03:42:38.881Z"
   },
   {
    "duration": 95,
    "start_time": "2022-11-17T03:42:39.557Z"
   },
   {
    "duration": 7,
    "start_time": "2022-11-17T03:42:39.655Z"
   },
   {
    "duration": 100,
    "start_time": "2022-11-17T03:42:39.664Z"
   },
   {
    "duration": 694,
    "start_time": "2022-11-17T03:42:39.766Z"
   },
   {
    "duration": 10825,
    "start_time": "2022-11-17T03:42:40.461Z"
   },
   {
    "duration": 672,
    "start_time": "2022-11-17T03:42:51.288Z"
   },
   {
    "duration": 4,
    "start_time": "2022-11-17T03:42:52.053Z"
   },
   {
    "duration": 101,
    "start_time": "2022-11-17T03:42:52.063Z"
   },
   {
    "duration": 6,
    "start_time": "2022-11-17T03:42:52.166Z"
   },
   {
    "duration": 21,
    "start_time": "2022-11-17T03:42:52.174Z"
   },
   {
    "duration": 753,
    "start_time": "2022-11-17T03:42:52.196Z"
   },
   {
    "duration": 13138,
    "start_time": "2022-11-17T03:42:52.951Z"
   },
   {
    "duration": 961,
    "start_time": "2022-11-17T03:43:06.091Z"
   },
   {
    "duration": 4,
    "start_time": "2022-11-17T03:43:07.055Z"
   },
   {
    "duration": 99,
    "start_time": "2022-11-17T03:43:07.061Z"
   },
   {
    "duration": 20,
    "start_time": "2022-11-17T03:43:07.162Z"
   },
   {
    "duration": 445,
    "start_time": "2022-11-17T03:43:07.184Z"
   },
   {
    "duration": 7856,
    "start_time": "2022-11-17T03:43:07.631Z"
   },
   {
    "duration": 567,
    "start_time": "2022-11-17T03:43:15.489Z"
   },
   {
    "duration": 103,
    "start_time": "2022-11-17T03:43:16.058Z"
   },
   {
    "duration": 11,
    "start_time": "2022-11-17T03:43:16.169Z"
   },
   {
    "duration": 24,
    "start_time": "2022-11-17T03:43:16.182Z"
   },
   {
    "duration": 204,
    "start_time": "2022-11-17T03:43:16.208Z"
   },
   {
    "duration": 5,
    "start_time": "2022-11-17T03:44:23.385Z"
   },
   {
    "duration": 52,
    "start_time": "2022-11-17T03:44:23.392Z"
   },
   {
    "duration": 12,
    "start_time": "2022-11-17T03:44:23.445Z"
   },
   {
    "duration": 7,
    "start_time": "2022-11-17T03:44:23.459Z"
   },
   {
    "duration": 172,
    "start_time": "2022-11-17T03:44:23.468Z"
   },
   {
    "duration": 10,
    "start_time": "2022-11-17T03:44:23.642Z"
   },
   {
    "duration": 155,
    "start_time": "2022-11-17T03:44:23.654Z"
   },
   {
    "duration": 14,
    "start_time": "2022-11-17T03:44:23.810Z"
   },
   {
    "duration": 26,
    "start_time": "2022-11-17T03:44:23.825Z"
   },
   {
    "duration": 5,
    "start_time": "2022-11-17T03:44:23.854Z"
   },
   {
    "duration": 8,
    "start_time": "2022-11-17T03:44:23.861Z"
   },
   {
    "duration": 15,
    "start_time": "2022-11-17T03:44:23.871Z"
   },
   {
    "duration": 6,
    "start_time": "2022-11-17T03:44:23.888Z"
   },
   {
    "duration": 10,
    "start_time": "2022-11-17T03:44:23.896Z"
   },
   {
    "duration": 694,
    "start_time": "2022-11-17T03:44:23.908Z"
   },
   {
    "duration": 4,
    "start_time": "2022-11-17T03:44:24.604Z"
   },
   {
    "duration": 149,
    "start_time": "2022-11-17T03:44:24.610Z"
   },
   {
    "duration": 10957,
    "start_time": "2022-11-17T03:44:24.761Z"
   },
   {
    "duration": 4,
    "start_time": "2022-11-17T03:44:35.720Z"
   },
   {
    "duration": 6,
    "start_time": "2022-11-17T03:44:35.726Z"
   },
   {
    "duration": 1125,
    "start_time": "2022-11-17T03:44:35.734Z"
   },
   {
    "duration": 89,
    "start_time": "2022-11-17T03:44:36.863Z"
   },
   {
    "duration": 5,
    "start_time": "2022-11-17T03:44:36.954Z"
   },
   {
    "duration": 5,
    "start_time": "2022-11-17T03:44:36.961Z"
   },
   {
    "duration": 709,
    "start_time": "2022-11-17T03:44:36.968Z"
   },
   {
    "duration": 10968,
    "start_time": "2022-11-17T03:44:37.679Z"
   },
   {
    "duration": 708,
    "start_time": "2022-11-17T03:44:48.650Z"
   },
   {
    "duration": 5,
    "start_time": "2022-11-17T03:44:49.450Z"
   },
   {
    "duration": 101,
    "start_time": "2022-11-17T03:44:49.457Z"
   },
   {
    "duration": 6,
    "start_time": "2022-11-17T03:44:49.560Z"
   },
   {
    "duration": 29,
    "start_time": "2022-11-17T03:44:49.569Z"
   },
   {
    "duration": 855,
    "start_time": "2022-11-17T03:44:49.600Z"
   },
   {
    "duration": 13486,
    "start_time": "2022-11-17T03:44:50.457Z"
   },
   {
    "duration": 906,
    "start_time": "2022-11-17T03:45:03.951Z"
   },
   {
    "duration": 91,
    "start_time": "2022-11-17T03:45:04.860Z"
   },
   {
    "duration": 4,
    "start_time": "2022-11-17T03:45:04.953Z"
   },
   {
    "duration": 14,
    "start_time": "2022-11-17T03:45:04.960Z"
   },
   {
    "duration": 606,
    "start_time": "2022-11-17T03:45:04.976Z"
   },
   {
    "duration": 8103,
    "start_time": "2022-11-17T03:45:05.584Z"
   },
   {
    "duration": 468,
    "start_time": "2022-11-17T03:45:13.689Z"
   },
   {
    "duration": 6,
    "start_time": "2022-11-17T03:45:14.160Z"
   },
   {
    "duration": 11,
    "start_time": "2022-11-17T03:45:14.251Z"
   },
   {
    "duration": 7,
    "start_time": "2022-11-17T03:45:14.264Z"
   },
   {
    "duration": 112,
    "start_time": "2022-11-17T03:45:14.272Z"
   },
   {
    "duration": 4,
    "start_time": "2022-11-17T03:46:10.183Z"
   },
   {
    "duration": 56,
    "start_time": "2022-11-17T03:46:10.189Z"
   },
   {
    "duration": 13,
    "start_time": "2022-11-17T03:46:10.246Z"
   },
   {
    "duration": 9,
    "start_time": "2022-11-17T03:46:10.261Z"
   },
   {
    "duration": 171,
    "start_time": "2022-11-17T03:46:10.272Z"
   },
   {
    "duration": 9,
    "start_time": "2022-11-17T03:46:10.444Z"
   },
   {
    "duration": 178,
    "start_time": "2022-11-17T03:46:10.456Z"
   },
   {
    "duration": 22,
    "start_time": "2022-11-17T03:46:10.636Z"
   },
   {
    "duration": 10,
    "start_time": "2022-11-17T03:46:10.660Z"
   },
   {
    "duration": 7,
    "start_time": "2022-11-17T03:46:10.673Z"
   },
   {
    "duration": 15,
    "start_time": "2022-11-17T03:46:10.682Z"
   },
   {
    "duration": 25,
    "start_time": "2022-11-17T03:46:10.699Z"
   },
   {
    "duration": 25,
    "start_time": "2022-11-17T03:46:10.727Z"
   },
   {
    "duration": 30,
    "start_time": "2022-11-17T03:46:10.754Z"
   },
   {
    "duration": 690,
    "start_time": "2022-11-17T03:46:10.786Z"
   },
   {
    "duration": 4,
    "start_time": "2022-11-17T03:46:11.477Z"
   },
   {
    "duration": 36,
    "start_time": "2022-11-17T03:46:11.483Z"
   },
   {
    "duration": 10451,
    "start_time": "2022-11-17T03:46:11.521Z"
   },
   {
    "duration": 4,
    "start_time": "2022-11-17T03:46:21.974Z"
   },
   {
    "duration": 6,
    "start_time": "2022-11-17T03:46:21.980Z"
   },
   {
    "duration": 563,
    "start_time": "2022-11-17T03:46:21.988Z"
   },
   {
    "duration": 5,
    "start_time": "2022-11-17T03:46:22.554Z"
   },
   {
    "duration": 97,
    "start_time": "2022-11-17T03:46:22.561Z"
   },
   {
    "duration": 6,
    "start_time": "2022-11-17T03:46:22.660Z"
   },
   {
    "duration": 673,
    "start_time": "2022-11-17T03:46:22.667Z"
   },
   {
    "duration": 10955,
    "start_time": "2022-11-17T03:46:23.342Z"
   },
   {
    "duration": 757,
    "start_time": "2022-11-17T03:46:34.299Z"
   },
   {
    "duration": 4,
    "start_time": "2022-11-17T03:46:35.151Z"
   },
   {
    "duration": 6,
    "start_time": "2022-11-17T03:46:35.158Z"
   },
   {
    "duration": 7,
    "start_time": "2022-11-17T03:46:35.166Z"
   },
   {
    "duration": 18,
    "start_time": "2022-11-17T03:46:35.175Z"
   },
   {
    "duration": 808,
    "start_time": "2022-11-17T03:46:35.194Z"
   },
   {
    "duration": 13176,
    "start_time": "2022-11-17T03:46:36.004Z"
   },
   {
    "duration": 587,
    "start_time": "2022-11-17T03:46:49.181Z"
   },
   {
    "duration": 8,
    "start_time": "2022-11-17T03:46:49.851Z"
   },
   {
    "duration": 97,
    "start_time": "2022-11-17T03:46:49.861Z"
   },
   {
    "duration": 15,
    "start_time": "2022-11-17T03:46:49.961Z"
   },
   {
    "duration": 500,
    "start_time": "2022-11-17T03:46:49.978Z"
   },
   {
    "duration": 7734,
    "start_time": "2022-11-17T03:46:50.480Z"
   },
   {
    "duration": 736,
    "start_time": "2022-11-17T03:46:58.216Z"
   },
   {
    "duration": 5,
    "start_time": "2022-11-17T03:46:58.954Z"
   },
   {
    "duration": 10,
    "start_time": "2022-11-17T03:46:59.050Z"
   },
   {
    "duration": 6,
    "start_time": "2022-11-17T03:46:59.062Z"
   },
   {
    "duration": 169,
    "start_time": "2022-11-17T03:46:59.069Z"
   },
   {
    "duration": 7,
    "start_time": "2022-11-17T03:47:17.563Z"
   },
   {
    "duration": 4,
    "start_time": "2022-11-17T03:47:21.342Z"
   },
   {
    "duration": 51,
    "start_time": "2022-11-17T03:47:21.348Z"
   },
   {
    "duration": 15,
    "start_time": "2022-11-17T03:47:21.401Z"
   },
   {
    "duration": 9,
    "start_time": "2022-11-17T03:47:21.417Z"
   },
   {
    "duration": 269,
    "start_time": "2022-11-17T03:47:21.452Z"
   },
   {
    "duration": 7,
    "start_time": "2022-11-17T03:47:21.723Z"
   },
   {
    "duration": 177,
    "start_time": "2022-11-17T03:47:21.732Z"
   },
   {
    "duration": 14,
    "start_time": "2022-11-17T03:47:21.911Z"
   },
   {
    "duration": 29,
    "start_time": "2022-11-17T03:47:21.927Z"
   },
   {
    "duration": 7,
    "start_time": "2022-11-17T03:47:21.958Z"
   },
   {
    "duration": 9,
    "start_time": "2022-11-17T03:47:21.969Z"
   },
   {
    "duration": 17,
    "start_time": "2022-11-17T03:47:21.980Z"
   },
   {
    "duration": 8,
    "start_time": "2022-11-17T03:47:22.002Z"
   },
   {
    "duration": 46,
    "start_time": "2022-11-17T03:47:22.012Z"
   },
   {
    "duration": 672,
    "start_time": "2022-11-17T03:47:22.061Z"
   },
   {
    "duration": 4,
    "start_time": "2022-11-17T03:47:22.736Z"
   },
   {
    "duration": 16,
    "start_time": "2022-11-17T03:47:22.742Z"
   },
   {
    "duration": 10801,
    "start_time": "2022-11-17T03:47:22.760Z"
   },
   {
    "duration": 4,
    "start_time": "2022-11-17T03:47:33.562Z"
   },
   {
    "duration": 14,
    "start_time": "2022-11-17T03:47:33.568Z"
   },
   {
    "duration": 465,
    "start_time": "2022-11-17T03:47:33.585Z"
   },
   {
    "duration": 5,
    "start_time": "2022-11-17T03:47:34.053Z"
   },
   {
    "duration": 96,
    "start_time": "2022-11-17T03:47:34.061Z"
   },
   {
    "duration": 10,
    "start_time": "2022-11-17T03:47:34.159Z"
   },
   {
    "duration": 694,
    "start_time": "2022-11-17T03:47:34.172Z"
   },
   {
    "duration": 10773,
    "start_time": "2022-11-17T03:47:34.869Z"
   },
   {
    "duration": 208,
    "start_time": "2022-11-17T03:47:45.650Z"
   },
   {
    "duration": 5,
    "start_time": "2022-11-17T03:47:45.860Z"
   },
   {
    "duration": 4,
    "start_time": "2022-11-17T03:47:45.959Z"
   },
   {
    "duration": 89,
    "start_time": "2022-11-17T03:47:45.964Z"
   },
   {
    "duration": 17,
    "start_time": "2022-11-17T03:47:46.056Z"
   },
   {
    "duration": 790,
    "start_time": "2022-11-17T03:47:46.075Z"
   },
   {
    "duration": 13494,
    "start_time": "2022-11-17T03:47:46.867Z"
   },
   {
    "duration": 393,
    "start_time": "2022-11-17T03:48:00.363Z"
   },
   {
    "duration": 3,
    "start_time": "2022-11-17T03:48:00.759Z"
   },
   {
    "duration": 104,
    "start_time": "2022-11-17T03:48:00.764Z"
   },
   {
    "duration": 23,
    "start_time": "2022-11-17T03:48:00.870Z"
   },
   {
    "duration": 480,
    "start_time": "2022-11-17T03:48:00.895Z"
   },
   {
    "duration": 7574,
    "start_time": "2022-11-17T03:48:01.377Z"
   },
   {
    "duration": 699,
    "start_time": "2022-11-17T03:48:08.953Z"
   },
   {
    "duration": 6,
    "start_time": "2022-11-17T03:48:09.654Z"
   },
   {
    "duration": 102,
    "start_time": "2022-11-17T03:48:09.662Z"
   },
   {
    "duration": 8,
    "start_time": "2022-11-17T03:48:09.767Z"
   },
   {
    "duration": 215,
    "start_time": "2022-11-17T03:48:09.777Z"
   },
   {
    "duration": 5,
    "start_time": "2022-11-17T03:49:18.469Z"
   },
   {
    "duration": 58,
    "start_time": "2022-11-17T03:49:18.476Z"
   },
   {
    "duration": 11,
    "start_time": "2022-11-17T03:49:18.536Z"
   },
   {
    "duration": 7,
    "start_time": "2022-11-17T03:49:18.550Z"
   },
   {
    "duration": 152,
    "start_time": "2022-11-17T03:49:18.559Z"
   },
   {
    "duration": 4,
    "start_time": "2022-11-17T03:49:18.713Z"
   },
   {
    "duration": 165,
    "start_time": "2022-11-17T03:49:18.719Z"
   },
   {
    "duration": 13,
    "start_time": "2022-11-17T03:49:18.886Z"
   },
   {
    "duration": 9,
    "start_time": "2022-11-17T03:49:18.901Z"
   },
   {
    "duration": 5,
    "start_time": "2022-11-17T03:49:18.913Z"
   },
   {
    "duration": 7,
    "start_time": "2022-11-17T03:49:18.919Z"
   },
   {
    "duration": 12,
    "start_time": "2022-11-17T03:49:18.952Z"
   },
   {
    "duration": 5,
    "start_time": "2022-11-17T03:49:18.966Z"
   },
   {
    "duration": 8,
    "start_time": "2022-11-17T03:49:18.973Z"
   },
   {
    "duration": 718,
    "start_time": "2022-11-17T03:49:18.983Z"
   },
   {
    "duration": 5,
    "start_time": "2022-11-17T03:49:19.704Z"
   },
   {
    "duration": 16,
    "start_time": "2022-11-17T03:49:19.711Z"
   },
   {
    "duration": 10705,
    "start_time": "2022-11-17T03:49:19.729Z"
   },
   {
    "duration": 3,
    "start_time": "2022-11-17T03:49:30.436Z"
   },
   {
    "duration": 7,
    "start_time": "2022-11-17T03:49:30.452Z"
   },
   {
    "duration": 691,
    "start_time": "2022-11-17T03:49:30.461Z"
   },
   {
    "duration": 97,
    "start_time": "2022-11-17T03:49:31.155Z"
   },
   {
    "duration": 4,
    "start_time": "2022-11-17T03:49:31.253Z"
   },
   {
    "duration": 47,
    "start_time": "2022-11-17T03:49:31.258Z"
   },
   {
    "duration": 708,
    "start_time": "2022-11-17T03:49:31.307Z"
   },
   {
    "duration": 10778,
    "start_time": "2022-11-17T03:49:32.016Z"
   },
   {
    "duration": 860,
    "start_time": "2022-11-17T03:49:42.796Z"
   },
   {
    "duration": 92,
    "start_time": "2022-11-17T03:49:43.662Z"
   },
   {
    "duration": 11,
    "start_time": "2022-11-17T03:49:43.755Z"
   },
   {
    "duration": 7,
    "start_time": "2022-11-17T03:49:43.768Z"
   },
   {
    "duration": 14,
    "start_time": "2022-11-17T03:49:43.851Z"
   },
   {
    "duration": 799,
    "start_time": "2022-11-17T03:49:43.867Z"
   },
   {
    "duration": 14344,
    "start_time": "2022-11-17T03:49:44.668Z"
   },
   {
    "duration": 845,
    "start_time": "2022-11-17T03:49:59.015Z"
   },
   {
    "duration": 94,
    "start_time": "2022-11-17T03:49:59.866Z"
   },
   {
    "duration": 9,
    "start_time": "2022-11-17T03:50:00.051Z"
   },
   {
    "duration": 27,
    "start_time": "2022-11-17T03:50:00.061Z"
   },
   {
    "duration": 592,
    "start_time": "2022-11-17T03:50:00.090Z"
   },
   {
    "duration": 7748,
    "start_time": "2022-11-17T03:50:00.684Z"
   },
   {
    "duration": 423,
    "start_time": "2022-11-17T03:50:08.434Z"
   },
   {
    "duration": 92,
    "start_time": "2022-11-17T03:50:08.864Z"
   },
   {
    "duration": 22,
    "start_time": "2022-11-17T03:50:09.050Z"
   },
   {
    "duration": 9,
    "start_time": "2022-11-17T03:50:09.074Z"
   },
   {
    "duration": 178,
    "start_time": "2022-11-17T03:50:09.085Z"
   },
   {
    "duration": 99,
    "start_time": "2022-11-17T04:02:40.074Z"
   },
   {
    "duration": 11375,
    "start_time": "2022-11-17T04:02:40.977Z"
   },
   {
    "duration": 16,
    "start_time": "2022-11-17T04:03:04.250Z"
   },
   {
    "duration": 11426,
    "start_time": "2022-11-17T04:03:05.017Z"
   },
   {
    "duration": 13,
    "start_time": "2022-11-17T04:03:50.184Z"
   },
   {
    "duration": 11378,
    "start_time": "2022-11-17T04:03:51.638Z"
   },
   {
    "duration": 1552,
    "start_time": "2022-11-17T04:04:21.363Z"
   },
   {
    "duration": 65,
    "start_time": "2022-11-17T04:04:22.917Z"
   },
   {
    "duration": 14,
    "start_time": "2022-11-17T04:04:22.984Z"
   },
   {
    "duration": 11,
    "start_time": "2022-11-17T04:04:23.000Z"
   },
   {
    "duration": 182,
    "start_time": "2022-11-17T04:04:23.013Z"
   },
   {
    "duration": 5,
    "start_time": "2022-11-17T04:04:23.197Z"
   },
   {
    "duration": 180,
    "start_time": "2022-11-17T04:04:23.204Z"
   },
   {
    "duration": 13,
    "start_time": "2022-11-17T04:04:23.386Z"
   },
   {
    "duration": 10,
    "start_time": "2022-11-17T04:04:23.401Z"
   },
   {
    "duration": 7,
    "start_time": "2022-11-17T04:04:23.414Z"
   },
   {
    "duration": 31,
    "start_time": "2022-11-17T04:04:23.422Z"
   },
   {
    "duration": 11,
    "start_time": "2022-11-17T04:04:23.456Z"
   },
   {
    "duration": 6,
    "start_time": "2022-11-17T04:04:23.469Z"
   },
   {
    "duration": 10,
    "start_time": "2022-11-17T04:04:23.476Z"
   },
   {
    "duration": 744,
    "start_time": "2022-11-17T04:04:23.487Z"
   },
   {
    "duration": 4,
    "start_time": "2022-11-17T04:04:24.233Z"
   },
   {
    "duration": 12,
    "start_time": "2022-11-17T04:04:24.250Z"
   },
   {
    "duration": 11296,
    "start_time": "2022-11-17T04:04:24.264Z"
   },
   {
    "duration": 4,
    "start_time": "2022-11-17T04:04:35.563Z"
   },
   {
    "duration": 8,
    "start_time": "2022-11-17T04:04:35.569Z"
   },
   {
    "duration": 472,
    "start_time": "2022-11-17T04:04:35.579Z"
   },
   {
    "duration": 5,
    "start_time": "2022-11-17T04:04:36.053Z"
   },
   {
    "duration": 112,
    "start_time": "2022-11-17T04:04:36.060Z"
   },
   {
    "duration": 10,
    "start_time": "2022-11-17T04:04:36.174Z"
   },
   {
    "duration": 711,
    "start_time": "2022-11-17T04:04:36.186Z"
   },
   {
    "duration": 12055,
    "start_time": "2022-11-17T04:04:36.900Z"
   },
   {
    "duration": 606,
    "start_time": "2022-11-17T04:04:48.957Z"
   },
   {
    "duration": 4,
    "start_time": "2022-11-17T04:04:49.655Z"
   },
   {
    "duration": 99,
    "start_time": "2022-11-17T04:04:49.662Z"
   },
   {
    "duration": 13,
    "start_time": "2022-11-17T04:04:49.763Z"
   },
   {
    "duration": 29,
    "start_time": "2022-11-17T04:04:49.779Z"
   },
   {
    "duration": 882,
    "start_time": "2022-11-17T04:04:49.811Z"
   },
   {
    "duration": 14355,
    "start_time": "2022-11-17T04:04:50.696Z"
   },
   {
    "duration": 1699,
    "start_time": "2022-11-17T04:05:05.053Z"
   },
   {
    "duration": 5,
    "start_time": "2022-11-17T04:05:06.754Z"
   },
   {
    "duration": 17,
    "start_time": "2022-11-17T04:05:06.761Z"
   },
   {
    "duration": 17,
    "start_time": "2022-11-17T04:05:06.780Z"
   },
   {
    "duration": 480,
    "start_time": "2022-11-17T04:05:06.800Z"
   },
   {
    "duration": 8361,
    "start_time": "2022-11-17T04:05:07.281Z"
   },
   {
    "duration": 401,
    "start_time": "2022-11-17T04:05:15.651Z"
   },
   {
    "duration": 8,
    "start_time": "2022-11-17T04:05:16.054Z"
   },
   {
    "duration": 99,
    "start_time": "2022-11-17T04:05:16.064Z"
   },
   {
    "duration": 12,
    "start_time": "2022-11-17T04:05:16.165Z"
   },
   {
    "duration": 158,
    "start_time": "2022-11-17T04:05:16.179Z"
   },
   {
    "duration": 4,
    "start_time": "2022-11-17T04:12:21.478Z"
   },
   {
    "duration": 62,
    "start_time": "2022-11-17T04:12:21.485Z"
   },
   {
    "duration": 19,
    "start_time": "2022-11-17T04:12:21.550Z"
   },
   {
    "duration": 11,
    "start_time": "2022-11-17T04:12:21.572Z"
   },
   {
    "duration": 179,
    "start_time": "2022-11-17T04:12:21.585Z"
   },
   {
    "duration": 4,
    "start_time": "2022-11-17T04:12:21.766Z"
   },
   {
    "duration": 178,
    "start_time": "2022-11-17T04:12:21.773Z"
   },
   {
    "duration": 14,
    "start_time": "2022-11-17T04:12:21.953Z"
   },
   {
    "duration": 11,
    "start_time": "2022-11-17T04:12:21.969Z"
   },
   {
    "duration": 6,
    "start_time": "2022-11-17T04:12:21.982Z"
   },
   {
    "duration": 7,
    "start_time": "2022-11-17T04:12:21.990Z"
   },
   {
    "duration": 14,
    "start_time": "2022-11-17T04:12:21.999Z"
   },
   {
    "duration": 9,
    "start_time": "2022-11-17T04:12:22.051Z"
   },
   {
    "duration": 12,
    "start_time": "2022-11-17T04:12:22.062Z"
   },
   {
    "duration": 718,
    "start_time": "2022-11-17T04:12:22.078Z"
   },
   {
    "duration": 4,
    "start_time": "2022-11-17T04:12:22.798Z"
   },
   {
    "duration": 13,
    "start_time": "2022-11-17T04:12:22.804Z"
   },
   {
    "duration": 51917,
    "start_time": "2022-11-17T04:12:22.819Z"
   },
   {
    "duration": 12,
    "start_time": "2022-11-17T04:13:14.739Z"
   },
   {
    "duration": 5,
    "start_time": "2022-11-17T04:13:14.753Z"
   },
   {
    "duration": 1399,
    "start_time": "2022-11-17T04:13:14.760Z"
   },
   {
    "duration": 90,
    "start_time": "2022-11-17T04:13:16.162Z"
   },
   {
    "duration": 7,
    "start_time": "2022-11-17T04:13:16.254Z"
   },
   {
    "duration": 7,
    "start_time": "2022-11-17T04:13:16.265Z"
   },
   {
    "duration": 714,
    "start_time": "2022-11-17T04:13:16.273Z"
   },
   {
    "duration": 52479,
    "start_time": "2022-11-17T04:13:16.989Z"
   },
   {
    "duration": 1095,
    "start_time": "2022-11-17T04:14:09.470Z"
   },
   {
    "duration": 9,
    "start_time": "2022-11-17T04:14:10.652Z"
   },
   {
    "duration": 8,
    "start_time": "2022-11-17T04:14:10.752Z"
   },
   {
    "duration": 7,
    "start_time": "2022-11-17T04:14:10.762Z"
   },
   {
    "duration": 21,
    "start_time": "2022-11-17T04:14:10.771Z"
   },
   {
    "duration": 873,
    "start_time": "2022-11-17T04:14:10.795Z"
   },
   {
    "duration": 71233,
    "start_time": "2022-11-17T04:14:11.671Z"
   },
   {
    "duration": 846,
    "start_time": "2022-11-17T04:15:22.906Z"
   },
   {
    "duration": 97,
    "start_time": "2022-11-17T04:15:23.757Z"
   },
   {
    "duration": 6,
    "start_time": "2022-11-17T04:15:23.857Z"
   },
   {
    "duration": 18,
    "start_time": "2022-11-17T04:15:23.866Z"
   },
   {
    "duration": 577,
    "start_time": "2022-11-17T04:15:23.887Z"
   },
   {
    "duration": 32108,
    "start_time": "2022-11-17T04:15:24.467Z"
   },
   {
    "duration": 484,
    "start_time": "2022-11-17T04:15:56.577Z"
   },
   {
    "duration": 5,
    "start_time": "2022-11-17T04:15:57.152Z"
   },
   {
    "duration": 101,
    "start_time": "2022-11-17T04:15:57.159Z"
   },
   {
    "duration": 10,
    "start_time": "2022-11-17T04:15:57.261Z"
   },
   {
    "duration": 150,
    "start_time": "2022-11-17T04:15:57.273Z"
   },
   {
    "duration": 1586,
    "start_time": "2022-11-17T04:16:55.027Z"
   },
   {
    "duration": 55,
    "start_time": "2022-11-17T04:16:56.615Z"
   },
   {
    "duration": 13,
    "start_time": "2022-11-17T04:16:56.671Z"
   },
   {
    "duration": 8,
    "start_time": "2022-11-17T04:16:56.686Z"
   },
   {
    "duration": 175,
    "start_time": "2022-11-17T04:16:56.695Z"
   },
   {
    "duration": 5,
    "start_time": "2022-11-17T04:16:56.871Z"
   },
   {
    "duration": 165,
    "start_time": "2022-11-17T04:16:56.878Z"
   },
   {
    "duration": 17,
    "start_time": "2022-11-17T04:16:57.045Z"
   },
   {
    "duration": 10,
    "start_time": "2022-11-17T04:16:57.064Z"
   },
   {
    "duration": 5,
    "start_time": "2022-11-17T04:16:57.077Z"
   },
   {
    "duration": 6,
    "start_time": "2022-11-17T04:16:57.084Z"
   },
   {
    "duration": 13,
    "start_time": "2022-11-17T04:16:57.092Z"
   },
   {
    "duration": 6,
    "start_time": "2022-11-17T04:16:57.106Z"
   },
   {
    "duration": 41,
    "start_time": "2022-11-17T04:16:57.114Z"
   },
   {
    "duration": 704,
    "start_time": "2022-11-17T04:16:57.157Z"
   },
   {
    "duration": 5,
    "start_time": "2022-11-17T04:16:57.863Z"
   },
   {
    "duration": 14,
    "start_time": "2022-11-17T04:16:57.870Z"
   },
   {
    "duration": 11185,
    "start_time": "2022-11-17T04:16:57.885Z"
   },
   {
    "duration": 4,
    "start_time": "2022-11-17T04:17:09.072Z"
   },
   {
    "duration": 8,
    "start_time": "2022-11-17T04:17:09.078Z"
   },
   {
    "duration": 770,
    "start_time": "2022-11-17T04:17:09.088Z"
   },
   {
    "duration": 93,
    "start_time": "2022-11-17T04:17:09.861Z"
   },
   {
    "duration": 101,
    "start_time": "2022-11-17T04:17:09.957Z"
   },
   {
    "duration": 23,
    "start_time": "2022-11-17T04:17:10.060Z"
   },
   {
    "duration": 746,
    "start_time": "2022-11-17T04:17:10.085Z"
   },
   {
    "duration": 11464,
    "start_time": "2022-11-17T04:17:10.833Z"
   },
   {
    "duration": 661,
    "start_time": "2022-11-17T04:17:22.299Z"
   },
   {
    "duration": 89,
    "start_time": "2022-11-17T04:17:22.965Z"
   },
   {
    "duration": 101,
    "start_time": "2022-11-17T04:17:23.057Z"
   },
   {
    "duration": 9,
    "start_time": "2022-11-17T04:17:23.160Z"
   },
   {
    "duration": 58,
    "start_time": "2022-11-17T04:17:23.172Z"
   },
   {
    "duration": 799,
    "start_time": "2022-11-17T04:17:23.231Z"
   },
   {
    "duration": 14123,
    "start_time": "2022-11-17T04:17:24.032Z"
   },
   {
    "duration": 603,
    "start_time": "2022-11-17T04:17:38.157Z"
   },
   {
    "duration": 93,
    "start_time": "2022-11-17T04:17:38.762Z"
   },
   {
    "duration": 96,
    "start_time": "2022-11-17T04:17:38.868Z"
   },
   {
    "duration": 15,
    "start_time": "2022-11-17T04:17:38.966Z"
   },
   {
    "duration": 481,
    "start_time": "2022-11-17T04:17:38.983Z"
   },
   {
    "duration": 7966,
    "start_time": "2022-11-17T04:17:39.465Z"
   },
   {
    "duration": 527,
    "start_time": "2022-11-17T04:17:47.433Z"
   },
   {
    "duration": 5,
    "start_time": "2022-11-17T04:17:48.052Z"
   },
   {
    "duration": 102,
    "start_time": "2022-11-17T04:17:48.059Z"
   },
   {
    "duration": 8,
    "start_time": "2022-11-17T04:17:48.163Z"
   },
   {
    "duration": 155,
    "start_time": "2022-11-17T04:17:48.173Z"
   },
   {
    "duration": 1954,
    "start_time": "2022-11-17T10:12:38.958Z"
   },
   {
    "duration": 98,
    "start_time": "2022-11-17T10:12:40.914Z"
   },
   {
    "duration": 15,
    "start_time": "2022-11-17T10:12:41.013Z"
   },
   {
    "duration": 20,
    "start_time": "2022-11-17T10:12:41.030Z"
   },
   {
    "duration": 179,
    "start_time": "2022-11-17T10:12:41.052Z"
   },
   {
    "duration": 6,
    "start_time": "2022-11-17T10:12:41.235Z"
   },
   {
    "duration": 167,
    "start_time": "2022-11-17T10:12:41.243Z"
   },
   {
    "duration": 24,
    "start_time": "2022-11-17T10:12:41.411Z"
   },
   {
    "duration": 16,
    "start_time": "2022-11-17T10:12:41.438Z"
   },
   {
    "duration": 6,
    "start_time": "2022-11-17T10:12:41.456Z"
   },
   {
    "duration": 7,
    "start_time": "2022-11-17T10:12:41.464Z"
   },
   {
    "duration": 12,
    "start_time": "2022-11-17T10:12:41.473Z"
   },
   {
    "duration": 38,
    "start_time": "2022-11-17T10:12:41.487Z"
   },
   {
    "duration": 21,
    "start_time": "2022-11-17T10:12:41.529Z"
   },
   {
    "duration": 711,
    "start_time": "2022-11-17T10:12:41.552Z"
   },
   {
    "duration": 4,
    "start_time": "2022-11-17T10:12:42.264Z"
   },
   {
    "duration": 11,
    "start_time": "2022-11-17T10:12:42.270Z"
   },
   {
    "duration": 11332,
    "start_time": "2022-11-17T10:12:42.283Z"
   },
   {
    "duration": 7,
    "start_time": "2022-11-17T10:12:53.616Z"
   },
   {
    "duration": 26,
    "start_time": "2022-11-17T10:12:53.625Z"
   },
   {
    "duration": 585,
    "start_time": "2022-11-17T10:12:53.653Z"
   },
   {
    "duration": 79,
    "start_time": "2022-11-17T10:12:54.242Z"
   },
   {
    "duration": 36,
    "start_time": "2022-11-17T10:12:54.324Z"
   },
   {
    "duration": 31,
    "start_time": "2022-11-17T10:12:54.362Z"
   },
   {
    "duration": 767,
    "start_time": "2022-11-17T10:12:54.396Z"
   },
   {
    "duration": 11648,
    "start_time": "2022-11-17T10:12:55.164Z"
   },
   {
    "duration": 511,
    "start_time": "2022-11-17T10:13:06.821Z"
   },
   {
    "duration": 11,
    "start_time": "2022-11-17T10:13:07.338Z"
   },
   {
    "duration": 38,
    "start_time": "2022-11-17T10:13:07.423Z"
   },
   {
    "duration": 28,
    "start_time": "2022-11-17T10:13:07.464Z"
   },
   {
    "duration": 50,
    "start_time": "2022-11-17T10:13:07.494Z"
   },
   {
    "duration": 844,
    "start_time": "2022-11-17T10:13:07.546Z"
   },
   {
    "duration": 14620,
    "start_time": "2022-11-17T10:13:08.392Z"
   },
   {
    "duration": 903,
    "start_time": "2022-11-17T10:13:23.021Z"
   },
   {
    "duration": 4,
    "start_time": "2022-11-17T10:13:23.926Z"
   },
   {
    "duration": 121,
    "start_time": "2022-11-17T10:13:23.933Z"
   },
   {
    "duration": 41,
    "start_time": "2022-11-17T10:13:24.056Z"
   },
   {
    "duration": 579,
    "start_time": "2022-11-17T10:13:24.100Z"
   },
   {
    "duration": 8128,
    "start_time": "2022-11-17T10:13:24.681Z"
   },
   {
    "duration": 313,
    "start_time": "2022-11-17T10:13:32.810Z"
   },
   {
    "duration": 9,
    "start_time": "2022-11-17T10:13:33.132Z"
   },
   {
    "duration": 101,
    "start_time": "2022-11-17T10:13:33.146Z"
   },
   {
    "duration": 15,
    "start_time": "2022-11-17T10:13:33.249Z"
   },
   {
    "duration": 161,
    "start_time": "2022-11-17T10:13:33.266Z"
   },
   {
    "duration": 70,
    "start_time": "2022-11-17T10:54:18.990Z"
   },
   {
    "duration": 53,
    "start_time": "2022-11-17T12:11:13.690Z"
   },
   {
    "duration": 1697,
    "start_time": "2022-11-17T12:11:30.024Z"
   },
   {
    "duration": 198,
    "start_time": "2022-11-17T12:11:31.724Z"
   },
   {
    "duration": 7,
    "start_time": "2022-11-17T12:11:31.924Z"
   },
   {
    "duration": 150,
    "start_time": "2022-11-17T12:11:31.933Z"
   },
   {
    "duration": 4,
    "start_time": "2022-11-17T12:11:32.084Z"
   },
   {
    "duration": 165,
    "start_time": "2022-11-17T12:11:32.089Z"
   },
   {
    "duration": 24,
    "start_time": "2022-11-17T12:11:32.255Z"
   },
   {
    "duration": 10,
    "start_time": "2022-11-17T12:11:32.281Z"
   },
   {
    "duration": 10,
    "start_time": "2022-11-17T12:11:32.293Z"
   },
   {
    "duration": 5,
    "start_time": "2022-11-17T12:11:32.307Z"
   },
   {
    "duration": 20,
    "start_time": "2022-11-17T12:11:32.314Z"
   },
   {
    "duration": 8,
    "start_time": "2022-11-17T12:11:32.336Z"
   },
   {
    "duration": 35,
    "start_time": "2022-11-17T12:11:32.346Z"
   },
   {
    "duration": 633,
    "start_time": "2022-11-17T12:11:32.384Z"
   },
   {
    "duration": 3,
    "start_time": "2022-11-17T12:11:33.019Z"
   },
   {
    "duration": 14,
    "start_time": "2022-11-17T12:11:33.025Z"
   },
   {
    "duration": 10189,
    "start_time": "2022-11-17T12:11:33.041Z"
   },
   {
    "duration": 3,
    "start_time": "2022-11-17T12:11:43.232Z"
   },
   {
    "duration": 9,
    "start_time": "2022-11-17T12:11:43.237Z"
   },
   {
    "duration": 1041,
    "start_time": "2022-11-17T12:11:43.248Z"
   },
   {
    "duration": 87,
    "start_time": "2022-11-17T12:11:44.291Z"
   },
   {
    "duration": 4,
    "start_time": "2022-11-17T12:11:44.380Z"
   },
   {
    "duration": 98,
    "start_time": "2022-11-17T12:11:44.386Z"
   },
   {
    "duration": 632,
    "start_time": "2022-11-17T12:11:44.485Z"
   },
   {
    "duration": 10042,
    "start_time": "2022-11-17T12:11:45.118Z"
   },
   {
    "duration": 918,
    "start_time": "2022-11-17T12:11:55.161Z"
   },
   {
    "duration": 6,
    "start_time": "2022-11-17T12:11:56.082Z"
   },
   {
    "duration": 6,
    "start_time": "2022-11-17T12:11:56.177Z"
   },
   {
    "duration": 10,
    "start_time": "2022-11-17T12:11:56.185Z"
   },
   {
    "duration": 18,
    "start_time": "2022-11-17T12:11:56.197Z"
   },
   {
    "duration": 744,
    "start_time": "2022-11-17T12:11:56.217Z"
   },
   {
    "duration": 13165,
    "start_time": "2022-11-17T12:11:56.963Z"
   },
   {
    "duration": 555,
    "start_time": "2022-11-17T12:12:10.131Z"
   },
   {
    "duration": 89,
    "start_time": "2022-11-17T12:12:10.688Z"
   },
   {
    "duration": 98,
    "start_time": "2022-11-17T12:12:10.779Z"
   },
   {
    "duration": 19,
    "start_time": "2022-11-17T12:12:10.879Z"
   },
   {
    "duration": 433,
    "start_time": "2022-11-17T12:12:10.899Z"
   },
   {
    "duration": 7148,
    "start_time": "2022-11-17T12:12:11.334Z"
   },
   {
    "duration": 193,
    "start_time": "2022-11-17T12:12:18.484Z"
   },
   {
    "duration": 99,
    "start_time": "2022-11-17T12:12:18.679Z"
   },
   {
    "duration": 11,
    "start_time": "2022-11-17T12:12:18.780Z"
   },
   {
    "duration": 14,
    "start_time": "2022-11-17T12:12:18.793Z"
   },
   {
    "duration": 154,
    "start_time": "2022-11-17T12:12:18.809Z"
   },
   {
    "duration": 140,
    "start_time": "2022-11-17T12:42:17.244Z"
   },
   {
    "duration": 153,
    "start_time": "2022-11-17T12:42:52.533Z"
   },
   {
    "duration": 4,
    "start_time": "2022-11-17T12:48:23.746Z"
   },
   {
    "duration": 71,
    "start_time": "2022-11-17T12:48:23.752Z"
   },
   {
    "duration": 7,
    "start_time": "2022-11-17T12:48:23.849Z"
   },
   {
    "duration": 162,
    "start_time": "2022-11-17T12:48:23.858Z"
   },
   {
    "duration": 3,
    "start_time": "2022-11-17T12:48:24.022Z"
   },
   {
    "duration": 168,
    "start_time": "2022-11-17T12:48:24.027Z"
   },
   {
    "duration": 12,
    "start_time": "2022-11-17T12:48:24.198Z"
   },
   {
    "duration": 9,
    "start_time": "2022-11-17T12:48:24.212Z"
   },
   {
    "duration": 6,
    "start_time": "2022-11-17T12:48:24.222Z"
   },
   {
    "duration": 11,
    "start_time": "2022-11-17T12:48:24.229Z"
   },
   {
    "duration": 46,
    "start_time": "2022-11-17T12:48:24.242Z"
   },
   {
    "duration": 11,
    "start_time": "2022-11-17T12:48:24.292Z"
   },
   {
    "duration": 11,
    "start_time": "2022-11-17T12:48:24.305Z"
   },
   {
    "duration": 677,
    "start_time": "2022-11-17T12:48:24.317Z"
   },
   {
    "duration": 5,
    "start_time": "2022-11-17T12:48:24.997Z"
   },
   {
    "duration": 17,
    "start_time": "2022-11-17T12:48:25.004Z"
   },
   {
    "duration": 10621,
    "start_time": "2022-11-17T12:48:25.022Z"
   },
   {
    "duration": 4,
    "start_time": "2022-11-17T12:48:35.644Z"
   },
   {
    "duration": 7,
    "start_time": "2022-11-17T12:48:35.649Z"
   },
   {
    "duration": 2337,
    "start_time": "2022-11-17T12:48:35.658Z"
   },
   {
    "duration": 90,
    "start_time": "2022-11-17T12:48:38.003Z"
   },
   {
    "duration": 26,
    "start_time": "2022-11-17T12:48:38.184Z"
   },
   {
    "duration": 6,
    "start_time": "2022-11-17T12:48:38.212Z"
   },
   {
    "duration": 718,
    "start_time": "2022-11-17T12:48:38.220Z"
   },
   {
    "duration": 11347,
    "start_time": "2022-11-17T12:48:38.940Z"
   },
   {
    "duration": 1207,
    "start_time": "2022-11-17T12:48:50.289Z"
   },
   {
    "duration": 11,
    "start_time": "2022-11-17T12:48:51.575Z"
   },
   {
    "duration": 108,
    "start_time": "2022-11-17T12:48:51.592Z"
   },
   {
    "duration": 12,
    "start_time": "2022-11-17T12:48:51.703Z"
   },
   {
    "duration": 33,
    "start_time": "2022-11-17T12:48:51.718Z"
   },
   {
    "duration": 764,
    "start_time": "2022-11-17T12:48:51.752Z"
   },
   {
    "duration": 13422,
    "start_time": "2022-11-17T12:48:52.518Z"
   },
   {
    "duration": 2134,
    "start_time": "2022-11-17T12:49:05.942Z"
   },
   {
    "duration": 4,
    "start_time": "2022-11-17T12:49:08.079Z"
   },
   {
    "duration": 106,
    "start_time": "2022-11-17T12:49:08.085Z"
   },
   {
    "duration": 25,
    "start_time": "2022-11-17T12:49:08.195Z"
   },
   {
    "duration": 414,
    "start_time": "2022-11-17T12:49:08.222Z"
   },
   {
    "duration": 7605,
    "start_time": "2022-11-17T12:49:08.637Z"
   },
   {
    "duration": 1549,
    "start_time": "2022-11-17T12:49:16.245Z"
   },
   {
    "duration": 87,
    "start_time": "2022-11-17T12:49:17.796Z"
   },
   {
    "duration": 110,
    "start_time": "2022-11-17T12:49:17.894Z"
   },
   {
    "duration": 11,
    "start_time": "2022-11-17T12:49:18.006Z"
   },
   {
    "duration": 160,
    "start_time": "2022-11-17T12:49:18.018Z"
   }
  ],
  "kernelspec": {
   "display_name": "Python 3 (ipykernel)",
   "language": "python",
   "name": "python3"
  },
  "language_info": {
   "codemirror_mode": {
    "name": "ipython",
    "version": 3
   },
   "file_extension": ".py",
   "mimetype": "text/x-python",
   "name": "python",
   "nbconvert_exporter": "python",
   "pygments_lexer": "ipython3",
   "version": "3.10.9"
  },
  "toc": {
   "base_numbering": 1,
   "nav_menu": {},
   "number_sections": true,
   "sideBar": true,
   "skip_h1_title": true,
   "title_cell": "Содержание",
   "title_sidebar": "Contents",
   "toc_cell": true,
   "toc_position": {},
   "toc_section_display": true,
   "toc_window_display": true
  }
 },
 "nbformat": 4,
 "nbformat_minor": 2
}
